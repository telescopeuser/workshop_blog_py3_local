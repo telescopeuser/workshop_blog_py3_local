{
 "cells": [
  {
   "cell_type": "markdown",
   "metadata": {},
   "source": [
    "Firstly, please open this README document using your own web browser: https://github.com/telescopeuser/workshop_blog\n",
    "\n",
    "\n",
    "### 配套视频教程的链接:\n",
    "\n",
    "[<img align=\"right\" src='wechat_tool/reference/video_tn1.jpg' width=40%>](https://youtu.be/W-ZsWqcl1_c \"Click to play...\")\n",
    "\n",
    "YouTube\n",
    "* [第一课] https://youtu.be/W-ZsWqcl1_c\n",
    "* [第二课] https://youtu.be/FPgo-hI7OiE\n",
    "* [第三课] https://youtu.be/yZV-XCSmWQY\n",
    "* [第四课] https://youtu.be/4m44aPkLY2k\n",
    "* [第五课] https://youtu.be/leVZjVahdKs\n",
    "* [第六课] [To be announced]\n",
    "\n",
    "\n",
    "优酷 [To be announced]\n"
   ]
  },
  {
   "cell_type": "markdown",
   "metadata": {},
   "source": [
    "# [ 零基础系列教程 ] 如何开发微信聊天机器人并集成深度人工智能应用\n",
    "# Workshop series: How to embed advanced machine intelligence into a chatbot for social media App WeChat, using Google cloud and machine learning APIs"
   ]
  },
  {
   "cell_type": "markdown",
   "metadata": {
    "collapsed": true
   },
   "source": [
    "### WeChat is a popular social media app, which has more than 800 million monthly active users.\n",
    "\n",
    "<img align=\"right\" src='wechat_tool/reference/logo.png' width=12%>\n",
    "\n",
    "<img align=\"right\" src='wechat_tool/reference/WeChat_SamGu_QR.png' width=10%>\n",
    "\n",
    "http://www.KudosData.com\n",
    "\n",
    "by: **Sam Gu** [ Data Science Trainer @ 酷豆数据科学 ]\n",
    "\n",
    "\n",
    "April 2017  ====== Scan the QR code to add me in WeChat ====>>\n"
   ]
  },
  {
   "cell_type": "markdown",
   "metadata": {},
   "source": [
    "<img src='wechat_tool/reference/WeChat.png' width=100% style=\"float: left;\">"
   ]
  },
  {
   "cell_type": "markdown",
   "metadata": {},
   "source": [
    "Acknowledgement\n",
    "* 谷歌提供的云平台和机器智能引擎：https://cloud.google.com/products/machine-learning/\n",
    "* ItChat工作组提供的微信程序接口：https://github.com/littlecodersh/ItChat"
   ]
  },
  {
   "cell_type": "markdown",
   "metadata": {},
   "source": [
    "---"
   ]
  },
  {
   "cell_type": "markdown",
   "metadata": {},
   "source": [
    "## 1. 教程大纲 Workshop Content"
   ]
  },
  {
   "cell_type": "markdown",
   "metadata": {
    "collapsed": true
   },
   "source": [
    "### 第一课：微信问答机制使用基础\n",
    "### Lesson 1: Basic usage of WeChat Python API\n",
    "* 使用和开发微信个人号聊天机器人：一种Python编程接口 (Use WeChat Python API)\n",
    "* 用微信App \"扫一扫\" QR码图片来自动登录 (Log-in WeChat account)\n",
    "* 查找指定联系人或群聊 (Scan contact list)\n",
    "* 发送信息（文字、图片、文件、音频、视频等） (Send message: text, image, file, voice, video, etc)\n",
    "* 接收信息 (Receive message, and keep 'listening')\n",
    "* 自动回复 (Receive message and then automaticaly reply)\n",
    "* 自定义复杂消息处理，例如：信息存档、回复群聊中被@的消息 (Advanced message processing and reply)"
   ]
  },
  {
   "cell_type": "markdown",
   "metadata": {},
   "source": [
    "### 第二课：图像识别和处理\n",
    "### Lesson 2: Image Recognition & Processing\n",
    "\n",
    "* 识别图片消息中的物体名字 (Recognize objects in image)\n",
    "        [1] 物体名 (General Object)\n",
    "        [2] 地标名 (Landmark Object)\n",
    "        [3] 商标名 (Logo Object)\n",
    "\n",
    "* 识别图片消息中的文字 (OCR: Extract text from image)\n",
    "        包含简单文本翻译 (Call text translation API)\n",
    "        \n",
    "* 识别人脸 (Recognize human face)\n",
    "        基于人脸的表情来识别喜怒哀乐等情绪 (Identify sentiment and emotion from human face)\n",
    "\n",
    "* 不良内容识别 (Explicit Content Detection)\n"
   ]
  },
  {
   "cell_type": "markdown",
   "metadata": {},
   "source": [
    "### 第三课：自然语言处理：语音合成和识别\n",
    "### Lesson 3: Natural Language Processing 1\n",
    "* 消息文字转成语音 (Speech synthesis: text to voice)\n",
    "* 语音转换成消息文字 (Speech recognition: voice to text)\n",
    "* 消息文字的多语言互译 (Text based language translation)"
   ]
  },
  {
   "cell_type": "markdown",
   "metadata": {},
   "source": [
    "### 第四课：自然语言处理：语义和情感分析\n",
    "### Lesson 4: Natural Language Processing 2\n",
    "* 消息文字中名称实体的识别 (Name-Entity detection)\n",
    "* 消息文字中语句的情感分析 (Sentiment analysis, Sentence level)\n",
    "* 整篇消息文字的情感分析 (Sentiment analysis, Document level)\n",
    "* 语句的语法分析 (Syntax / Grammar analysis)"
   ]
  },
  {
   "cell_type": "markdown",
   "metadata": {},
   "source": [
    "### 第五课：视频识别和处理\n",
    "### Lesson 5: Video Recognition & Processing\n",
    "* 识别视频的场景片段 (Detect shots change in video)\n",
    "* 识别视频消息中的物体名字 (Recognize objects in video/shots)\n",
    "* 直接搜索视频内容 (Search content in video)"
   ]
  },
  {
   "cell_type": "markdown",
   "metadata": {},
   "source": [
    "### 第六课：互动智能机器人应用\n",
    "### Lesson 6: Intelligent & Interactive Chat-bot Applications\n",
    "* 多语言翻译器 (Language translator)\n",
    "* 图文多媒体的订阅和点播 (Multi-media broadcast & on-demand subscription)\n",
    "* 文章的概括和缩写 (Automatic article summary)\n",
    "* 不良图片的识别；不良视频片段的自动识别和定位 (Explicit content detector: i.e. adult content or violent content)\n",
    "* 基于商品图片的搜索和商家价格比较 (Best retail price finder using an image of goods)"
   ]
  },
  {
   "cell_type": "markdown",
   "metadata": {},
   "source": [
    "---"
   ]
  },
  {
   "cell_type": "markdown",
   "metadata": {},
   "source": [
    "## 2. 开发环境安装"
   ]
  },
  {
   "cell_type": "markdown",
   "metadata": {},
   "source": [
    "### 选择1：下载使用虚拟机\n",
    "### Option 1: Use a Virtual Machine to run in your own computer (Difficulty level: Easy, like being a boss)\n",
    "* Download a pre-configurated Ubuntu Linux virtual machine (25 GB size), which contains all environment setup: https://github.com/telescopeuser/iss-vm\n",
    "* Start the VM using Virtualbox. Free Virtualbox download: https://www.virtualbox.org/wiki/Downloads\n",
    "* Click **iss-env-py3 Jupyter** icon on desktop to start Jupyter Notebook\n",
    "* Choose your favorite file folder, then git clone/pull workshop_blog notebooks from Github: https://github.com/telescopeuser/workshop_blog.git"
   ]
  },
  {
   "cell_type": "markdown",
   "metadata": {},
   "source": [
    "<img src='https://raw.githubusercontent.com/telescopeuser/iss-vm/master/iss-vm-s6.png' width=100% style=\"float: left;\">"
   ]
  },
  {
   "cell_type": "markdown",
   "metadata": {},
   "source": [
    "On desktop, click 'Solution WeChat Software Robot' to start the quick demo in terminal, or manually start by command:\n",
    "\n",
    "$ python workshop_blog/wechat_tool/terminal-script-py/lesson_1_terminal_py3.py\n",
    "\n"
   ]
  },
  {
   "cell_type": "markdown",
   "metadata": {},
   "source": [
    "<img src='wechat_tool/reference/lesson_1_terminal_py3.py-chat-log.png' width=100% style=\"float: left;\">"
   ]
  },
  {
   "cell_type": "markdown",
   "metadata": {},
   "source": [
    "### 选择2：使用云平台\n",
    "### Option 2: Use Cloud Platform (Difficulty level: Medium, as nudging your colleague)\n",
    "Create an account in Google Cloud Platform (GCP)\n",
    "* Complete GCP Registration: https://cloud.google.com/free/ <--- In case you are lost here, quick guide: https://cloud.google.com/getting-started/\n",
    "* Go to GCP Console: https://console.cloud.google.com/home\n",
    "* Create a new project: \n",
    "  > project id: **kudosdata01** [This is uniquie GCP project-id, which you MUST change to your own id.]\n",
    "\n",
    "  > project name: **kudosdata01** [You MAY change to your own name.]\n",
    "\n",
    "  > zone: **asia-east1-b** [Choose a data center near your location.]\n",
    "  \n",
    "* Enable GCP Compute Engine API for new project, using GCP API Manager\n",
    "\n",
    "Start Datalab (Jupyter python notebook) using Cloud Shell\n",
    "* Create/Connect a GCP Compute Engine virtual machine to use Datalab: **kudosdata01-vm-datalab-workshop** <--- In case you are lost here, quick guide: https://cloud.google.com/datalab/docs/quickstarts\n",
    "  \n",
    "  > gcloud projects list\n",
    "  \n",
    "  > gcloud config set core/project **kudosdata01** [your own unique project-id]\n",
    "  \n",
    "  > gcloud config set compute/zone **asia-east1-b**\n",
    "\n",
    "  > datalab create **kudosdata01-vm-datalab-workshop** --zone **asia-east1-b** [1st time for creation]\n",
    "\n",
    "  > datalab connect **kudosdata01-vm-datalab-workshop** [2nd time for connection]\n",
    "\n",
    "  > datalab stop **kudosdata01-vm-datalab-workshop** [stop VM after use]        \n",
    "* Open Datalab in web browser, then create a new notebook from datalab folder, then run below two command in notebook cell:\n",
    "\n",
    "  > !git clone https://github.com/telescopeuser/workshop_blog.git\n",
    "\n",
    "  > %load workshop_blog/setup_cloud.py\n",
    "        "
   ]
  },
  {
   "cell_type": "markdown",
   "metadata": {},
   "source": [
    "### 选择3：本地电脑安装\n",
    "### Option 3: Use your own computer (Difficulty level: High, as what you normally do)\n",
    "* Install Anaconda3 (This software includes many useful tools: Python3, Jupyter Notebook, pip) https://www.continuum.io/downloads\n",
    "* Install Git & Git Bash https://git-scm.com/downloads\n",
    "* Install WeChat API package for Anaconda / python\n",
    "\n",
    "  > pip install -U html\n",
    "  \n",
    "  > pip install -U qrcode\n",
    "  \n",
    "  > pip install -U itchat\n",
    "  \n",
    "* Download workshop python notebook code from Github: https://github.com/telescopeuser/workshop_blog.git\n",
    "* Start Jupyter Notebook (Here I use Git Bash command line tool)\n",
    "* Open a web browser if it's not started automatically. Go to url: http://localhost/tree"
   ]
  },
  {
   "cell_type": "markdown",
   "metadata": {},
   "source": [
    "---"
   ]
  },
  {
   "cell_type": "markdown",
   "metadata": {
    "collapsed": true
   },
   "source": [
    "## 3. 恭喜您！安装成功了！下一步进入具体课程和实战操作，请打开第一课的笔记本。 Congratulations! After completing one of the installation options, you are now ready to rock! Go to GCP Datalab folder: workshop_blog/wechat_tool, open Notebook and follow...\n",
    "\n",
    "<img src='./wechat_tool/reference/setup_ref_01.png' width=100% style=\"float: left;\">"
   ]
  },
  {
   "cell_type": "markdown",
   "metadata": {},
   "source": [
    "### [ March 2018 ] What am I doing now?\n",
    "\n",
    "Most time in thinking 'where to have lunch' while lecturing in Institute of Systems Science, National University of Singapore:\n",
    "\n",
    "https://www.iss.nus.edu.sg/about-us/staff/detail/201/Sam%20GU"
   ]
  },
  {
   "cell_type": "markdown",
   "metadata": {},
   "source": [
    "<img src='./wechat_tool/reference/WeChat_SamGu_Profile.png' width=100% style=\"float: left;\">"
   ]
  },
  {
   "cell_type": "markdown",
   "metadata": {},
   "source": [
    "## 欢迎报考 新加坡国立大学 人工智能 硕士学位 !\n",
    "## Welcome to pursue Artificial Intelligence master degree from National University of Singapore !"
   ]
  },
  {
   "cell_type": "markdown",
   "metadata": {},
   "source": [
    "<img src='wechat_tool/reference/DontPanic.jpg' width=100% style=\"float: left;\">"
   ]
  },
  {
   "cell_type": "markdown",
   "metadata": {},
   "source": [
    "Image stolen from: https://www.lifegate.it/persone/stile-di-vita/falcon-heavy"
   ]
  },
  {
   "cell_type": "markdown",
   "metadata": {},
   "source": [
    "> *DON'T PANIC!*\n",
    "\n",
    "> *The History of every major Galactic Civilization tends to pass through three distinct and recognizable phases, those of Survival, Inquiry and Sophistication, otherwise known as the How, Why, and Where phases. For instance, the first phase is characterized by the question 'How can we eat?' the second by the question 'Why do we eat?' and the third by the question 'Where shall we have lunch?'*\n",
    "\n",
    "> *from < The Restaurant at the End of the Universe > & < The Hitchhiker's Guide to the Galaxy > by Douglas Adams*"
   ]
  }
 ],
 "metadata": {
  "kernelspec": {
   "display_name": "Python 3",
   "language": "python",
   "name": "python3"
  },
  "language_info": {
   "codemirror_mode": {
    "name": "ipython",
    "version": 3
   },
   "file_extension": ".py",
   "mimetype": "text/x-python",
   "name": "python",
   "nbconvert_exporter": "python",
   "pygments_lexer": "ipython3",
   "version": "3.6.4"
  }
 },
 "nbformat": 4,
 "nbformat_minor": 1
}
