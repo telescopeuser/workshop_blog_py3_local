{
 "cells": [
  {
   "cell_type": "code",
   "execution_count": 1,
   "metadata": {
    "collapsed": false
   },
   "outputs": [
    {
     "name": "stdout",
     "output_type": "stream",
     "text": [
      "remote: Counting objects: 35, done.\u001b[K\n",
      "remote: Compressing objects: 100% (21/21), done.\u001b[K\n",
      "remote: Total 35 (delta 26), reused 23 (delta 14), pack-reused 0\u001b[K\n",
      "Unpacking objects: 100% (35/35), done.\n",
      "From https://github.com/telescopeuser/workshop_blog\n",
      "   de8d455..1614fa8  master     -> origin/master\n",
      "Updating de8d455..1614fa8\n",
      "Fast-forward\n",
      " README.ipynb                                      |   20 \u001b[32m+\u001b[m\u001b[31m-\u001b[m\n",
      " README.md                                         |   10 \u001b[32m+\u001b[m\u001b[31m-\u001b[m\n",
      " wechat_tool/lesson_1.ipynb                        |   45 \u001b[32m+\u001b[m\u001b[31m-\u001b[m\n",
      " wechat_tool/lesson_2.ipynb                        |   38 \u001b[32m+\u001b[m\u001b[31m-\u001b[m\n",
      " wechat_tool/lesson_3.ipynb                        |   53 \u001b[32m+\u001b[m\u001b[31m-\u001b[m\n",
      " wechat_tool/lesson_4.ipynb                        | 2366 \u001b[32m+++++++++++\u001b[m\u001b[31m----------\u001b[m\n",
      " wechat_tool/lesson_5.ipynb                        | 2179 \u001b[32m++++++++++++++++++\u001b[m\u001b[31m-\u001b[m\n",
      " wechat_tool/reference/SampleVideo_360x240_1mb.mp4 |  Bin \u001b[31m0\u001b[m -> \u001b[32m1053651\u001b[m bytes\n",
      " wechat_tool/reference/SampleVideo_360x240_2mb.mp4 |  Bin \u001b[31m0\u001b[m -> \u001b[32m2100396\u001b[m bytes\n",
      " wechat_tool/reference/video_tn1.jpg               |  Bin \u001b[31m0\u001b[m -> \u001b[32m231183\u001b[m bytes\n",
      " wechat_tool/reference/video_tn3.jpg               |  Bin \u001b[31m257830\u001b[m -> \u001b[32m0\u001b[m bytes\n",
      " 11 files changed, 3500 insertions(+), 1211 deletions(-)\n",
      " create mode 100644 wechat_tool/reference/SampleVideo_360x240_1mb.mp4\n",
      " create mode 100644 wechat_tool/reference/SampleVideo_360x240_2mb.mp4\n",
      " create mode 100644 wechat_tool/reference/video_tn1.jpg\n",
      " delete mode 100644 wechat_tool/reference/video_tn3.jpg\n"
     ]
    }
   ],
   "source": [
    "!git pull"
   ]
  },
  {
   "cell_type": "code",
   "execution_count": 2,
   "metadata": {
    "collapsed": false
   },
   "outputs": [
    {
     "name": "stdout",
     "output_type": "stream",
     "text": [
      "Already up-to-date.\r\n"
     ]
    }
   ],
   "source": [
    "!git pull"
   ]
  },
  {
   "cell_type": "code",
   "execution_count": null,
   "metadata": {
    "collapsed": true
   },
   "outputs": [],
   "source": [
    "%load setup_cloud.py"
   ]
  },
  {
   "cell_type": "code",
   "execution_count": null,
   "metadata": {
    "collapsed": true
   },
   "outputs": [],
   "source": []
  }
 ],
 "metadata": {
  "kernelspec": {
   "display_name": "Python 2",
   "language": "python",
   "name": "python2"
  },
  "language_info": {
   "codemirror_mode": {
    "name": "ipython",
    "version": 2
   },
   "file_extension": ".py",
   "mimetype": "text/x-python",
   "name": "python",
   "nbconvert_exporter": "python",
   "pygments_lexer": "ipython2",
   "version": "2.7.9"
  }
 },
 "nbformat": 4,
 "nbformat_minor": 2
}
