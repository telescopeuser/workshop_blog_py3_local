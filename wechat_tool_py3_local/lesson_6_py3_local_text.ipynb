{
 "cells": [
  {
   "cell_type": "markdown",
   "metadata": {},
   "source": [
    "<img src='https://www.iss.nus.edu.sg/Sitefinity/WebsiteTemplates/ISS/App_Themes/ISS/Images/branding-iss.png' width=15% style=\"float: right;\">\n",
    "<img src='https://www.iss.nus.edu.sg/Sitefinity/WebsiteTemplates/ISS/App_Themes/ISS/Images/branding-nus.png' width=15% style=\"float: right;\">\n"
   ]
  },
  {
   "cell_type": "markdown",
   "metadata": {},
   "source": [
    "---"
   ]
  },
  {
   "cell_type": "code",
   "execution_count": 1,
   "metadata": {},
   "outputs": [
    {
     "data": {
      "text/html": [
       "\n",
       "        <iframe\n",
       "            width=\"400\"\n",
       "            height=\"300\"\n",
       "            src=\"https://www.youtube.com/embed/TBD\"\n",
       "            frameborder=\"0\"\n",
       "            allowfullscreen\n",
       "        ></iframe>\n",
       "        "
      ],
      "text/plain": [
       "<IPython.lib.display.YouTubeVideo at 0x7fd9cc544b00>"
      ]
     },
     "execution_count": 1,
     "metadata": {},
     "output_type": "execute_result"
    }
   ],
   "source": [
    "import IPython.display\n",
    "IPython.display.YouTubeVideo('TBD')"
   ]
  },
  {
   "cell_type": "markdown",
   "metadata": {},
   "source": [
    "# 如何使用和开发微信聊天机器人的系列教程\n",
    "# A workshop to develop & use an intelligent and interactive chat-bot in WeChat"
   ]
  },
  {
   "cell_type": "markdown",
   "metadata": {},
   "source": [
    "### WeChat is a popular social media app, which has more than 800 million monthly active users.\n",
    "\n",
    "<img src='https://www.iss.nus.edu.sg/images/default-source/About-Us/7.6.1-teaching-staff/sam-website.tmb-.png' width=8% style=\"float: right;\">\n",
    "<img src='reference/WeChat_SamGu_QR.png' width=10% style=\"float: right;\">\n",
    "\n",
    "\n",
    "by: GU Zhan (Sam)\n",
    "\n",
    "\n",
    "October 2018 : Update to support Python 3 in local machine, e.g. iss-vm.\n",
    "\n",
    "\n",
    "April 2017 ======= Scan the QR code to become trainer's friend in WeChat =====>>"
   ]
  },
  {
   "cell_type": "markdown",
   "metadata": {},
   "source": [
    "### 第六课：交互式虚拟助手的智能应用\n",
    "### Lesson 6: Interactive Conversatioinal Virtual Assistant Applications / Intelligent Process Automations\n",
    "* 虚拟员工: 贷款填表申请审批一条龙自动化流程 （Virtual Worker: When Chat-bot meets RPA-bot for mortgage loan application automation) \n",
    "* 虚拟员工: 文字指令交互（Conversational automation using text/message command) \n",
    "* 虚拟员工: 语音指令交互（Conversational automation using speech/voice command) \n",
    "* 虚拟员工: 多种语言交互（Conversational automation with multiple languages)"
   ]
  },
  {
   "cell_type": "markdown",
   "metadata": {},
   "source": [
    "### 第六课：交互式虚拟助手的智能应用\n",
    "### Lesson 6: Interactive Conversatioinal Virtual Assistant Applications / Intelligent Process Automations\n",
    "* 虚拟员工: 贷款填表申请审批一条龙自动化流程 （Virtual Worker: When Chat-bot meets RPA-bot for mortgage loan application automation) \n",
    "* 虚拟员工: 文字指令交互（Conversational automation using text/message command) \n",
    "* 虚拟员工: 语音指令交互（Conversational automation using speech/voice command) \n",
    "* 虚拟员工: 多种语言交互（Conversational automation with multiple languages)"
   ]
  },
  {
   "cell_type": "markdown",
   "metadata": {},
   "source": [
    "### Using Google Cloud Platform's Machine Learning APIs"
   ]
  },
  {
   "cell_type": "markdown",
   "metadata": {},
   "source": [
    "From the same API console, choose \"Dashboard\" on the left-hand menu and \"Enable API\".\n",
    "\n",
    "Enable the following APIs for your project (search for them) if they are not already enabled:\n",
    "<ol>\n",
    "**<li> Google Cloud Speech API </li>**\n",
    "**<li> Google Cloud Text-to-Speech API </li>**\n",
    "**<li> Google Cloud Translation API </li>**\n",
    "</ol>\n",
    "\n",
    "Finally, because we are calling the APIs from Python (clients in many other languages are available), let's install the Python package (it's not installed by default on Datalab)"
   ]
  },
  {
   "cell_type": "code",
   "execution_count": 2,
   "metadata": {
    "scrolled": false
   },
   "outputs": [],
   "source": [
    "# Copyright 2016 Google Inc. Licensed under the Apache License, Version 2.0 (the \"License\"); \n",
    "# !pip install --upgrade google-api-python-client"
   ]
  },
  {
   "cell_type": "markdown",
   "metadata": {},
   "source": [
    "---"
   ]
  },
  {
   "cell_type": "markdown",
   "metadata": {},
   "source": [
    "## <span style=\"color:blue\">Virtual Worker: When Chat-bot meets RPA-bot</span> \n"
   ]
  },
  {
   "cell_type": "markdown",
   "metadata": {},
   "source": [
    "## 虚拟员工: 贷款填表申请审批一条龙自动化流程 （Mortgage loan application automation)"
   ]
  },
  {
   "cell_type": "markdown",
   "metadata": {},
   "source": [
    "### Synchronous processing when triggering RPA-Bot"
   ]
  },
  {
   "cell_type": "code",
   "execution_count": 3,
   "metadata": {},
   "outputs": [],
   "source": [
    "# Library/Function to use operating system's shell script command, e.g. bash, echo, cd, pwd, etc\n",
    "import subprocess"
   ]
  },
  {
   "cell_type": "code",
   "execution_count": 7,
   "metadata": {},
   "outputs": [],
   "source": [
    "# Funciton to trigger RPA-Bot (TagUI script: mortgage loan application automation) from VA-Bot (python script)\n",
    "# Trigger RPA-Bot [ Synchronous  ]\n",
    "def didi_invoke_rpa_bot(rpa_bot_file, rpa_bot = 'reference/S-IPA-Workshop/TagUI-S-IPA/src/tagui'):\n",
    "\n",
    "# Invoke RPA-Bot script\n",
    "    print('[ W I P ] In progress to invoke RPA-Bot using command: \\n{}'.format(\n",
    "            'bash' + ' ' + rpa_bot + ' ' + rpa_bot_file))\n",
    "    \n",
    "    return_code = subprocess.call(['bash', rpa_bot, rpa_bot_file])\n",
    "    \n",
    "    if return_code == 0:\n",
    "        print('[  O K  ] RPA-Bot succeeded! [ Return Code : {} ]'.format(return_code))\n",
    "    else:\n",
    "        print('[ ERROR ] RPA-Bot failed! [ Return Code : {} ]'.format(return_code))\n",
    "\n",
    "    return return_code"
   ]
  },
  {
   "cell_type": "code",
   "execution_count": 8,
   "metadata": {},
   "outputs": [],
   "source": [
    "# Uncomment below lines for an agile demo outside Chat-bot:\n",
    "# rpa_bot_file = reference/S-IPA-Workshop/workshop3/VisualAutomation/KIE-Loan-Applicaiton-VA-Serverless/VA-KIE-Loan-Applicaiton.txt\n",
    "# return_code = didi_invoke_rpa_bot(rpa_bot_file)"
   ]
  },
  {
   "cell_type": "markdown",
   "metadata": {},
   "source": [
    "### Asynchronous processing when triggering RPA-Bot"
   ]
  },
  {
   "cell_type": "code",
   "execution_count": 10,
   "metadata": {},
   "outputs": [],
   "source": [
    "# Trigger RPA-Bot [ Asynchronous  ]\n",
    "# http://docs.dask.org/en/latest/_downloads/daskcheatsheet.pdf\n",
    "from dask.distributed import Client\n",
    "\n",
    "def didi_invoke_rpa_bot_async(rpa_bot_file):\n",
    "    client = Client()\n",
    "    ipa_task = client.submit(didi_invoke_rpa_bot, rpa_bot_file)\n",
    "    ipa_task.add_done_callback(didi_invoke_rpa_bot_async_upon_completion)\n",
    "    return 0\n",
    "\n",
    "def didi_invoke_rpa_bot_async_upon_completion(ipa_task):\n",
    "    print(u'[ Terminal Info ] didi_invoke_rpa_bot_async(rpa_bot_file) [ upon_completion ]')\n",
    "    # Send confirmation message upon triggering RPA-Bot \n",
    "#     itchat.send(u'[ Async OK ] IPA Command completed : \\n[ %s ]\\n%s' % (parm_msg['Type'], parm_msg['Text']), parm_msg['FromUserName'])\n",
    "    itchat.send(u'[ Async OK ] IPA Command completed !\\n[ Time Spent : %s ]' % ('TBD Time Spent'), parm_msg['FromUserName'])\n",
    "    return 0\n",
    "        "
   ]
  },
  {
   "cell_type": "code",
   "execution_count": 11,
   "metadata": {},
   "outputs": [],
   "source": [
    "# Uncomment below lines for an agile demo outside Chat-bot:\n",
    "# rpa_bot_file = reference/S-IPA-Workshop/workshop3/VisualAutomation/KIE-Loan-Applicaiton-VA-Serverless/VA-KIE-Loan-Applicaiton.txt\n",
    "# return_code = didi_invoke_rpa_bot_async(rpa_bot_file)"
   ]
  },
  {
   "cell_type": "code",
   "execution_count": 12,
   "metadata": {},
   "outputs": [
    {
     "name": "stdout",
     "output_type": "stream",
     "text": [
      "Continue other tasks in main program...\n",
      "...\n",
      "\n"
     ]
    }
   ],
   "source": [
    "print('Continue other tasks in main program...\\n...\\n')"
   ]
  },
  {
   "cell_type": "markdown",
   "metadata": {},
   "source": [
    "---"
   ]
  },
  {
   "cell_type": "markdown",
   "metadata": {},
   "source": [
    "## <span style=\"color:blue\">Wrap RPA-Bot into Functions() for conversational virtual assistant (VA):</span>\n",
    "Reuse above defined Functions()."
   ]
  },
  {
   "cell_type": "markdown",
   "metadata": {},
   "source": [
    "## 虚拟员工: 文字指令交互（Conversational automation using text/message command)"
   ]
  },
  {
   "cell_type": "code",
   "execution_count": 13,
   "metadata": {},
   "outputs": [],
   "source": [
    "# Control of asynchronous or synchronous processing when triggering RPA-Bot\n",
    "parm_asynchronous_process = True"
   ]
  },
  {
   "cell_type": "code",
   "execution_count": 14,
   "metadata": {},
   "outputs": [],
   "source": [
    "parm_msg = {} # Define a global variable to hold current msg"
   ]
  },
  {
   "cell_type": "code",
   "execution_count": 15,
   "metadata": {},
   "outputs": [],
   "source": [
    "# Define \"keywords/command\" to invoke RPA-Bot process automation functions\n",
    "parm_rpa_bot_intention_command = {\n",
    "      '#apply_loan': 'reference/S-IPA-Workshop/workshop3/VisualAutomation/KIE-Loan-Applicaiton-VA-Serverless/VA-KIE-Loan-Applicaiton.txt'\n",
    "    , '#ocr_invoice': 'reference/S-IPA-Workshop/workshop3/VisualAutomation/KIE-Loan-Applicaiton-VA-Serverless/VA-KIE-Loan-Applicaiton.txt'\n",
    "    , '#check_applicaiton': 'reference/S-IPA-Workshop/workshop3/VisualAutomation/KIE-Loan-Applicaiton-VA-Serverless/VA-KIE-Loan-Applicaiton.txt'\n",
    "}\n"
   ]
  },
  {
   "cell_type": "code",
   "execution_count": 16,
   "metadata": {},
   "outputs": [],
   "source": [
    "# Retrieve rpa_bot_file based on received Chat-Bot command\n",
    "def didi_retrieve_rpa_bot_file(chat_bot_command):\n",
    "    print('[ W I P ] Retrieve rpa_bot_file based on received Chat-Bot command : {} -> {}'.format(\n",
    "        chat_bot_command, chat_bot_command.lower()))\n",
    "    \n",
    "    if chat_bot_command.lower() in parm_rpa_bot_intention_command.keys():\n",
    "        return parm_rpa_bot_intention_command[chat_bot_command.lower()]\n",
    "    else:\n",
    "        print('[ ERROR ] Command not found!')\n",
    "        return None"
   ]
  },
  {
   "cell_type": "code",
   "execution_count": 15,
   "metadata": {},
   "outputs": [
    {
     "name": "stdout",
     "output_type": "stream",
     "text": [
      "[ W I P ] Retrieve rpa_bot_file based on received Chat-Bot command : #apply_loan -> #apply_loan\n"
     ]
    },
    {
     "data": {
      "text/plain": [
       "'reference/S-IPA-Workshop/workshop3/VisualAutomation/KIE-Loan-Applicaiton-VA-Serverless/VA-KIE-Loan-Applicaiton.txt'"
      ]
     },
     "execution_count": 15,
     "metadata": {},
     "output_type": "execute_result"
    }
   ],
   "source": [
    "# Uncomment below lines for an agile demo outside Chat-bot:\n",
    "# didi_retrieve_rpa_bot_file('#apply_loan')"
   ]
  },
  {
   "cell_type": "code",
   "execution_count": 12,
   "metadata": {},
   "outputs": [
    {
     "name": "stdout",
     "output_type": "stream",
     "text": [
      "[ W I P ] Retrieve rpa_bot_file based on received Chat-Bot command : #Apply_Loan -> #apply_loan\n"
     ]
    },
    {
     "data": {
      "text/plain": [
       "'reference/S-IPA-Workshop/workshop3/VisualAutomation/KIE-Loan-Applicaiton-VA-Serverless/VA-KIE-Loan-Applicaiton.txt'"
      ]
     },
     "execution_count": 12,
     "metadata": {},
     "output_type": "execute_result"
    }
   ],
   "source": [
    "# Uncomment below lines for an agile demo outside Chat-bot:\n",
    "# didi_retrieve_rpa_bot_file('#Apply_Loan')"
   ]
  },
  {
   "cell_type": "code",
   "execution_count": 14,
   "metadata": {
    "scrolled": true
   },
   "outputs": [
    {
     "name": "stdout",
     "output_type": "stream",
     "text": [
      "[ W I P ] Retrieve rpa_bot_file based on received Chat-Bot command : #approve_loan -> #approve_loan\n",
      "[ ERROR ] Command not found!\n"
     ]
    }
   ],
   "source": [
    "# Uncomment below lines for an agile demo outside Chat-bot:\n",
    "# didi_retrieve_rpa_bot_file('#approve_loan')"
   ]
  },
  {
   "cell_type": "markdown",
   "metadata": {},
   "source": [
    "---"
   ]
  },
  {
   "cell_type": "markdown",
   "metadata": {},
   "source": [
    "## <span style=\"color:blue\">Start interactive conversational virtual assistant (VA):</span>"
   ]
  },
  {
   "cell_type": "markdown",
   "metadata": {},
   "source": [
    "### Import ItChat, etc. 导入需要用到的一些功能程序库："
   ]
  },
  {
   "cell_type": "code",
   "execution_count": 17,
   "metadata": {},
   "outputs": [
    {
     "name": "stdout",
     "output_type": "stream",
     "text": [
      "█\r"
     ]
    }
   ],
   "source": [
    "import itchat\n",
    "from itchat.content import *"
   ]
  },
  {
   "cell_type": "markdown",
   "metadata": {},
   "source": [
    "### Log in using QR code image / 用微信App扫QR码图片来自动登录"
   ]
  },
  {
   "cell_type": "code",
   "execution_count": 18,
   "metadata": {
    "scrolled": false
   },
   "outputs": [
    {
     "name": "stderr",
     "output_type": "stream",
     "text": [
      "Getting uuid of QR code.\n",
      "Downloading QR code.\n"
     ]
    },
    {
     "name": "stdout",
     "output_type": "stream",
     "text": [
      "                                                                              \n",
      "  ██████████████    ████  ██  ██      ██    ██    ██  ██      ██████████████  \n",
      "  ██          ██    ██    ██            ████  ██    ██        ██          ██  \n",
      "  ██  ██████  ██  ██████    ██  ████  ██    ████    ██  ████  ██  ██████  ██  \n",
      "  ██  ██████  ██  ██  ████████████  ██  ██████      ████████  ██  ██████  ██  \n",
      "  ██  ██████  ██    ██        ██  ██  ██    ██  ██  ████      ██  ██████  ██  \n",
      "  ██          ██      ████  ██  ██  ██    ████████    ██      ██          ██  \n",
      "  ██████████████  ██  ██  ██  ██  ██  ██  ██  ██  ██  ██  ██  ██████████████  \n",
      "                    ██    ██    ████    ██  ██    ████  ████                  \n",
      "        ████  ████  ████    ██    ██          ██████                ████      \n",
      "      ██    ██  ██████        ██████      ████      ██  ██████████████████    \n",
      "    ████  ██  ██  ████  ████  ██  ██████    ████    ██  ████████      ██  ██  \n",
      "    ██          ██  ██████  ██  ██  ██████  ██        ████  ██████  ████  ██  \n",
      "  ██  ██  ████████████████        ██████████      ██    ████  ████  ████████  \n",
      "      ████████  ████    ██████    ██████████  ██  ██  ████████    ██  ██      \n",
      "      ██      ████    ████    ██  ██  ██  ████  ██  ██  ██  ████  ██████████  \n",
      "  ██      ████    ████    ██    ██  ████  ██  ██        ██  ██    ████████    \n",
      "        ████  ████    ██  ████████  ██      ██████  ██    ██  ████    ██  ██  \n",
      "  ████████        ██████    ██████      ██      ██████  ██  ██  ██      ██    \n",
      "      ██  ██  ██    ██    ████  ██  ████████      ██    ██      ██    ██  ██  \n",
      "  ██    ██          ██  ██████████  ████    ██    ████      ██      ██        \n",
      "  ██    ██  ████  ██████  ██    ████      ██  ██████████  ██████  ████        \n",
      "                ██████████      ████      ████    ██████████    ████  ████    \n",
      "  ██████  ██  ██    ██    ██  ████            ██  ██    ██  ████  ██      ██  \n",
      "    ██████████      ██  ██████  ████    ████████████  ████████  ██    ██      \n",
      "      ████  ████          ██  ██      ██  ████      ████      ██    ██        \n",
      "  ██    ██        ██  ████    ██  ████  ██████    ██  ████████████████████    \n",
      "  ████████  ██████  ██      ██  ██  ████████  ██    ████████  ██        ████  \n",
      "  ██  ██████              ██      ██████    ████  ██  ████████  ████████      \n",
      "  ██  ████  ████████    ██    ██████  ██████  ████████  ████████████  ██      \n",
      "                  ██████████    ██  ████    ██  ██  ██    ██      ████████    \n",
      "  ██████████████  ██  ██████  ██      ██        ██        ██  ██  ██████  ██  \n",
      "  ██          ██    ████    ████  ████      ██      ████  ██      ████  ██    \n",
      "  ██  ██████  ██  ██      ████████████    ██      ██    ████████████    ██    \n",
      "  ██  ██████  ██  ██  ██    ██      ██  ██            ██████  ██    ██        \n",
      "  ██  ██████  ██    ██  ██        ████  ████      ██  ██  ██    ████████████  \n",
      "  ██          ██      ██    ██        ██              ██      ██  ██  ██████  \n",
      "  ██████████████    ██    ████    ████      ████  ██      ██  ██    ██    ██  \n",
      "                                                                              \n"
     ]
    },
    {
     "name": "stderr",
     "output_type": "stream",
     "text": [
      "Please scan the QR code to log in.\n",
      "Please press confirm on your phone.\n",
      "Loading the contact, this may take a little while.\n",
      "Login successfully as 白黑\n"
     ]
    }
   ],
   "source": [
    "# itchat.auto_login(hotReload=True) # hotReload=True: 退出程序后暂存登陆状态。即使程序关闭，一定时间内重新开启也可以不用重新扫码。\n",
    "itchat.auto_login(enableCmdQR=-2) # enableCmdQR=-2: 命令行显示QR图片"
   ]
  },
  {
   "cell_type": "code",
   "execution_count": null,
   "metadata": {},
   "outputs": [],
   "source": []
  },
  {
   "cell_type": "code",
   "execution_count": 19,
   "metadata": {},
   "outputs": [],
   "source": [
    "# Trigger RPA-Bot when command received / 如果收到[TEXT]的信息：\n",
    "@itchat.msg_register([TEXT]) # 文字\n",
    "def didi_ipa_text_command(msg):\n",
    "    global parm_msg\n",
    "    parm_msg = msg\n",
    "    if msg['Text'][0] == '#':\n",
    "        # Retrieve rpa_bot_file based on received Chat-Bot command\n",
    "        rpa_bot_file = didi_retrieve_rpa_bot_file( msg['Text'])\n",
    "        \n",
    "        if rpa_bot_file == None: # input command / rpa_bot_file NOT FOUND!\n",
    "            print(u'[ Terminal Info ] RPA-Bot [ ERROR ] Command not found : [ %s ] %s From: %s' \n",
    "                  % (msg['Type'], msg['Text'], msg['FromUserName']))\n",
    "            itchat.send(u'RPA-Bot [ ERROR ] Command not found : \\n[ %s ]\\n%s' % (msg['Type'], msg['Text']), msg['FromUserName'])\n",
    "        else:\n",
    "            print(u'[ Terminal Info ] RPA-Bot [ W I P ] Command : [ %s ] %s From: %s' \n",
    "                  % (msg['Type'], msg['Text'], msg['FromUserName']))\n",
    "            print(u'[ Terminal Info ] RPA-Bot [ W I P ] File    : %s' % (rpa_bot_file))\n",
    "            \n",
    "            if parm_asynchronous_process: # Don't wait for RPA-Bot completion \n",
    "                # Send 'work in progress' message triggering RPA-Bot\n",
    "                itchat.send(u'[ Async WIP ] IPA Command triggered: \\n[ %s ]\\n%s' % (msg['Type'], msg['Text']), msg['FromUserName'])\n",
    "                \n",
    "                # Trigger RPA-Bot [ Asynchronous  ]\n",
    "                return_code = didi_invoke_rpa_bot_async(rpa_bot_file)\n",
    "            else: # Wait for RPA-Bot completion \n",
    "                # Send 'work in progress' message triggering RPA-Bot\n",
    "                itchat.send(u'[ Sync WIP ] IPA Command triggered: \\n[ %s ]\\n%s' % (msg['Type'], msg['Text']), msg['FromUserName'])\n",
    "                \n",
    "                # Trigger RPA-Bot [ Synchronously ]\n",
    "                return_code = didi_invoke_rpa_bot(rpa_bot_file)\n",
    "                print(u'[ Terminal Info ] didi_invoke_rpa_bot(rpa_bot_file) [ Return Code : %s ]' % (return_code))\n",
    "                \n",
    "                if return_code == 0:\n",
    "                    # Send confirmation message upon RPA-Bot completion\n",
    "                    itchat.send(u'[ Sync OK ] IPA Command completed : \\n[ %s ]\\n%s' % (msg['Type'], msg['Text']), msg['FromUserName'])\n",
    "                else:\n",
    "                    # Error when running RPA-Bot task\n",
    "                    itchat.send(u'[ Sync ERROR] [ Return Code : %s ] IPA Command failed : \\n[ %s ]\\n%s' % (return_code, msg['Type'], msg['Text']), msg['FromUserName'])\n",
    "                    \n",
    "    else:\n",
    "        print(u'[ Terminal Info ] Thank you! 谢谢亲[嘴唇]我已收到 I received: [ %s ] %s From: %s' \n",
    "              % (msg['Type'], msg['Text'], msg['FromUserName']))\n",
    "        itchat.send(u'Thank you! 谢谢亲[嘴唇]我已收到\\nI received:\\n[ %s ]\\n%s' % (msg['Type'], msg['Text']), msg['FromUserName'])\n"
   ]
  },
  {
   "cell_type": "code",
   "execution_count": null,
   "metadata": {},
   "outputs": [],
   "source": []
  },
  {
   "cell_type": "code",
   "execution_count": 20,
   "metadata": {
    "scrolled": true
   },
   "outputs": [
    {
     "name": "stderr",
     "output_type": "stream",
     "text": [
      "Start auto replying.\n"
     ]
    },
    {
     "name": "stdout",
     "output_type": "stream",
     "text": [
      "[ Terminal Info ] Thank you! 谢谢亲[嘴唇]我已收到 I received: [ Text ] 哈哈哈时间 From: @b181aa2c3a18b166517d4496f210fe30\n",
      "[ Terminal Info ] Thank you! 谢谢亲[嘴唇]我已收到 I received: [ Text ] Habana From: @b181aa2c3a18b166517d4496f210fe30\n",
      "[ W I P ] Retrieve rpa_bot_file based on received Chat-Bot command : #apply_loan -> #apply_loan\n",
      "[ Terminal Info ] RPA-Bot [ W I P ] Command : [ Text ] #apply_loan From: @b181aa2c3a18b166517d4496f210fe30\n",
      "[ Terminal Info ] RPA-Bot [ W I P ] File    : reference/S-IPA-Workshop/workshop3/VisualAutomation/KIE-Loan-Applicaiton-VA-Serverless/VA-KIE-Loan-Applicaiton.txt\n",
      "[ Terminal Info ] Thank you! 谢谢亲[嘴唇]我已收到 I received: [ Text ] Hahaha  From: @b181aa2c3a18b166517d4496f210fe30\n",
      "[ Terminal Info ] Thank you! 谢谢亲[嘴唇]我已收到 I received: [ Text ] Lelelrl  From: @b181aa2c3a18b166517d4496f210fe30\n",
      "[ Terminal Info ] Thank you! 谢谢亲[嘴唇]我已收到 I received: [ Text ] Yeah  From: @b181aa2c3a18b166517d4496f210fe30\n",
      "[ Terminal Info ] Thank you! 谢谢亲[嘴唇]我已收到 I received: [ Text ] Good  From: @b181aa2c3a18b166517d4496f210fe30\n",
      "[ Terminal Info ] Thank you! 谢谢亲[嘴唇]我已收到 I received: [ Text ] Asynchronous is working! From: @b181aa2c3a18b166517d4496f210fe30\n",
      "[ Terminal Info ] didi_invoke_rpa_bot_async(rpa_bot_file) [ upon_completion ]\n"
     ]
    },
    {
     "name": "stderr",
     "output_type": "stream",
     "text": [
      "LOG OUT!\n"
     ]
    }
   ],
   "source": [
    "itchat.run()"
   ]
  },
  {
   "cell_type": "markdown",
   "metadata": {},
   "source": [
    "---"
   ]
  },
  {
   "cell_type": "code",
   "execution_count": 21,
   "metadata": {},
   "outputs": [
    {
     "data": {
      "text/plain": [
       "<ItchatReturnValue: {'BaseResponse': {'ErrMsg': '请求成功', 'Ret': 0, 'RawMsg': 'logout successfully.'}}>"
      ]
     },
     "execution_count": 21,
     "metadata": {},
     "output_type": "execute_result"
    }
   ],
   "source": [
    "# interupt kernel, then logout\n",
    "itchat.logout() # 安全退出"
   ]
  },
  {
   "cell_type": "markdown",
   "metadata": {},
   "source": [
    "---"
   ]
  },
  {
   "cell_type": "markdown",
   "metadata": {},
   "source": [
    "### 恭喜您！已经完成了："
   ]
  },
  {
   "cell_type": "markdown",
   "metadata": {},
   "source": [
    "### 第六课：交互式虚拟助手的智能应用\n",
    "### Lesson 6: Interactive Conversatioinal Virtual Assistant Applications / Intelligent Process Automations\n",
    "* 虚拟员工: 贷款填表申请审批一条龙自动化流程 （Virtual Worker: When Chat-bot meets RPA-bot for mortgage loan application automation) \n",
    "* 虚拟员工: 文字指令交互（Conversational automation using text/message command) \n",
    "* 虚拟员工: 语音指令交互（Conversational automation using speech/voice command) \n",
    "* 虚拟员工: 多种语言交互（Conversational automation with multiple languages)"
   ]
  },
  {
   "cell_type": "markdown",
   "metadata": {},
   "source": [
    "<img src='reference/WeChat_SamGu_QR.png' width=80% style=\"float: left;\">\n"
   ]
  },
  {
   "cell_type": "markdown",
   "metadata": {},
   "source": [
    "---"
   ]
  },
  {
   "cell_type": "markdown",
   "metadata": {},
   "source": [
    "---"
   ]
  },
  {
   "cell_type": "markdown",
   "metadata": {},
   "source": [
    "## <span style=\"color:blue\">Exercise / Workshop Enhancement</span> "
   ]
  },
  {
   "cell_type": "markdown",
   "metadata": {},
   "source": [
    "## <span style=\"color:blue\">Install the client library</span> for 虚拟员工: 语音指令交互（Conversational automation using speech/voice command)"
   ]
  },
  {
   "cell_type": "markdown",
   "metadata": {},
   "source": [
    "### [ Hints ]"
   ]
  },
  {
   "cell_type": "code",
   "execution_count": null,
   "metadata": {
    "scrolled": true
   },
   "outputs": [],
   "source": [
    "# !pip install --upgrade google-cloud-speech"
   ]
  },
  {
   "cell_type": "code",
   "execution_count": null,
   "metadata": {},
   "outputs": [],
   "source": [
    "# Imports the Google Cloud client library\n",
    "from google.cloud import speech\n",
    "from google.cloud.speech import enums\n",
    "from google.cloud.speech import types"
   ]
  },
  {
   "cell_type": "code",
   "execution_count": null,
   "metadata": {},
   "outputs": [],
   "source": []
  },
  {
   "cell_type": "code",
   "execution_count": null,
   "metadata": {},
   "outputs": [],
   "source": [
    "# !pip install --upgrade google-cloud-texttospeech"
   ]
  },
  {
   "cell_type": "code",
   "execution_count": null,
   "metadata": {},
   "outputs": [],
   "source": [
    "# Imports the Google Cloud client library\n",
    "from google.cloud import texttospeech"
   ]
  },
  {
   "cell_type": "code",
   "execution_count": null,
   "metadata": {},
   "outputs": [],
   "source": []
  },
  {
   "cell_type": "markdown",
   "metadata": {},
   "source": [
    "---"
   ]
  },
  {
   "cell_type": "markdown",
   "metadata": {},
   "source": [
    "## <span style=\"color:blue\">Exercise / Workshop Enhancement</span> "
   ]
  },
  {
   "cell_type": "markdown",
   "metadata": {},
   "source": [
    "## <span style=\"color:blue\">Install the client library</span> for 虚拟员工: 多种语言交互（Conversational automation with multiple languages)"
   ]
  },
  {
   "cell_type": "markdown",
   "metadata": {},
   "source": [
    "### [ Hints ]"
   ]
  },
  {
   "cell_type": "code",
   "execution_count": null,
   "metadata": {
    "scrolled": true
   },
   "outputs": [],
   "source": [
    "# !pip install --upgrade google-cloud-translate"
   ]
  },
  {
   "cell_type": "code",
   "execution_count": null,
   "metadata": {},
   "outputs": [],
   "source": [
    "# Imports the Google Cloud client library\n",
    "from google.cloud import translate"
   ]
  },
  {
   "cell_type": "code",
   "execution_count": null,
   "metadata": {},
   "outputs": [],
   "source": []
  },
  {
   "cell_type": "code",
   "execution_count": null,
   "metadata": {},
   "outputs": [],
   "source": []
  },
  {
   "cell_type": "code",
   "execution_count": null,
   "metadata": {},
   "outputs": [],
   "source": []
  },
  {
   "cell_type": "code",
   "execution_count": null,
   "metadata": {},
   "outputs": [],
   "source": []
  },
  {
   "cell_type": "markdown",
   "metadata": {},
   "source": [
    "---"
   ]
  },
  {
   "cell_type": "markdown",
   "metadata": {},
   "source": [
    "---"
   ]
  }
 ],
 "metadata": {
  "kernelspec": {
   "display_name": "Python 3",
   "language": "python",
   "name": "python3"
  },
  "language_info": {
   "codemirror_mode": {
    "name": "ipython",
    "version": 3
   },
   "file_extension": ".py",
   "mimetype": "text/x-python",
   "name": "python",
   "nbconvert_exporter": "python",
   "pygments_lexer": "ipython3",
   "version": "3.6.4"
  }
 },
 "nbformat": 4,
 "nbformat_minor": 2
}
