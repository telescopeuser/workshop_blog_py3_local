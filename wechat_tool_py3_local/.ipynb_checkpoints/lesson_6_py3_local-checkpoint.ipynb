{
 "cells": [
  {
   "cell_type": "markdown",
   "metadata": {},
   "source": [
    "<img src='https://www.iss.nus.edu.sg/Sitefinity/WebsiteTemplates/ISS/App_Themes/ISS/Images/branding-iss.png' width=15% style=\"float: right;\">\n",
    "<img src='https://www.iss.nus.edu.sg/Sitefinity/WebsiteTemplates/ISS/App_Themes/ISS/Images/branding-nus.png' width=15% style=\"float: right;\">\n"
   ]
  },
  {
   "cell_type": "markdown",
   "metadata": {},
   "source": [
    "---"
   ]
  },
  {
   "cell_type": "code",
   "execution_count": 1,
   "metadata": {},
   "outputs": [
    {
     "data": {
      "text/html": [
       "\n",
       "        <iframe\n",
       "            width=\"400\"\n",
       "            height=\"300\"\n",
       "            src=\"https://www.youtube.com/embed/TBD\"\n",
       "            frameborder=\"0\"\n",
       "            allowfullscreen\n",
       "        ></iframe>\n",
       "        "
      ],
      "text/plain": [
       "<IPython.lib.display.YouTubeVideo at 0x7f09593814a8>"
      ]
     },
     "execution_count": 1,
     "metadata": {},
     "output_type": "execute_result"
    }
   ],
   "source": [
    "import IPython.display\n",
    "IPython.display.YouTubeVideo('TBD')"
   ]
  },
  {
   "cell_type": "markdown",
   "metadata": {},
   "source": [
    "# 如何使用和开发微信聊天机器人的系列教程\n",
    "# A workshop to develop & use an intelligent and interactive chat-bot in WeChat"
   ]
  },
  {
   "cell_type": "markdown",
   "metadata": {},
   "source": [
    "### WeChat is a popular social media app, which has more than 800 million monthly active users.\n",
    "\n",
    "<img src='https://www.iss.nus.edu.sg/images/default-source/About-Us/7.6.1-teaching-staff/sam-website.tmb-.png' width=8% style=\"float: right;\">\n",
    "<img src='reference/WeChat_SamGu_QR.png' width=10% style=\"float: right;\">\n",
    "\n",
    "\n",
    "by: GU Zhan (Sam)\n",
    "\n",
    "\n",
    "October 2018 : Update to support Python 3 in local machine, e.g. iss-vm.\n",
    "\n",
    "\n",
    "April 2017 ======= Scan the QR code to become trainer's friend in WeChat =====>>"
   ]
  },
  {
   "cell_type": "markdown",
   "metadata": {},
   "source": [
    "### 第六课：交互式虚拟助手的智能应用\n",
    "### Lesson 6: Interactive Conversatioinal Virtual Assistant Applications / Intelligent Process Automations\n",
    "* 虚拟员工: 贷款填表申请审批一条龙自动化流程 （Virtual Worker: When Chat-bot meets RPA-bot for mortgage loan application automation) \n",
    "* 虚拟员工: 文字指令交互（Conversational automation using text/message command) \n",
    "* 虚拟员工: 语音指令交互（Conversational automation using speech/voice command) \n",
    "* 虚拟员工: 多种语言交互（Conversational automation with multiple languages)"
   ]
  },
  {
   "cell_type": "markdown",
   "metadata": {},
   "source": [
    "### 第六课：交互式虚拟助手的智能应用\n",
    "### Lesson 6: Interactive Conversatioinal Virtual Assistant Applications / Intelligent Process Automations\n",
    "* 虚拟员工: 贷款填表申请审批一条龙自动化流程 （Virtual Worker: When Chat-bot meets RPA-bot for mortgage loan application automation) \n",
    "* 虚拟员工: 文字指令交互（Conversational automation using text/message command) \n",
    "* 虚拟员工: 语音指令交互（Conversational automation using speech/voice command) \n",
    "* 虚拟员工: 多种语言交互（Conversational automation with multiple languages)"
   ]
  },
  {
   "cell_type": "markdown",
   "metadata": {},
   "source": [
    "### Using Google Cloud Platform's Machine Learning APIs"
   ]
  },
  {
   "cell_type": "markdown",
   "metadata": {},
   "source": [
    "From the same API console, choose \"Dashboard\" on the left-hand menu and \"Enable API\".\n",
    "\n",
    "Enable the following APIs for your project (search for them) if they are not already enabled:\n",
    "<ol>\n",
    "**<li> Google Cloud Speech API </li>**\n",
    "**<li> Google Cloud Text-to-Speech API </li>**\n",
    "**<li> Google Cloud Translation API </li>**\n",
    "</ol>\n",
    "\n",
    "Finally, because we are calling the APIs from Python (clients in many other languages are available), let's install the Python package (it's not installed by default on Datalab)"
   ]
  },
  {
   "cell_type": "code",
   "execution_count": 2,
   "metadata": {
    "scrolled": false
   },
   "outputs": [],
   "source": [
    "# Copyright 2016 Google Inc. Licensed under the Apache License, Version 2.0 (the \"License\"); \n",
    "# !pip install --upgrade google-api-python-client"
   ]
  },
  {
   "cell_type": "markdown",
   "metadata": {},
   "source": [
    "---"
   ]
  },
  {
   "cell_type": "markdown",
   "metadata": {},
   "source": [
    "## <span style=\"color:blue\">Virtual Worker: When Chat-bot meets RPA-bot</span> \n",
    "## 虚拟员工: 贷款填表申请审批一条龙自动化流程 （Mortgage loan application automation)\n",
    "## 虚拟员工: 文字指令交互（Conversational automation using text/message command)"
   ]
  },
  {
   "cell_type": "code",
   "execution_count": null,
   "metadata": {},
   "outputs": [],
   "source": []
  },
  {
   "cell_type": "code",
   "execution_count": null,
   "metadata": {},
   "outputs": [],
   "source": [
    "\n",
    "# Call RPA-Bot (TagUI script: mortgage loan application automation) from VA-Bot (python script)\n",
    "import subprocess\n",
    "\n",
    "def didi_invoke_rpabot(rpa_bot_file):\n",
    "\n",
    "# Invoke RPA-Bot script\n",
    "    retcode = subprocess.call(['TagUI/scr/tagui', rpa_bot_file])\n",
    "    \n",
    "    if retcode == 0:\n",
    "        print('[ OK ] Succeeded to invoking RPA-Bot : {}'.format(rpa-bot-file))\n",
    "    else:\n",
    "        print('[ ERROR ] Failed to invoke RPA-Bot : {} [ Return Code {} ]'.format(rpa-bot-file, retcode))\n",
    "\n",
    "    return retcode"
   ]
  },
  {
   "cell_type": "code",
   "execution_count": null,
   "metadata": {},
   "outputs": [],
   "source": []
  },
  {
   "cell_type": "code",
   "execution_count": null,
   "metadata": {},
   "outputs": [],
   "source": []
  },
  {
   "cell_type": "code",
   "execution_count": null,
   "metadata": {},
   "outputs": [],
   "source": []
  },
  {
   "cell_type": "code",
   "execution_count": null,
   "metadata": {},
   "outputs": [],
   "source": []
  },
  {
   "cell_type": "code",
   "execution_count": null,
   "metadata": {},
   "outputs": [],
   "source": []
  },
  {
   "cell_type": "code",
   "execution_count": null,
   "metadata": {},
   "outputs": [],
   "source": []
  },
  {
   "cell_type": "code",
   "execution_count": null,
   "metadata": {},
   "outputs": [],
   "source": []
  },
  {
   "cell_type": "markdown",
   "metadata": {},
   "source": [
    "---"
   ]
  },
  {
   "cell_type": "markdown",
   "metadata": {},
   "source": [
    "## <span style=\"color:blue\">Wrap cloud APIs into Functions() for conversational virtual assistant (VA):</span>\n",
    "Reuse above defined Functions()."
   ]
  },
  {
   "cell_type": "markdown",
   "metadata": {},
   "source": [
    "---"
   ]
  },
  {
   "cell_type": "markdown",
   "metadata": {},
   "source": [
    "## <span style=\"color:blue\">Start interactive conversational virtual assistant (VA):</span>"
   ]
  },
  {
   "cell_type": "markdown",
   "metadata": {},
   "source": [
    "### Import ItChat, etc. 导入需要用到的一些功能程序库："
   ]
  },
  {
   "cell_type": "code",
   "execution_count": 39,
   "metadata": {},
   "outputs": [],
   "source": [
    "import itchat\n",
    "from itchat.content import *"
   ]
  },
  {
   "cell_type": "markdown",
   "metadata": {},
   "source": [
    "### Log in using QR code image / 用微信App扫QR码图片来自动登录"
   ]
  },
  {
   "cell_type": "code",
   "execution_count": 43,
   "metadata": {
    "scrolled": false
   },
   "outputs": [
    {
     "name": "stderr",
     "output_type": "stream",
     "text": [
      "Getting uuid of QR code.\n",
      "Downloading QR code.\n"
     ]
    },
    {
     "name": "stdout",
     "output_type": "stream",
     "text": [
      "                                                                              \n",
      "  ██████████████    ██      ████      ██  ████    ██  ██      ██████████████  \n",
      "  ██          ██    ██        ██        ██  ██      ██        ██          ██  \n",
      "  ██  ██████  ██  ██████████    ████  ██    ████    ██  ████  ██  ██████  ██  \n",
      "  ██  ██████  ██  ██  ████    ████  ██  ██████      ████████  ██  ██████  ██  \n",
      "  ██  ██████  ██    ██    ████    ██  ████      ██  ████      ██  ██████  ██  \n",
      "  ██          ██      ██        ██  ██  ██████  ██    ██      ██          ██  \n",
      "  ██████████████  ██  ██  ██  ██  ██  ██  ██  ██  ██  ██  ██  ██████████████  \n",
      "                    ██  ██  ████████    ████  ██  ████  ████                  \n",
      "        ████  ████  ████    ██    ██    ██      ████                ████      \n",
      "            ██  ████              ██      ████████  ██  ████  ██████    ██    \n",
      "    ██        ██  ██  ██████  ██  ██  ██    ██████  ██  ████████  ██      ██  \n",
      "    ████    ██  ██      ██  ██  ██  ██████  ██  ████  ████  ██████  ████  ██  \n",
      "  ██    ████  ████████████            ██████      ██    ████  ████  ████████  \n",
      "      ██    ██  ██████████████  ████    ████  ██████  ████████    ██  ██      \n",
      "      ██      ████    ████    ██  ██████  ████    ████  ██  ████  ██████████  \n",
      "  ██  ████████    ██      ██      ██████  ██  ████      ██  ██    ████████    \n",
      "        ██  ██████  ████    ██████        ██████    ██    ██  ████    ██  ██  \n",
      "    ██████        ██████  ████████              ██████  ██  ██  ██      ██    \n",
      "  ██████  ██  ████████  ██    ████  ██████    ██  ██    ██      ██    ██  ██  \n",
      "  ██    ██      ██  ██  ██      ██  ██████        ████      ██      ██        \n",
      "        ██  ██████  ████  ██  ██████    ██  ██  ████████  ██████  ████        \n",
      "    ██              ██████  ████████          ██  ██████████    ████  ██  ██  \n",
      "  ██  ██  ██  ██    ██  ████    ██        ██  ██  ██    ██        ██      ██  \n",
      "  ██  ████████    ████    ██████████    ████    ████  ██████    ██    ██  ██  \n",
      "  ██  ████  ██████        ██████  ██  ██████        ████      ██    ██  ██    \n",
      "  ██  ██  ██      ████████      ████    ████████  ██  ██████    ██████  ██    \n",
      "  ████    ████████          ██  ████████████  ██    ██████    ██    ████████  \n",
      "  ██  ████            ██  ██      ██        ████  ██  ██  ████    ██  ██      \n",
      "  ██      ██████████  ████    ████  ██  ████  ████  ██    ██████████  ██      \n",
      "                  ██    ████      ████      ██    ████    ██      ████████    \n",
      "  ██████████████  ██  ██████  ██                ████      ██  ██  ██████  ██  \n",
      "  ██          ██      ██    ████            ██  ████████  ██      ████  ██    \n",
      "  ██  ██████  ██  ██  ██  ██████████  ██        ████    ████████████    ██    \n",
      "  ██  ██████  ██  ██  ██            ██    ██          ██████  ██    ██        \n",
      "  ██  ██████  ██    ██        ██  ████            ██  ██  ██    ████████████  \n",
      "  ██          ██      ████    ██      ██████████      ██      ██  ██  ██████  \n",
      "  ██████████████    ██    ██████  ████    ██  ██    ██    ██  ██    ██    ██  \n",
      "                                                                              \n"
     ]
    },
    {
     "name": "stderr",
     "output_type": "stream",
     "text": [
      "Please scan the QR code to log in.\n",
      "Please press confirm on your phone.\n",
      "Loading the contact, this may take a little while.\n",
      "Login successfully as 白黑\n"
     ]
    }
   ],
   "source": [
    "# itchat.auto_login(hotReload=True) # hotReload=True: 退出程序后暂存登陆状态。即使程序关闭，一定时间内重新开启也可以不用重新扫码。\n",
    "itchat.auto_login(enableCmdQR=-2) # enableCmdQR=-2: 命令行显示QR图片"
   ]
  },
  {
   "cell_type": "code",
   "execution_count": 44,
   "metadata": {},
   "outputs": [],
   "source": [
    "# @itchat.msg_register([VIDEO], isGroupChat=True)\n",
    "@itchat.msg_register([VIDEO])\n",
    "def download_files(msg):\n",
    "    msg.download(msg.fileName)\n",
    "    print('\\nDownloaded video file name is: %s' % msg['FileName'])\n",
    "    \n",
    "    ##############################################################################################################\n",
    "    #                                          call video analysis APIs                                          #\n",
    "    ##############################################################################################################\n",
    "    global parm_video_response # save into global variable, which can be accessed by next WeChat keyword search\n",
    "    \n",
    "    # python 2 version WeChat Bot\n",
    "    #  parm_video_response = KudosData_VIDEO_DETECTION(encode_media(msg['FileName']))\n",
    "    \n",
    "    # python 3 version WeChat Bot\n",
    "    parm_video_response = didi_video_processing(msg['FileName'])\n",
    "\n",
    "    \n",
    "    ##############################################################################################################\n",
    "    #                                          format video API results                                          #\n",
    "    ##############################################################################################################\n",
    "    \n",
    "    # python 2 version WeChat Bot\n",
    "    # video_analysis_reply = KudosData_video_generate_reply(parm_video_response)\n",
    "\n",
    "    # python 3 version WeChat Bot\n",
    "    video_analysis_reply = parm_video_response # Exercise / Workshop Enhancement: To pase and format result nicely.\n",
    "    \n",
    "    \n",
    "    print ('')\n",
    "    print(video_analysis_reply)\n",
    "    return video_analysis_reply"
   ]
  },
  {
   "cell_type": "code",
   "execution_count": 45,
   "metadata": {
    "scrolled": true
   },
   "outputs": [
    {
     "name": "stderr",
     "output_type": "stream",
     "text": [
      "Start auto replying.\n"
     ]
    },
    {
     "name": "stdout",
     "output_type": "stream",
     "text": [
      "\n",
      "Downloaded video file name is: 181028-160905.mp4\n",
      "\n",
      "Processing video for label annotations:\n",
      "\n",
      "Finished processing.\n",
      "Video label description: fisheye lens\n",
      "\tLabel category description: photography\n",
      "\tSegment 0: 0.0s to 5.675675s\n",
      "\tConfidence: 0.919499397277832\n",
      "\n",
      "\n",
      "Video label description: toy\n",
      "\tSegment 0: 0.0s to 5.675675s\n",
      "\tConfidence: 0.41455480456352234\n",
      "\n",
      "\n",
      "Shot label description: fisheye lens\n",
      "\tLabel category description: photography\n",
      "\tSegment 0: 0.0s to 5.675675s\n",
      "\tConfidence: 0.9222605228424072\n",
      "\n",
      "\n",
      "Shot label description: toy\n",
      "\tSegment 0: 0.0s to 5.675675s\n",
      "\tConfidence: 0.34078821539878845\n",
      "\n",
      "\n",
      "\n",
      "Processing video for shot change annotations:\n",
      "\n",
      "Finished processing.\n",
      "\tShot 0: 0.0 to 5.675675\n",
      "\n",
      "Processing video for explicit content annotations:\n",
      "\n",
      "Finished processing.\n",
      "Time: 0.204446s\n",
      "\tpornography: Very unlikely\n",
      "Time: 1.22106s\n",
      "\tpornography: Very unlikely\n",
      "Time: 2.311796s\n",
      "\tpornography: Very unlikely\n",
      "Time: 3.504806s\n",
      "\tpornography: Very unlikely\n",
      "Time: 4.3297229999999995s\n",
      "\tpornography: Very unlikely\n",
      "Time: 5.282879s\n",
      "\tpornography: Very unlikely\n",
      "\n",
      "Processing video for speech transcription.\n",
      "\n",
      "NOT FOUND: video for speech transcription.\n",
      "\n",
      "[ Video 视频处理结果 ]\n",
      "\n",
      "[ didi_video_label_detection ]\n",
      "\n",
      "([entity {\n",
      "  entity_id: \"/m/03bdrd\"\n",
      "  description: \"fisheye lens\"\n",
      "  language_code: \"en-US\"\n",
      "}\n",
      "category_entities {\n",
      "  entity_id: \"/m/05wkw\"\n",
      "  description: \"photography\"\n",
      "  language_code: \"en-US\"\n",
      "}\n",
      "segments {\n",
      "  segment {\n",
      "    start_time_offset {\n",
      "    }\n",
      "    end_time_offset {\n",
      "      seconds: 5\n",
      "      nanos: 675675000\n",
      "    }\n",
      "  }\n",
      "  confidence: 0.919499397277832\n",
      "}\n",
      ", entity {\n",
      "  entity_id: \"/m/0138tl\"\n",
      "  description: \"toy\"\n",
      "  language_code: \"en-US\"\n",
      "}\n",
      "segments {\n",
      "  segment {\n",
      "    start_time_offset {\n",
      "    }\n",
      "    end_time_offset {\n",
      "      seconds: 5\n",
      "      nanos: 675675000\n",
      "    }\n",
      "  }\n",
      "  confidence: 0.41455480456352234\n",
      "}\n",
      "], [entity {\n",
      "  entity_id: \"/m/03bdrd\"\n",
      "  description: \"fisheye lens\"\n",
      "  language_code: \"en-US\"\n",
      "}\n",
      "category_entities {\n",
      "  entity_id: \"/m/05wkw\"\n",
      "  description: \"photography\"\n",
      "  language_code: \"en-US\"\n",
      "}\n",
      "segments {\n",
      "  segment {\n",
      "    start_time_offset {\n",
      "    }\n",
      "    end_time_offset {\n",
      "      seconds: 5\n",
      "      nanos: 675675000\n",
      "    }\n",
      "  }\n",
      "  confidence: 0.9222605228424072\n",
      "}\n",
      ", entity {\n",
      "  entity_id: \"/m/0138tl\"\n",
      "  description: \"toy\"\n",
      "  language_code: \"en-US\"\n",
      "}\n",
      "segments {\n",
      "  segment {\n",
      "    start_time_offset {\n",
      "    }\n",
      "    end_time_offset {\n",
      "      seconds: 5\n",
      "      nanos: 675675000\n",
      "    }\n",
      "  }\n",
      "  confidence: 0.34078821539878845\n",
      "}\n",
      "], [])\n",
      "\n",
      "[ didi_video_shot_detection ]\n",
      "\n",
      "annotation_results {\n",
      "  shot_annotations {\n",
      "    start_time_offset {\n",
      "    }\n",
      "    end_time_offset {\n",
      "      seconds: 5\n",
      "      nanos: 675675000\n",
      "    }\n",
      "  }\n",
      "}\n",
      "\n",
      "\n",
      "[ didi_video_safesearch_detection ]\n",
      "\n",
      "annotation_results {\n",
      "  explicit_annotation {\n",
      "    frames {\n",
      "      time_offset {\n",
      "        nanos: 204446000\n",
      "      }\n",
      "      pornography_likelihood: VERY_UNLIKELY\n",
      "    }\n",
      "    frames {\n",
      "      time_offset {\n",
      "        seconds: 1\n",
      "        nanos: 221060000\n",
      "      }\n",
      "      pornography_likelihood: VERY_UNLIKELY\n",
      "    }\n",
      "    frames {\n",
      "      time_offset {\n",
      "        seconds: 2\n",
      "        nanos: 311796000\n",
      "      }\n",
      "      pornography_likelihood: VERY_UNLIKELY\n",
      "    }\n",
      "    frames {\n",
      "      time_offset {\n",
      "        seconds: 3\n",
      "        nanos: 504806000\n",
      "      }\n",
      "      pornography_likelihood: VERY_UNLIKELY\n",
      "    }\n",
      "    frames {\n",
      "      time_offset {\n",
      "        seconds: 4\n",
      "        nanos: 329723000\n",
      "      }\n",
      "      pornography_likelihood: VERY_UNLIKELY\n",
      "    }\n",
      "    frames {\n",
      "      time_offset {\n",
      "        seconds: 5\n",
      "        nanos: 282879000\n",
      "      }\n",
      "      pornography_likelihood: VERY_UNLIKELY\n",
      "    }\n",
      "  }\n",
      "}\n",
      "\n",
      "\n",
      "[ didi_video_speech_transcription ]\n",
      "\n",
      "annotation_results {\n",
      "  speech_transcriptions {\n",
      "  }\n",
      "}\n",
      "\n",
      "\n",
      "\n"
     ]
    },
    {
     "name": "stderr",
     "output_type": "stream",
     "text": [
      "Bye~\n"
     ]
    }
   ],
   "source": [
    "itchat.run()"
   ]
  },
  {
   "cell_type": "markdown",
   "metadata": {},
   "source": [
    "---"
   ]
  },
  {
   "cell_type": "code",
   "execution_count": 47,
   "metadata": {},
   "outputs": [
    {
     "data": {
      "text/plain": [
       "<ItchatReturnValue: {'BaseResponse': {'ErrMsg': '请求成功', 'Ret': 0, 'RawMsg': 'logout successfully.'}}>"
      ]
     },
     "execution_count": 47,
     "metadata": {},
     "output_type": "execute_result"
    },
    {
     "name": "stderr",
     "output_type": "stream",
     "text": [
      "LOG OUT!\n"
     ]
    }
   ],
   "source": [
    "# interupt kernel, then logout\n",
    "itchat.logout() # 安全退出"
   ]
  },
  {
   "cell_type": "markdown",
   "metadata": {},
   "source": [
    "---"
   ]
  },
  {
   "cell_type": "markdown",
   "metadata": {},
   "source": [
    "### 恭喜您！已经完成了："
   ]
  },
  {
   "cell_type": "markdown",
   "metadata": {},
   "source": [
    "### 第六课：交互式虚拟助手的智能应用\n",
    "### Lesson 6: Interactive Conversatioinal Virtual Assistant Applications / Intelligent Process Automations\n",
    "* 虚拟员工: 贷款填表申请审批一条龙自动化流程 （Virtual Worker: When Chat-bot meets RPA-bot for mortgage loan application automation) \n",
    "* 虚拟员工: 文字指令交互（Conversational automation using text/message command) \n",
    "* 虚拟员工: 语音指令交互（Conversational automation using speech/voice command) \n",
    "* 虚拟员工: 多种语言交互（Conversational automation with multiple languages)"
   ]
  },
  {
   "cell_type": "markdown",
   "metadata": {},
   "source": [
    "<img src='reference/WeChat_SamGu_QR.png' width=80% style=\"float: left;\">\n"
   ]
  },
  {
   "cell_type": "markdown",
   "metadata": {},
   "source": [
    "---"
   ]
  },
  {
   "cell_type": "markdown",
   "metadata": {},
   "source": [
    "---"
   ]
  },
  {
   "cell_type": "markdown",
   "metadata": {},
   "source": [
    "## <span style=\"color:blue\">Exercise / Workshop Enhancement</span> "
   ]
  },
  {
   "cell_type": "markdown",
   "metadata": {},
   "source": [
    "## <span style=\"color:blue\">Install the client library</span> for 虚拟员工: 语音指令交互（Conversational automation using speech/voice command)"
   ]
  },
  {
   "cell_type": "markdown",
   "metadata": {},
   "source": [
    "### [ Hints ]"
   ]
  },
  {
   "cell_type": "code",
   "execution_count": 3,
   "metadata": {
    "scrolled": true
   },
   "outputs": [],
   "source": [
    "# !pip install --upgrade google-cloud-speech"
   ]
  },
  {
   "cell_type": "code",
   "execution_count": 7,
   "metadata": {},
   "outputs": [],
   "source": [
    "# Imports the Google Cloud client library\n",
    "from google.cloud import speech\n",
    "from google.cloud.speech import enums\n",
    "from google.cloud.speech import types"
   ]
  },
  {
   "cell_type": "code",
   "execution_count": null,
   "metadata": {},
   "outputs": [],
   "source": []
  },
  {
   "cell_type": "code",
   "execution_count": 5,
   "metadata": {},
   "outputs": [],
   "source": [
    "# !pip install --upgrade google-cloud-texttospeech"
   ]
  },
  {
   "cell_type": "code",
   "execution_count": null,
   "metadata": {},
   "outputs": [],
   "source": [
    "# Imports the Google Cloud client library\n",
    "from google.cloud import texttospeech"
   ]
  },
  {
   "cell_type": "code",
   "execution_count": null,
   "metadata": {},
   "outputs": [],
   "source": []
  },
  {
   "cell_type": "markdown",
   "metadata": {},
   "source": [
    "---"
   ]
  },
  {
   "cell_type": "markdown",
   "metadata": {},
   "source": [
    "## <span style=\"color:blue\">Exercise / Workshop Enhancement</span> "
   ]
  },
  {
   "cell_type": "markdown",
   "metadata": {},
   "source": [
    "## <span style=\"color:blue\">Install the client library</span> for 虚拟员工: 多种语言交互（Conversational automation with multiple languages)"
   ]
  },
  {
   "cell_type": "markdown",
   "metadata": {},
   "source": [
    "### [ Hints ]"
   ]
  },
  {
   "cell_type": "code",
   "execution_count": 4,
   "metadata": {
    "scrolled": true
   },
   "outputs": [],
   "source": [
    "# !pip install --upgrade google-cloud-translate"
   ]
  },
  {
   "cell_type": "code",
   "execution_count": 7,
   "metadata": {},
   "outputs": [],
   "source": [
    "# Imports the Google Cloud client library\n",
    "from google.cloud import translate"
   ]
  },
  {
   "cell_type": "code",
   "execution_count": null,
   "metadata": {},
   "outputs": [],
   "source": []
  },
  {
   "cell_type": "code",
   "execution_count": null,
   "metadata": {},
   "outputs": [],
   "source": []
  },
  {
   "cell_type": "code",
   "execution_count": null,
   "metadata": {},
   "outputs": [],
   "source": []
  },
  {
   "cell_type": "code",
   "execution_count": null,
   "metadata": {},
   "outputs": [],
   "source": []
  },
  {
   "cell_type": "code",
   "execution_count": null,
   "metadata": {},
   "outputs": [],
   "source": []
  },
  {
   "cell_type": "code",
   "execution_count": null,
   "metadata": {},
   "outputs": [],
   "source": []
  },
  {
   "cell_type": "code",
   "execution_count": null,
   "metadata": {},
   "outputs": [],
   "source": []
  },
  {
   "cell_type": "markdown",
   "metadata": {},
   "source": [
    "---"
   ]
  }
 ],
 "metadata": {
  "kernelspec": {
   "display_name": "Python 3",
   "language": "python",
   "name": "python3"
  },
  "language_info": {
   "codemirror_mode": {
    "name": "ipython",
    "version": 3
   },
   "file_extension": ".py",
   "mimetype": "text/x-python",
   "name": "python",
   "nbconvert_exporter": "python",
   "pygments_lexer": "ipython3",
   "version": "3.6.4"
  }
 },
 "nbformat": 4,
 "nbformat_minor": 2
}
