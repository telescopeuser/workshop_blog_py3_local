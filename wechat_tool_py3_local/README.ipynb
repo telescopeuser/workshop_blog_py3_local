{
 "cells": [
  {
   "cell_type": "markdown",
   "metadata": {},
   "source": [
    "<img src='https://www.iss.nus.edu.sg/Sitefinity/WebsiteTemplates/ISS/App_Themes/ISS/Images/branding-iss.png' width=15% style=\"float: right;\">\n",
    "<img src='https://www.iss.nus.edu.sg/Sitefinity/WebsiteTemplates/ISS/App_Themes/ISS/Images/branding-nus.png' width=15% style=\"float: right;\">\n"
   ]
  },
  {
   "cell_type": "markdown",
   "metadata": {},
   "source": [
    "Firstly, please open this README document using your own web browser: \n",
    "https://github.com/telescopeuser/workshop_blog/tree/master/wechat_tool_py3_local\n",
    "\n",
    "# <span style=\"color:red\">[ 2018 November 01 ]</span> \n",
    "# <span style=\"color:red\">Here host ipynb lessons supporting Python 3 version on a local machine/computer.</span> \n"
   ]
  },
  {
   "cell_type": "markdown",
   "metadata": {},
   "source": [
    "# [ 零基础系列教程 ] 如何开发微信聊天机器人并集成深度人工智能应用\n",
    "# Workshop series: How to embed advanced machine intelligence into a chatbot for social media App WeChat, using Google cloud and machine learning APIs"
   ]
  },
  {
   "cell_type": "markdown",
   "metadata": {
    "collapsed": true
   },
   "source": [
    "### WeChat is a popular social media app, which has more than 800 million monthly active users.\n",
    "\n",
    "<img src='https://www.iss.nus.edu.sg/images/default-source/About-Us/7.6.1-teaching-staff/sam-website.tmb-.png' width=8% style=\"float: right;\">\n",
    "<img src='reference/WeChat_SamGu_QR.png' width=10% style=\"float: right;\">\n",
    "\n",
    "\n",
    "by: GU Zhan (Sam)\n",
    "\n",
    "\n",
    "October 2018 : Update to support Python 3 in local machine, e.g. iss-vm.\n",
    "\n",
    "\n",
    "April 2017 ======= Scan the QR code to become trainer's friend in WeChat =====>>"
   ]
  },
  {
   "cell_type": "markdown",
   "metadata": {},
   "source": [
    "<img src='reference/WeChat.png' width=100% style=\"float: left;\">"
   ]
  },
  {
   "cell_type": "markdown",
   "metadata": {},
   "source": [
    "Acknowledgement\n",
    "* 谷歌提供的云平台和机器智能引擎：https://cloud.google.com/products/machine-learning/\n",
    "* ItChat工作组提供的微信程序接口：https://github.com/littlecodersh/ItChat"
   ]
  },
  {
   "cell_type": "markdown",
   "metadata": {},
   "source": [
    "---"
   ]
  },
  {
   "cell_type": "markdown",
   "metadata": {},
   "source": [
    "## 1. 教程大纲 Workshop Content"
   ]
  },
  {
   "cell_type": "markdown",
   "metadata": {
    "collapsed": true
   },
   "source": [
    "### 第一课：使用微信问答机制\n",
    "### Lesson 1: Basic usage of WeChat Python API\n",
    "* 使用和开发微信个人号聊天机器人：一种Python编程接口 (Use WeChat Python API)\n",
    "* 用微信App扫QR码图片来自动登录 (Log-in, contact scan, and processing of text, image, file, video, etc)\n",
    "* 查找指定联系人或群组 (Scan ccontact list)\n",
    "* 发送信息（文字、图片、文件、音频、视频等） (Send message: text, image, file, voice, video, etc)\n",
    "* 接收信息 (Receive message, and keep 'listening')\n",
    "* 自动回复 (Receive message and then automaticaly reply)\n",
    "* 自定义复杂消息处理，例如：信息存档、回复群组中被@的消息 (Advanced message processing and reply)"
   ]
  },
  {
   "cell_type": "markdown",
   "metadata": {},
   "source": [
    "### 第二课：图像识别和处理\n",
    "### Lesson 2: Image Recognition & Processing\n",
    "\n",
    "* 识别图片消息中的物体名字 (Recognize objects in image)\n",
    "        [1] 物体名 (General Object)\n",
    "        [2] 地标名 (Landmark Object)\n",
    "        [3] 商标名 (Logo Object)\n",
    "\n",
    "* 识别图片消息中的文字 (OCR: Extract text from image)\n",
    "\n",
    "* 识别图片消息中的文字 (OCR: Extract text from image)\n",
    "\n",
    "* 识别人脸 (Recognize human face)\n",
    "        人脸检测和画框 (Output new image with framed face)\n",
    "        人脸表情识别: 喜怒哀乐等情绪 (Identify sentiment and emotion from human face)\n",
    "\n",
    "* 不良内容识别 (Explicit Content Detection)\n",
    "\n",
    "* 线上实体检测 (Detecting Web Entities and Pages)\n"
   ]
  },
  {
   "cell_type": "markdown",
   "metadata": {},
   "source": [
    "### 第三课：自然语言处理：语音识别和合成\n",
    "### Lesson 3: Natural Language Processing 1\n",
    "\n",
    "* 语音转换成消息文字 (Speech recognition: voice to text)\n",
    "* 消息文字转成语音 (Speech synthesis: text to voice)"
   ]
  },
  {
   "cell_type": "markdown",
   "metadata": {},
   "source": [
    "### 第四课：自然语言处理：语义和情感分析\n",
    "### Lesson 4: Natural Language Processing 2\n",
    "\n",
    "* 整篇消息文字的情感分析 (Analyzing Sentiment: perform sentiment analysis)\n",
    "* 消息文字中语句的情感分析 (Analyzing Entity Sentiment: perform entity sentiment analysis)\n",
    "* 消息文字中名称实体的识别 (Analyzing Entities: perform entity analysis)\n",
    "* 语句的语法分析 (Analyzing Syntax: syntactic analysis)\n",
    "* 消息文字的主题分类 (Classifying Content: analyze content to determine the content category)"
   ]
  },
  {
   "cell_type": "markdown",
   "metadata": {},
   "source": [
    "### 第五课：视频识别和处理\n",
    "### Lesson 5: Video Recognition & Processing\n",
    "\n",
    "* 识别视频消息中的物体名字 (Label Detection: Detect entities within the video, such as \"dog\", \"flower\" or \"car\")\n",
    "* 识别视频的场景片段 (Shot Change Detection: Detect scene changes within the video)\n",
    "* 识别受限内容 (Explicit Content Detection: Detect adult content within a video)\n",
    "* 生成视频字幕 (Video Transcription BETA: Transcribes video content in English)\n"
   ]
  },
  {
   "cell_type": "markdown",
   "metadata": {},
   "source": [
    "### 第六课：交互式虚拟助手的智能应用\n",
    "### Lesson 6: Interactive Conversatioinal Virtual Assistant Applications / Intelligent Process Automations\n",
    "* 虚拟员工: 贷款填表申请审批一条龙自动化流程 （Virtual Worker: When Chat-bot meets RPA-bot for mortgage loan application automation) \n",
    "* 虚拟员工: 文字指令交互（Conversational automation using text/message command) \n",
    "* 虚拟员工: 语音指令交互（Conversational automation using speech/voice command) \n",
    "* 虚拟员工: 多种语言交互（Conversational automation with multiple languages)"
   ]
  },
  {
   "cell_type": "markdown",
   "metadata": {},
   "source": [
    "---"
   ]
  },
  {
   "cell_type": "markdown",
   "metadata": {},
   "source": [
    "## 2. 开发环境安装"
   ]
  },
  {
   "cell_type": "markdown",
   "metadata": {},
   "source": [
    "### 选择1：下载使用虚拟机\n",
    "### Option 1: Use a Virtual Machine to run in your own computer (Difficulty level: Easy, like being a boss)\n",
    "* Download a pre-configurated Ubuntu Linux virtual machine (20 GB size), which contains all environment setup: https://github.com/telescopeuser/iss-vm\n",
    "* Start the VM using Virtualbox. Free Virtualbox download: https://www.virtualbox.org/wiki/Downloads\n",
    "* Click **iss-env-py3 Jupyter** icon on desktop to start Jupyter Notebook\n",
    "* Choose your favorite file folder, then git clone/pull workshop_blog notebooks from Github: https://github.com/telescopeuser/workshop_blog.git"
   ]
  },
  {
   "cell_type": "markdown",
   "metadata": {},
   "source": [
    "<img src='https://raw.githubusercontent.com/telescopeuser/iss-vm/master/iss-vm-s6.png' width=100% style=\"float: left;\">"
   ]
  },
  {
   "cell_type": "markdown",
   "metadata": {},
   "source": [
    "On desktop, click 'Solution WeChat Software Robot' to start the quick demo in terminal, or manually start by command:\n",
    "\n",
    "$ python workshop_blog/wechat_tool/terminal-script-py/lesson_1_terminal_py3.py\n",
    "\n"
   ]
  },
  {
   "cell_type": "markdown",
   "metadata": {},
   "source": [
    "<img src='reference/lesson_1_terminal_py3.py-chat-log.png' width=100% style=\"float: left;\">"
   ]
  },
  {
   "cell_type": "markdown",
   "metadata": {},
   "source": [
    "### 选择2：本地电脑安装\n",
    "### Option 2: Use your own computer (Difficulty level: High, as what you normally do)\n",
    "* Install Anaconda3 (This software includes many useful tools: Python3, Jupyter Notebook, pip) https://www.continuum.io/downloads\n",
    "* Install Git & Git Bash https://git-scm.com/downloads\n",
    "* Install WeChat API package for Anaconda / python\n",
    "\n",
    "  > pip install -U html\n",
    "  \n",
    "  > pip install -U qrcode\n",
    "  \n",
    "  > pip install -U itchat\n",
    "  \n",
    "* Download workshop python notebook code from Github: https://github.com/telescopeuser/workshop_blog.git\n",
    "* Start Jupyter Notebook (Here I use Git Bash command line tool)\n",
    "* Open a web browser if it's not started automatically. Go to url: http://localhost/tree"
   ]
  },
  {
   "cell_type": "markdown",
   "metadata": {},
   "source": [
    "---"
   ]
  },
  {
   "cell_type": "markdown",
   "metadata": {
    "collapsed": true
   },
   "source": [
    "## 3. 恭喜您！安装成功了！下一步进入具体课程和实战操作，请打开第一课的笔记本。 Congratulations! After completing one of the installation options, you are now ready to rock! Go to GCP Datalab folder: workshop_blog/wechat_tool, open Notebook and follow...\n",
    "\n",
    "<img src='./reference/setup_ref_01.png' width=100% style=\"float: left;\">"
   ]
  },
  {
   "cell_type": "markdown",
   "metadata": {},
   "source": [
    "### [ March 2018 ] What am I doing now?\n",
    "\n",
    "Most time in thinking 'where to have lunch' while lecturing in Institute of Systems Science, National University of Singapore:\n",
    "\n",
    "https://www.iss.nus.edu.sg/about-us/staff/detail/201/Sam%20GU"
   ]
  },
  {
   "cell_type": "markdown",
   "metadata": {},
   "source": [
    "<img src='./reference/WeChat_SamGu_Profile.png' width=100% style=\"float: left;\">"
   ]
  },
  {
   "cell_type": "markdown",
   "metadata": {},
   "source": [
    "## 欢迎报考 新加坡国立大学 人工智能 硕士学位 !\n",
    "## Welcome to pursue Artificial Intelligence master degree from National University of Singapore !"
   ]
  },
  {
   "cell_type": "markdown",
   "metadata": {},
   "source": [
    "<img src='reference/DontPanic.jpg' width=100% style=\"float: left;\">"
   ]
  },
  {
   "cell_type": "markdown",
   "metadata": {},
   "source": [
    "Image stolen from: https://www.lifegate.it/persone/stile-di-vita/falcon-heavy"
   ]
  },
  {
   "cell_type": "markdown",
   "metadata": {},
   "source": [
    "> *DON'T PANIC!*\n",
    "\n",
    "> *The History of every major Galactic Civilization tends to pass through three distinct and recognizable phases, those of Survival, Inquiry and Sophistication, otherwise known as the How, Why, and Where phases. For instance, the first phase is characterized by the question 'How can we eat?' the second by the question 'Why do we eat?' and the third by the question 'Where shall we have lunch?'*\n",
    "\n",
    "> *from < The Restaurant at the End of the Universe > & < The Hitchhiker's Guide to the Galaxy > by Douglas Adams*"
   ]
  }
 ],
 "metadata": {
  "kernelspec": {
   "display_name": "Python 3",
   "language": "python",
   "name": "python3"
  },
  "language_info": {
   "codemirror_mode": {
    "name": "ipython",
    "version": 3
   },
   "file_extension": ".py",
   "mimetype": "text/x-python",
   "name": "python",
   "nbconvert_exporter": "python",
   "pygments_lexer": "ipython3",
   "version": "3.6.4"
  }
 },
 "nbformat": 4,
 "nbformat_minor": 1
}
