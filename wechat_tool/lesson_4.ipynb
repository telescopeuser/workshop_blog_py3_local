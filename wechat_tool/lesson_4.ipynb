{
 "cells": [
  {
   "cell_type": "code",
   "execution_count": 1,
   "metadata": {
    "collapsed": false
   },
   "outputs": [
    {
     "data": {
      "text/html": [
       "\n",
       "        <iframe\n",
       "            width=\"400\"\n",
       "            height=\"300\"\n",
       "            src=\"https://www.youtube.com/embed/4m44aPkLY2k\"\n",
       "            frameborder=\"0\"\n",
       "            allowfullscreen\n",
       "        ></iframe>\n",
       "        "
      ],
      "text/plain": [
       "<IPython.lib.display.YouTubeVideo at 0x1e613652f28>"
      ]
     },
     "execution_count": 1,
     "metadata": {},
     "output_type": "execute_result"
    }
   ],
   "source": [
    "from IPython.display import YouTubeVideo\n",
    "YouTubeVideo('4m44aPkLY2k')"
   ]
  },
  {
   "cell_type": "markdown",
   "metadata": {},
   "source": [
    "# 如何使用和开发微信聊天机器人的系列教程\n",
    "# A workshop to develop & use an intelligent and interactive chat-bot in WeChat"
   ]
  },
  {
   "cell_type": "markdown",
   "metadata": {},
   "source": [
    "### WeChat is a popular social media app, which has more than 800 million monthly active users.\n",
    "\n",
    "<img src='http://www.kudosdata.com/wp-content/uploads/2016/11/cropped-KudosLogo1.png' width=30% style=\"float: right;\">\n",
    "<img src='reference/WeChat_SamGu_QR.png' width=10% style=\"float: right;\">\n",
    "\n",
    "### http://www.KudosData.com\n",
    "\n",
    "by: Sam.Gu@KudosData.com\n",
    "\n",
    "\n",
    "May 2017 ========== Scan the QR code to become trainer's friend in WeChat ========>>"
   ]
  },
  {
   "cell_type": "markdown",
   "metadata": {},
   "source": [
    "### 第四课：自然语言处理：语义和情感分析\n",
    "### Lesson 4: Natural Language Processing 2\n",
    "* 消息文字中名称实体的识别 (Name-Entity detection)\n",
    "* 消息文字中语句的情感分析 (Sentiment analysis, Sentence level)\n",
    "* 整篇消息文字的情感分析 (Sentiment analysis, Document level)\n",
    "* 语句的语法分析 (Syntax / Grammar analysis)"
   ]
  },
  {
   "cell_type": "markdown",
   "metadata": {},
   "source": [
    "### Flag to indicate the environment to run this program:"
   ]
  },
  {
   "cell_type": "code",
   "execution_count": 1,
   "metadata": {
    "collapsed": true
   },
   "outputs": [],
   "source": [
    "# parm_runtime_env_GCP = True\n",
    "parm_runtime_env_GCP = False"
   ]
  },
  {
   "cell_type": "markdown",
   "metadata": {
    "collapsed": true
   },
   "source": [
    "### Using Google Cloud Platform's Machine Learning APIs"
   ]
  },
  {
   "cell_type": "markdown",
   "metadata": {},
   "source": [
    "From the same API console, choose \"Dashboard\" on the left-hand menu and \"Enable API\".\n",
    "\n",
    "Enable the following APIs for your project (search for them) if they are not already enabled:\n",
    "<ol>\n",
    "<li> Google Translate API </li>\n",
    "<li> Google Cloud Vision API </li>\n",
    "<li> Google Natural Language API </li>\n",
    "<li> Google Cloud Speech API </li>\n",
    "</ol>\n",
    "\n",
    "Finally, because we are calling the APIs from Python (clients in many other languages are available), let's install the Python package (it's not installed by default on Datalab)"
   ]
  },
  {
   "cell_type": "code",
   "execution_count": 2,
   "metadata": {
    "collapsed": true,
    "scrolled": false
   },
   "outputs": [],
   "source": [
    "# Copyright 2016 Google Inc.\n",
    "# Licensed under the Apache License, Version 2.0 (the \"License\"); \n",
    "# import subprocess\n",
    "# retcode = subprocess.call(['pip', 'install', '-U', 'google-api-python-client'])\n",
    "# retcode = subprocess.call(['pip', 'install', '-U', 'gTTS'])\n",
    "\n",
    "# Below is for GCP only: install audio conversion tool\n",
    "# retcode = subprocess.call(['apt-get', 'update', '-y'])\n",
    "# retcode = subprocess.call(['apt-get', 'install', 'libav-tools', '-y'])"
   ]
  },
  {
   "cell_type": "markdown",
   "metadata": {},
   "source": [
    "### 导入需要用到的一些功能程序库："
   ]
  },
  {
   "cell_type": "code",
   "execution_count": 3,
   "metadata": {
    "collapsed": false
   },
   "outputs": [
    {
     "name": "stdout",
     "output_type": "stream",
     "text": [
      "█\r"
     ]
    }
   ],
   "source": [
    "import io, os, subprocess, sys, re, codecs, time, datetime, requests, itchat\n",
    "from itchat.content import *\n",
    "from googleapiclient.discovery import build"
   ]
  },
  {
   "cell_type": "markdown",
   "metadata": {
    "collapsed": true
   },
   "source": [
    "### GCP Machine Learning API Key\n",
    "\n",
    "First, visit <a href=\"http://console.cloud.google.com/apis\">API console</a>, choose \"Credentials\" on the left-hand menu.  Choose \"Create Credentials\" and generate an API key for your application. You should probably restrict it by IP address to prevent abuse, but for now, just  leave that field blank and delete the API key after trying out this demo.\n",
    "\n",
    "Copy-paste your API Key here:"
   ]
  },
  {
   "cell_type": "code",
   "execution_count": 4,
   "metadata": {
    "collapsed": true
   },
   "outputs": [],
   "source": [
    "# Here I read in my own API_KEY from a file, which is not shared in Github repository:\n",
    "with io.open('../../API_KEY.txt') as fp: \n",
    "    for line in fp: APIKEY = line\n",
    "\n",
    "# You need to un-comment below line and replace 'APIKEY' variable with your own GCP API key:\n",
    "# APIKEY='AIzaSyCvxxxxxxxxxxxxxxxxxxxxxxxxxxxxxxxx'"
   ]
  },
  {
   "cell_type": "code",
   "execution_count": 5,
   "metadata": {
    "collapsed": true
   },
   "outputs": [],
   "source": [
    "# Below is for Google Speech synthesis: text to voice API\n",
    "# from gtts import gTTS\n",
    "\n",
    "# Below is for  Google Speech recognition: voice to text API\n",
    "# speech_service = build('speech', 'v1', developerKey=APIKEY)\n",
    "\n",
    "# Below is for Google Language Tranlation API\n",
    "# service = build('translate', 'v2', developerKey=APIKEY)\n",
    "\n",
    "# Below is for Google Natual Language Processing API\n",
    "# nlp_service = build('language', 'v1', developerKey=APIKEY)\n",
    "nlp_service = build('language', 'v1beta2', developerKey=APIKEY)"
   ]
  },
  {
   "cell_type": "markdown",
   "metadata": {},
   "source": [
    "### 多媒体二进制base64码转换 (Define media pre-processing functions)"
   ]
  },
  {
   "cell_type": "code",
   "execution_count": 6,
   "metadata": {
    "collapsed": true
   },
   "outputs": [],
   "source": [
    "# Import the base64 encoding library.\n",
    "import base64\n",
    "# Pass the image data to an encoding function.\n",
    "def encode_image(image_file):\n",
    "    with io.open(image_file, \"rb\") as image_file:\n",
    "        image_content = image_file.read()\n",
    "# Python 2\n",
    "    if sys.version_info[0] < 3:\n",
    "        return base64.b64encode(image_content)\n",
    "# Python 3\n",
    "    else:\n",
    "        return base64.b64encode(image_content).decode('utf-8')\n",
    "\n",
    "# Pass the audio data to an encoding function.\n",
    "def encode_audio(audio_file):\n",
    "    with io.open(audio_file, 'rb') as audio_file:\n",
    "        audio_content = audio_file.read()\n",
    "# Python 2\n",
    "    if sys.version_info[0] < 3:\n",
    "        return base64.b64encode(audio_content)\n",
    "# Python 3\n",
    "    else:\n",
    "        return base64.b64encode(audio_content).decode('utf-8')\n"
   ]
  },
  {
   "cell_type": "markdown",
   "metadata": {},
   "source": [
    "### 机器智能API接口控制参数 (Define control parameters for API)"
   ]
  },
  {
   "cell_type": "code",
   "execution_count": 7,
   "metadata": {
    "collapsed": true
   },
   "outputs": [],
   "source": [
    "# API control parameter for Image API:\n",
    "parm_image_maxResults = 10 # max objects or faces to be extracted from image analysis\n",
    "\n",
    "# API control parameter for Language Translation API:\n",
    "parm_translation_origin_language = 'zh' # original language in text: to be overwriten by TEXT_DETECTION\n",
    "parm_translation_target_language = 'zh' # target language for translation: Chinese\n",
    "\n",
    "\n",
    "# API control parameter for 消息文字转成语音 (Speech synthesis: text to voice)\n",
    "parm_speech_synthesis_language = 'zh' # speech synthesis API 'text to voice' language\n",
    "# parm_speech_synthesis_language = 'zh-tw' # speech synthesis API 'text to voice' language\n",
    "# parm_speech_synthesis_language = 'zh-yue' # speech synthesis API 'text to voice' language\n",
    "\n",
    "# API control parameter for 语音转换成消息文字 (Speech recognition: voice to text)\n",
    "# parm_speech_recognition_language = 'en' # speech API 'voice to text' language\n",
    "parm_speech_recognition_language = 'cmn-Hans-CN' # speech API 'voice to text' language\n",
    "\n",
    "# API control parameter for 自然语言处理：语义和情感分析\n",
    "parm_nlp_extractDocumentSentiment = True # 情感分析 (Sentiment analysis)\n",
    "parm_nlp_extractEntities = True          # 消息文字中名称实体的识别 (Name-Entity detection)\n",
    "parm_nlp_extractEntitySentiment = False  # Only available in v1beta2. But Chinese language zh is not supported yet.\n",
    "parm_nlp_extractSyntax = True            # 语句的语法分析 (Syntax / Grammar analysis)"
   ]
  },
  {
   "cell_type": "markdown",
   "metadata": {
    "collapsed": true
   },
   "source": [
    "### 定义一个调用自然语言处理接口的小功能"
   ]
  },
  {
   "cell_type": "code",
   "execution_count": 8,
   "metadata": {
    "collapsed": true
   },
   "outputs": [],
   "source": [
    "# Running Speech API\n",
    "def KudosData_nlp(text, extractDocumentSentiment, extractEntities, extractEntitySentiment, extractSyntax): \n",
    "    # Python 2\n",
    "#     if sys.version_info[0] < 3: \n",
    "#         tts = gTTS(text=text2voice.encode('utf-8'), lang=parm_speech_synthesis_language, slow=False)\n",
    "    # Python 3\n",
    "#     else:\n",
    "#         tts = gTTS(text=text2voice, lang=parm_speech_synthesis_language, slow=False)\n",
    "        \n",
    "    request = nlp_service.documents().annotateText(body={\n",
    "                \"document\":{\n",
    "                    \"type\": \"PLAIN_TEXT\",\n",
    "                    \"content\": text\n",
    "                    },\n",
    "                \"features\": {\n",
    "                    \"extractDocumentSentiment\": extractDocumentSentiment,\n",
    "                    \"extractEntities\": extractEntities,\n",
    "                    \"extractEntitySentiment\": extractEntitySentiment, # only available in v1beta2\n",
    "                    \"extractSyntax\": extractSyntax,\n",
    "                    },\n",
    "                \"encodingType\":\"UTF8\"\n",
    "                })\n",
    "    responses = request.execute(num_retries=3)        \n",
    "    print('\\nCompeleted: NLP analysis API')\n",
    "    return responses"
   ]
  },
  {
   "cell_type": "markdown",
   "metadata": {
    "collapsed": true
   },
   "source": [
    "< Start of interactive demo >"
   ]
  },
  {
   "cell_type": "code",
   "execution_count": 9,
   "metadata": {
    "collapsed": true
   },
   "outputs": [],
   "source": [
    "text4nlp = 'As a data science consultant and trainer with Kudos Data, Zhan GU (Sam) engages communities and schools ' \\\n",
    "           'to help organizations making sense of their data using advanced data science , machine learning and ' \\\n",
    "           'cloud computing technologies. Inspire next generation of artificial intelligence lovers and leaders.'"
   ]
  },
  {
   "cell_type": "code",
   "execution_count": 10,
   "metadata": {
    "collapsed": true
   },
   "outputs": [],
   "source": [
    "text4nlp = '作为酷豆数据科学的顾问和培训师，Sam Gu （白黑） 善长联络社群和教育资源。' \\\n",
    "           '促进各大公司组织使用先进的数据科学、机器学习和云计算技术来获取数据洞见。激励下一代人工智能爱好者和领导者。'"
   ]
  },
  {
   "cell_type": "code",
   "execution_count": 11,
   "metadata": {
    "collapsed": false,
    "scrolled": true
   },
   "outputs": [
    {
     "name": "stdout",
     "output_type": "stream",
     "text": [
      "\n",
      "Compeleted: NLP analysis API\n"
     ]
    }
   ],
   "source": [
    "responses = KudosData_nlp(text4nlp\n",
    "                            , parm_nlp_extractDocumentSentiment\n",
    "                            , parm_nlp_extractEntities\n",
    "                            , parm_nlp_extractEntitySentiment\n",
    "                            , parm_nlp_extractSyntax)"
   ]
  },
  {
   "cell_type": "code",
   "execution_count": 12,
   "metadata": {
    "collapsed": true
   },
   "outputs": [],
   "source": [
    "# print(responses)"
   ]
  },
  {
   "cell_type": "markdown",
   "metadata": {},
   "source": [
    "### * 消息文字中名称实体的识别 (Name-Entity detection)"
   ]
  },
  {
   "cell_type": "code",
   "execution_count": 13,
   "metadata": {
    "collapsed": true
   },
   "outputs": [],
   "source": [
    "# print(responses['entities'])"
   ]
  },
  {
   "cell_type": "code",
   "execution_count": 14,
   "metadata": {
    "collapsed": false,
    "scrolled": false
   },
   "outputs": [
    {
     "name": "stdout",
     "output_type": "stream",
     "text": [
      "\n",
      "[ 实体 1 : 酷豆数据科学 ]\n",
      "  实体类别 : OTHER\n",
      "  重要程度 : 0.21968429\n",
      "  https://en.wikipedia.org/wiki/Data_science\n",
      "\n",
      "[ 实体 2 : 顾问 ]\n",
      "  实体类别 : PERSON\n",
      "  重要程度 : 0.14425991\n",
      "\n",
      "[ 实体 3 : Sam Gu ]\n",
      "  实体类别 : PERSON\n",
      "  重要程度 : 0.13641302\n",
      "\n",
      "[ 实体 4 : 培训师 ]\n",
      "  实体类别 : PERSON\n",
      "  重要程度 : 0.118462436\n",
      "\n",
      "[ 实体 5 : 白黑 ]\n",
      "  实体类别 : OTHER\n",
      "  重要程度 : 0.118462436\n",
      "\n",
      "[ 实体 6 : 数据科学 ]\n",
      "  实体类别 : OTHER\n",
      "  重要程度 : 0.04529309\n",
      "\n",
      "[ 实体 7 : 云计算技术 ]\n",
      "  实体类别 : OTHER\n",
      "  重要程度 : 0.039374225\n",
      "\n",
      "[ 实体 8 : 社群 ]\n",
      "  实体类别 : OTHER\n",
      "  重要程度 : 0.035438944\n",
      "\n",
      "[ 实体 9 : 教育资源 ]\n",
      "  实体类别 : OTHER\n",
      "  重要程度 : 0.035438944\n",
      "\n",
      "[ 实体 10 : 机器学习 ]\n",
      "  实体类别 : OTHER\n",
      "  重要程度 : 0.03370535\n",
      "\n",
      "[ 实体 11 : 公司组织 ]\n",
      "  实体类别 : ORGANIZATION\n",
      "  重要程度 : 0.030995347\n",
      "\n",
      "[ 实体 12 : 人工智能爱好者 ]\n",
      "  实体类别 : PERSON\n",
      "  重要程度 : 0.021235999\n",
      "\n",
      "[ 实体 13 : 领导者 ]\n",
      "  实体类别 : PERSON\n",
      "  重要程度 : 0.021235999\n"
     ]
    }
   ],
   "source": [
    "for i in range(len(responses['entities'])): \n",
    "#     print(responses['entities'][i])\n",
    "    print('')\n",
    "    print(u'[ 实体 {} : {} ]\\n  实体类别 : {}\\n  重要程度 : {}'.format(\n",
    "          i+1\n",
    "        , responses['entities'][i]['name']\n",
    "        , responses['entities'][i]['type']\n",
    "        , responses['entities'][i]['salience']\n",
    "    ))\n",
    "#     print(responses['entities'][i]['name'])\n",
    "#     print(responses['entities'][i]['type'])\n",
    "#     print(responses['entities'][i]['salience'])\n",
    "    if 'sentiment' in responses['entities'][i]:\n",
    "        print(u'  褒贬程度 : {}\\n  语彩累积 : {}'.format(\n",
    "              responses['entities'][i]['sentiment']['score']\n",
    "            , responses['entities'][i]['sentiment']['magnitude']\n",
    "        ))\n",
    "#     print(responses['entities'][i]['sentiment'])\n",
    "    if responses['entities'][i]['metadata'] != {}:\n",
    "        if 'wikipedia_url' in responses['entities'][i]['metadata']:\n",
    "            print('  ' + responses['entities'][i]['metadata']['wikipedia_url'])"
   ]
  },
  {
   "cell_type": "markdown",
   "metadata": {},
   "source": [
    "### * 消息文字中语句的情感分析 (Sentiment analysis, Sentence level)"
   ]
  },
  {
   "cell_type": "code",
   "execution_count": 15,
   "metadata": {
    "collapsed": true
   },
   "outputs": [],
   "source": [
    "# print(responses['sentences'])"
   ]
  },
  {
   "cell_type": "code",
   "execution_count": 16,
   "metadata": {
    "collapsed": false,
    "scrolled": true
   },
   "outputs": [
    {
     "name": "stdout",
     "output_type": "stream",
     "text": [
      "\n",
      "[ 语句 1 : 作为酷豆数据科学的顾问和培训师，Sam Gu （白黑） 善长联络社群和教育资源。 ]\n",
      "( 褒贬程度 : 0.8 | 语彩累积 : 0.8 )\n",
      "\n",
      "[ 语句 2 : 促进各大公司组织使用先进的数据科学、机器学习和云计算技术来获取数据洞见。 ]\n",
      "( 褒贬程度 : 0.9 | 语彩累积 : 0.9 )\n",
      "\n",
      "[ 语句 3 : 激励下一代人工智能爱好者和领导者。 ]\n",
      "( 褒贬程度 : 0.2 | 语彩累积 : 0.2 )\n"
     ]
    }
   ],
   "source": [
    "for i in range(len(responses['sentences'])):\n",
    "    print('')\n",
    "    print(u'[ 语句 {} : {} ]\\n( 褒贬程度 : {} | 语彩累积 : {} )'.format(\n",
    "          i+1\n",
    "        , responses['sentences'][i]['text']['content']\n",
    "        , responses['sentences'][i]['sentiment']['score']\n",
    "        , responses['sentences'][i]['sentiment']['magnitude']\n",
    "    ))\n"
   ]
  },
  {
   "cell_type": "markdown",
   "metadata": {},
   "source": [
    "https://cloud.google.com/natural-language/docs/basics\n",
    "\n",
    "* **score 褒贬程度** of the sentiment ranges between -1.0 (negative) and 1.0 (positive) and corresponds to the overall emotional leaning of the text.\n",
    "* **magnitude 语彩累积** indicates the overall strength of emotion (both positive and negative) within the given text, between 0.0 and +inf. Unlike score, magnitude is not normalized; each expression of emotion within the text (both positive and negative) contributes to the text's magnitude (so longer text blocks may have greater magnitudes).\n",
    "\n",
    "\n",
    "| Sentiment     | Sample Values |\n",
    "|:-------------:|:-------------:|\n",
    "| 明显褒义 Clearly Positive\t| \"score 褒贬程度\": 0.8, \"magnitude 语彩累积\": 3.0  |\n",
    "| 明显贬义 Clearly Negative\t| \"score 褒贬程度\": -0.6, \"magnitude 语彩累积\": 4.0  |\n",
    "| 中性 Neutral\t| \"score 褒贬程度\": 0.1, \"magnitude 语彩累积\": 0.0  |\n",
    "| 混合 Mixed\t| \"score 褒贬程度\": 0.0, \"magnitude 语彩累积\": 4.0  |\n"
   ]
  },
  {
   "cell_type": "markdown",
   "metadata": {},
   "source": [
    "### * 整篇消息文字的情感分析 (Sentiment analysis, Document level)"
   ]
  },
  {
   "cell_type": "code",
   "execution_count": 17,
   "metadata": {
    "collapsed": true
   },
   "outputs": [],
   "source": [
    "# print(responses['documentSentiment'])"
   ]
  },
  {
   "cell_type": "code",
   "execution_count": 18,
   "metadata": {
    "collapsed": false
   },
   "outputs": [
    {
     "name": "stdout",
     "output_type": "stream",
     "text": [
      "[ 整篇消息 语种 : zh ]\n",
      "( 褒贬程度 : 0.6 | 语彩累积 : 2 )\n"
     ]
    }
   ],
   "source": [
    "print(u'[ 整篇消息 语种 : {} ]\\n( 褒贬程度 : {} | 语彩累积 : {} )'.format(\n",
    "            responses['language']\n",
    "            , responses['documentSentiment']['score']\n",
    "            , responses['documentSentiment']['magnitude']\n",
    "    ))"
   ]
  },
  {
   "cell_type": "markdown",
   "metadata": {},
   "source": [
    "### * 语句的语法分析 (Syntax / Grammar analysis)"
   ]
  },
  {
   "cell_type": "code",
   "execution_count": 19,
   "metadata": {
    "collapsed": false,
    "scrolled": false
   },
   "outputs": [
    {
     "name": "stdout",
     "output_type": "stream",
     "text": [
      "\n",
      "作为\n",
      "{u'case': u'CASE_UNKNOWN', u'reciprocity': u'RECIPROCITY_UNKNOWN', u'mood': u'MOOD_UNKNOWN', u'form': u'FORM_UNKNOWN', u'gender': u'GENDER_UNKNOWN', u'number': u'NUMBER_UNKNOWN', u'person': u'PERSON_UNKNOWN', u'tag': u'VERB', u'tense': u'TENSE_UNKNOWN', u'aspect': u'ASPECT_UNKNOWN', u'proper': u'NOT_PROPER', u'voice': u'VOICE_UNKNOWN'}\n",
      "{u'headTokenIndex': 16, u'label': u'VMOD'}\n",
      "\n",
      "酷\n",
      "{u'case': u'CASE_UNKNOWN', u'reciprocity': u'RECIPROCITY_UNKNOWN', u'mood': u'MOOD_UNKNOWN', u'form': u'FORM_UNKNOWN', u'gender': u'GENDER_UNKNOWN', u'number': u'NUMBER_UNKNOWN', u'person': u'PERSON_UNKNOWN', u'tag': u'NOUN', u'tense': u'TENSE_UNKNOWN', u'aspect': u'ASPECT_UNKNOWN', u'proper': u'NOT_PROPER', u'voice': u'VOICE_UNKNOWN'}\n",
      "{u'headTokenIndex': 2, u'label': u'SUFF'}\n",
      "\n",
      "豆\n",
      "{u'case': u'CASE_UNKNOWN', u'reciprocity': u'RECIPROCITY_UNKNOWN', u'mood': u'MOOD_UNKNOWN', u'form': u'FORM_UNKNOWN', u'gender': u'GENDER_UNKNOWN', u'number': u'NUMBER_UNKNOWN', u'person': u'PERSON_UNKNOWN', u'tag': u'AFFIX', u'tense': u'TENSE_UNKNOWN', u'aspect': u'ASPECT_UNKNOWN', u'proper': u'NOT_PROPER', u'voice': u'VOICE_UNKNOWN'}\n",
      "{u'headTokenIndex': 4, u'label': u'NN'}\n",
      "\n",
      "数据\n",
      "{u'case': u'CASE_UNKNOWN', u'reciprocity': u'RECIPROCITY_UNKNOWN', u'mood': u'MOOD_UNKNOWN', u'form': u'FORM_UNKNOWN', u'gender': u'GENDER_UNKNOWN', u'number': u'NUMBER_UNKNOWN', u'person': u'PERSON_UNKNOWN', u'tag': u'NOUN', u'tense': u'TENSE_UNKNOWN', u'aspect': u'ASPECT_UNKNOWN', u'proper': u'NOT_PROPER', u'voice': u'VOICE_UNKNOWN'}\n",
      "{u'headTokenIndex': 4, u'label': u'NN'}\n",
      "\n",
      "科学\n",
      "{u'case': u'CASE_UNKNOWN', u'reciprocity': u'RECIPROCITY_UNKNOWN', u'mood': u'MOOD_UNKNOWN', u'form': u'FORM_UNKNOWN', u'gender': u'GENDER_UNKNOWN', u'number': u'NUMBER_UNKNOWN', u'person': u'PERSON_UNKNOWN', u'tag': u'NOUN', u'tense': u'TENSE_UNKNOWN', u'aspect': u'ASPECT_UNKNOWN', u'proper': u'NOT_PROPER', u'voice': u'VOICE_UNKNOWN'}\n",
      "{u'headTokenIndex': 6, u'label': u'POSS'}\n",
      "\n",
      "的\n",
      "{u'case': u'GENITIVE', u'reciprocity': u'RECIPROCITY_UNKNOWN', u'mood': u'MOOD_UNKNOWN', u'form': u'FORM_UNKNOWN', u'gender': u'GENDER_UNKNOWN', u'number': u'NUMBER_UNKNOWN', u'person': u'PERSON_UNKNOWN', u'tag': u'PRT', u'tense': u'TENSE_UNKNOWN', u'aspect': u'ASPECT_UNKNOWN', u'proper': u'NOT_PROPER', u'voice': u'VOICE_UNKNOWN'}\n",
      "{u'headTokenIndex': 4, u'label': u'PS'}\n",
      "\n",
      "顾问\n",
      "{u'case': u'CASE_UNKNOWN', u'reciprocity': u'RECIPROCITY_UNKNOWN', u'mood': u'MOOD_UNKNOWN', u'form': u'FORM_UNKNOWN', u'gender': u'GENDER_UNKNOWN', u'number': u'NUMBER_UNKNOWN', u'person': u'PERSON_UNKNOWN', u'tag': u'NOUN', u'tense': u'TENSE_UNKNOWN', u'aspect': u'ASPECT_UNKNOWN', u'proper': u'NOT_PROPER', u'voice': u'VOICE_UNKNOWN'}\n",
      "{u'headTokenIndex': 0, u'label': u'DOBJ'}\n",
      "\n",
      "和\n",
      "{u'case': u'CASE_UNKNOWN', u'reciprocity': u'RECIPROCITY_UNKNOWN', u'mood': u'MOOD_UNKNOWN', u'form': u'FORM_UNKNOWN', u'gender': u'GENDER_UNKNOWN', u'number': u'NUMBER_UNKNOWN', u'person': u'PERSON_UNKNOWN', u'tag': u'CONJ', u'tense': u'TENSE_UNKNOWN', u'aspect': u'ASPECT_UNKNOWN', u'proper': u'NOT_PROPER', u'voice': u'VOICE_UNKNOWN'}\n",
      "{u'headTokenIndex': 6, u'label': u'CC'}\n",
      "\n",
      "培训师\n",
      "{u'case': u'CASE_UNKNOWN', u'reciprocity': u'RECIPROCITY_UNKNOWN', u'mood': u'MOOD_UNKNOWN', u'form': u'FORM_UNKNOWN', u'gender': u'GENDER_UNKNOWN', u'number': u'NUMBER_UNKNOWN', u'person': u'PERSON_UNKNOWN', u'tag': u'UNKNOWN', u'tense': u'TENSE_UNKNOWN', u'aspect': u'ASPECT_UNKNOWN', u'proper': u'NOT_PROPER', u'voice': u'VOICE_UNKNOWN'}\n",
      "{u'headTokenIndex': 6, u'label': u'CONJ'}\n",
      "\n",
      "，\n",
      "{u'case': u'CASE_UNKNOWN', u'reciprocity': u'RECIPROCITY_UNKNOWN', u'mood': u'MOOD_UNKNOWN', u'form': u'FORM_UNKNOWN', u'gender': u'GENDER_UNKNOWN', u'number': u'NUMBER_UNKNOWN', u'person': u'PERSON_UNKNOWN', u'tag': u'PUNCT', u'tense': u'TENSE_UNKNOWN', u'aspect': u'ASPECT_UNKNOWN', u'proper': u'NOT_PROPER', u'voice': u'VOICE_UNKNOWN'}\n",
      "{u'headTokenIndex': 16, u'label': u'P'}\n",
      "\n",
      "Sam\n",
      "{u'case': u'CASE_UNKNOWN', u'reciprocity': u'RECIPROCITY_UNKNOWN', u'mood': u'MOOD_UNKNOWN', u'form': u'FORM_UNKNOWN', u'gender': u'GENDER_UNKNOWN', u'number': u'NUMBER_UNKNOWN', u'person': u'PERSON_UNKNOWN', u'tag': u'X', u'tense': u'TENSE_UNKNOWN', u'aspect': u'ASPECT_UNKNOWN', u'proper': u'PROPER', u'voice': u'VOICE_UNKNOWN'}\n",
      "{u'headTokenIndex': 15, u'label': u'NN'}\n",
      "\n",
      "Gu\n",
      "{u'case': u'CASE_UNKNOWN', u'reciprocity': u'RECIPROCITY_UNKNOWN', u'mood': u'MOOD_UNKNOWN', u'form': u'FORM_UNKNOWN', u'gender': u'GENDER_UNKNOWN', u'number': u'NUMBER_UNKNOWN', u'person': u'PERSON_UNKNOWN', u'tag': u'X', u'tense': u'TENSE_UNKNOWN', u'aspect': u'ASPECT_UNKNOWN', u'proper': u'PROPER', u'voice': u'VOICE_UNKNOWN'}\n",
      "{u'headTokenIndex': 10, u'label': u'FOREIGN'}\n",
      "\n",
      "（\n",
      "{u'case': u'CASE_UNKNOWN', u'reciprocity': u'RECIPROCITY_UNKNOWN', u'mood': u'MOOD_UNKNOWN', u'form': u'FORM_UNKNOWN', u'gender': u'GENDER_UNKNOWN', u'number': u'NUMBER_UNKNOWN', u'person': u'PERSON_UNKNOWN', u'tag': u'PUNCT', u'tense': u'TENSE_UNKNOWN', u'aspect': u'ASPECT_UNKNOWN', u'proper': u'NOT_PROPER', u'voice': u'VOICE_UNKNOWN'}\n",
      "{u'headTokenIndex': 13, u'label': u'P'}\n",
      "\n",
      "白黑\n",
      "{u'case': u'CASE_UNKNOWN', u'reciprocity': u'RECIPROCITY_UNKNOWN', u'mood': u'MOOD_UNKNOWN', u'form': u'FORM_UNKNOWN', u'gender': u'GENDER_UNKNOWN', u'number': u'NUMBER_UNKNOWN', u'person': u'PERSON_UNKNOWN', u'tag': u'UNKNOWN', u'tense': u'TENSE_UNKNOWN', u'aspect': u'ASPECT_UNKNOWN', u'proper': u'NOT_PROPER', u'voice': u'VOICE_UNKNOWN'}\n",
      "{u'headTokenIndex': 10, u'label': u'APPOS'}\n",
      "\n",
      "）\n",
      "{u'case': u'CASE_UNKNOWN', u'reciprocity': u'RECIPROCITY_UNKNOWN', u'mood': u'MOOD_UNKNOWN', u'form': u'FORM_UNKNOWN', u'gender': u'GENDER_UNKNOWN', u'number': u'NUMBER_UNKNOWN', u'person': u'PERSON_UNKNOWN', u'tag': u'PUNCT', u'tense': u'TENSE_UNKNOWN', u'aspect': u'ASPECT_UNKNOWN', u'proper': u'NOT_PROPER', u'voice': u'VOICE_UNKNOWN'}\n",
      "{u'headTokenIndex': 13, u'label': u'P'}\n",
      "\n",
      "善长\n",
      "{u'case': u'CASE_UNKNOWN', u'reciprocity': u'RECIPROCITY_UNKNOWN', u'mood': u'MOOD_UNKNOWN', u'form': u'FORM_UNKNOWN', u'gender': u'GENDER_UNKNOWN', u'number': u'NUMBER_UNKNOWN', u'person': u'PERSON_UNKNOWN', u'tag': u'UNKNOWN', u'tense': u'TENSE_UNKNOWN', u'aspect': u'ASPECT_UNKNOWN', u'proper': u'NOT_PROPER', u'voice': u'VOICE_UNKNOWN'}\n",
      "{u'headTokenIndex': 16, u'label': u'NSUBJ'}\n",
      "\n",
      "联络\n",
      "{u'case': u'CASE_UNKNOWN', u'reciprocity': u'RECIPROCITY_UNKNOWN', u'mood': u'MOOD_UNKNOWN', u'form': u'FORM_UNKNOWN', u'gender': u'GENDER_UNKNOWN', u'number': u'NUMBER_UNKNOWN', u'person': u'PERSON_UNKNOWN', u'tag': u'VERB', u'tense': u'TENSE_UNKNOWN', u'aspect': u'ASPECT_UNKNOWN', u'proper': u'NOT_PROPER', u'voice': u'VOICE_UNKNOWN'}\n",
      "{u'headTokenIndex': 16, u'label': u'ROOT'}\n",
      "\n",
      "社群\n",
      "{u'case': u'CASE_UNKNOWN', u'reciprocity': u'RECIPROCITY_UNKNOWN', u'mood': u'MOOD_UNKNOWN', u'form': u'FORM_UNKNOWN', u'gender': u'GENDER_UNKNOWN', u'number': u'NUMBER_UNKNOWN', u'person': u'PERSON_UNKNOWN', u'tag': u'NOUN', u'tense': u'TENSE_UNKNOWN', u'aspect': u'ASPECT_UNKNOWN', u'proper': u'NOT_PROPER', u'voice': u'VOICE_UNKNOWN'}\n",
      "{u'headTokenIndex': 16, u'label': u'DOBJ'}\n",
      "\n",
      "和\n",
      "{u'case': u'CASE_UNKNOWN', u'reciprocity': u'RECIPROCITY_UNKNOWN', u'mood': u'MOOD_UNKNOWN', u'form': u'FORM_UNKNOWN', u'gender': u'GENDER_UNKNOWN', u'number': u'NUMBER_UNKNOWN', u'person': u'PERSON_UNKNOWN', u'tag': u'CONJ', u'tense': u'TENSE_UNKNOWN', u'aspect': u'ASPECT_UNKNOWN', u'proper': u'NOT_PROPER', u'voice': u'VOICE_UNKNOWN'}\n",
      "{u'headTokenIndex': 17, u'label': u'CC'}\n",
      "\n",
      "教育\n",
      "{u'case': u'CASE_UNKNOWN', u'reciprocity': u'RECIPROCITY_UNKNOWN', u'mood': u'MOOD_UNKNOWN', u'form': u'FORM_UNKNOWN', u'gender': u'GENDER_UNKNOWN', u'number': u'NUMBER_UNKNOWN', u'person': u'PERSON_UNKNOWN', u'tag': u'NOUN', u'tense': u'TENSE_UNKNOWN', u'aspect': u'ASPECT_UNKNOWN', u'proper': u'NOT_PROPER', u'voice': u'VOICE_UNKNOWN'}\n",
      "{u'headTokenIndex': 20, u'label': u'NN'}\n",
      "\n",
      "资源\n",
      "{u'case': u'CASE_UNKNOWN', u'reciprocity': u'RECIPROCITY_UNKNOWN', u'mood': u'MOOD_UNKNOWN', u'form': u'FORM_UNKNOWN', u'gender': u'GENDER_UNKNOWN', u'number': u'NUMBER_UNKNOWN', u'person': u'PERSON_UNKNOWN', u'tag': u'NOUN', u'tense': u'TENSE_UNKNOWN', u'aspect': u'ASPECT_UNKNOWN', u'proper': u'NOT_PROPER', u'voice': u'VOICE_UNKNOWN'}\n",
      "{u'headTokenIndex': 17, u'label': u'CONJ'}\n",
      "\n",
      "。\n",
      "{u'case': u'CASE_UNKNOWN', u'reciprocity': u'RECIPROCITY_UNKNOWN', u'mood': u'MOOD_UNKNOWN', u'form': u'FORM_UNKNOWN', u'gender': u'GENDER_UNKNOWN', u'number': u'NUMBER_UNKNOWN', u'person': u'PERSON_UNKNOWN', u'tag': u'PUNCT', u'tense': u'TENSE_UNKNOWN', u'aspect': u'ASPECT_UNKNOWN', u'proper': u'NOT_PROPER', u'voice': u'VOICE_UNKNOWN'}\n",
      "{u'headTokenIndex': 16, u'label': u'P'}\n",
      "\n",
      "促进\n",
      "{u'case': u'CASE_UNKNOWN', u'reciprocity': u'RECIPROCITY_UNKNOWN', u'mood': u'MOOD_UNKNOWN', u'form': u'FORM_UNKNOWN', u'gender': u'GENDER_UNKNOWN', u'number': u'NUMBER_UNKNOWN', u'person': u'PERSON_UNKNOWN', u'tag': u'VERB', u'tense': u'TENSE_UNKNOWN', u'aspect': u'ASPECT_UNKNOWN', u'proper': u'NOT_PROPER', u'voice': u'VOICE_UNKNOWN'}\n",
      "{u'headTokenIndex': 22, u'label': u'ROOT'}\n",
      "\n",
      "各\n",
      "{u'case': u'CASE_UNKNOWN', u'reciprocity': u'RECIPROCITY_UNKNOWN', u'mood': u'MOOD_UNKNOWN', u'form': u'FORM_UNKNOWN', u'gender': u'GENDER_UNKNOWN', u'number': u'NUMBER_UNKNOWN', u'person': u'PERSON_UNKNOWN', u'tag': u'DET', u'tense': u'TENSE_UNKNOWN', u'aspect': u'ASPECT_UNKNOWN', u'proper': u'NOT_PROPER', u'voice': u'VOICE_UNKNOWN'}\n",
      "{u'headTokenIndex': 26, u'label': u'DET'}\n",
      "\n",
      "大\n",
      "{u'case': u'CASE_UNKNOWN', u'reciprocity': u'RECIPROCITY_UNKNOWN', u'mood': u'MOOD_UNKNOWN', u'form': u'FORM_UNKNOWN', u'gender': u'GENDER_UNKNOWN', u'number': u'NUMBER_UNKNOWN', u'person': u'PERSON_UNKNOWN', u'tag': u'AFFIX', u'tense': u'TENSE_UNKNOWN', u'aspect': u'ASPECT_UNKNOWN', u'proper': u'NOT_PROPER', u'voice': u'VOICE_UNKNOWN'}\n",
      "{u'headTokenIndex': 25, u'label': u'PREF'}\n",
      "\n",
      "公司\n",
      "{u'case': u'CASE_UNKNOWN', u'reciprocity': u'RECIPROCITY_UNKNOWN', u'mood': u'MOOD_UNKNOWN', u'form': u'FORM_UNKNOWN', u'gender': u'GENDER_UNKNOWN', u'number': u'NUMBER_UNKNOWN', u'person': u'PERSON_UNKNOWN', u'tag': u'NOUN', u'tense': u'TENSE_UNKNOWN', u'aspect': u'ASPECT_UNKNOWN', u'proper': u'NOT_PROPER', u'voice': u'VOICE_UNKNOWN'}\n",
      "{u'headTokenIndex': 26, u'label': u'NN'}\n",
      "\n",
      "组织\n",
      "{u'case': u'CASE_UNKNOWN', u'reciprocity': u'RECIPROCITY_UNKNOWN', u'mood': u'MOOD_UNKNOWN', u'form': u'FORM_UNKNOWN', u'gender': u'GENDER_UNKNOWN', u'number': u'NUMBER_UNKNOWN', u'person': u'PERSON_UNKNOWN', u'tag': u'NOUN', u'tense': u'TENSE_UNKNOWN', u'aspect': u'ASPECT_UNKNOWN', u'proper': u'NOT_PROPER', u'voice': u'VOICE_UNKNOWN'}\n",
      "{u'headTokenIndex': 40, u'label': u'NSUBJ'}\n",
      "\n",
      "使用\n",
      "{u'case': u'CASE_UNKNOWN', u'reciprocity': u'RECIPROCITY_UNKNOWN', u'mood': u'MOOD_UNKNOWN', u'form': u'FORM_UNKNOWN', u'gender': u'GENDER_UNKNOWN', u'number': u'NUMBER_UNKNOWN', u'person': u'PERSON_UNKNOWN', u'tag': u'VERB', u'tense': u'TENSE_UNKNOWN', u'aspect': u'ASPECT_UNKNOWN', u'proper': u'NOT_PROPER', u'voice': u'VOICE_UNKNOWN'}\n",
      "{u'headTokenIndex': 40, u'label': u'VMOD'}\n",
      "\n",
      "先进\n",
      "{u'case': u'CASE_UNKNOWN', u'reciprocity': u'RECIPROCITY_UNKNOWN', u'mood': u'MOOD_UNKNOWN', u'form': u'FORM_UNKNOWN', u'gender': u'GENDER_UNKNOWN', u'number': u'NUMBER_UNKNOWN', u'person': u'PERSON_UNKNOWN', u'tag': u'ADJ', u'tense': u'TENSE_UNKNOWN', u'aspect': u'ASPECT_UNKNOWN', u'proper': u'NOT_PROPER', u'voice': u'VOICE_UNKNOWN'}\n",
      "{u'headTokenIndex': 31, u'label': u'AMOD'}\n",
      "\n",
      "的\n",
      "{u'case': u'RELATIVE_CASE', u'reciprocity': u'RECIPROCITY_UNKNOWN', u'mood': u'MOOD_UNKNOWN', u'form': u'FORM_UNKNOWN', u'gender': u'GENDER_UNKNOWN', u'number': u'NUMBER_UNKNOWN', u'person': u'PERSON_UNKNOWN', u'tag': u'PRT', u'tense': u'TENSE_UNKNOWN', u'aspect': u'ASPECT_UNKNOWN', u'proper': u'NOT_PROPER', u'voice': u'VOICE_UNKNOWN'}\n",
      "{u'headTokenIndex': 28, u'label': u'RCMODREL'}\n",
      "\n",
      "数据\n",
      "{u'case': u'CASE_UNKNOWN', u'reciprocity': u'RECIPROCITY_UNKNOWN', u'mood': u'MOOD_UNKNOWN', u'form': u'FORM_UNKNOWN', u'gender': u'GENDER_UNKNOWN', u'number': u'NUMBER_UNKNOWN', u'person': u'PERSON_UNKNOWN', u'tag': u'NOUN', u'tense': u'TENSE_UNKNOWN', u'aspect': u'ASPECT_UNKNOWN', u'proper': u'NOT_PROPER', u'voice': u'VOICE_UNKNOWN'}\n",
      "{u'headTokenIndex': 31, u'label': u'NN'}\n",
      "\n",
      "科学\n",
      "{u'case': u'CASE_UNKNOWN', u'reciprocity': u'RECIPROCITY_UNKNOWN', u'mood': u'MOOD_UNKNOWN', u'form': u'FORM_UNKNOWN', u'gender': u'GENDER_UNKNOWN', u'number': u'NUMBER_UNKNOWN', u'person': u'PERSON_UNKNOWN', u'tag': u'NOUN', u'tense': u'TENSE_UNKNOWN', u'aspect': u'ASPECT_UNKNOWN', u'proper': u'NOT_PROPER', u'voice': u'VOICE_UNKNOWN'}\n",
      "{u'headTokenIndex': 27, u'label': u'DOBJ'}\n",
      "\n",
      "、\n",
      "{u'case': u'CASE_UNKNOWN', u'reciprocity': u'RECIPROCITY_UNKNOWN', u'mood': u'MOOD_UNKNOWN', u'form': u'FORM_UNKNOWN', u'gender': u'GENDER_UNKNOWN', u'number': u'NUMBER_UNKNOWN', u'person': u'PERSON_UNKNOWN', u'tag': u'PUNCT', u'tense': u'TENSE_UNKNOWN', u'aspect': u'ASPECT_UNKNOWN', u'proper': u'NOT_PROPER', u'voice': u'VOICE_UNKNOWN'}\n",
      "{u'headTokenIndex': 31, u'label': u'P'}\n",
      "\n",
      "机器\n",
      "{u'case': u'CASE_UNKNOWN', u'reciprocity': u'RECIPROCITY_UNKNOWN', u'mood': u'MOOD_UNKNOWN', u'form': u'FORM_UNKNOWN', u'gender': u'GENDER_UNKNOWN', u'number': u'NUMBER_UNKNOWN', u'person': u'PERSON_UNKNOWN', u'tag': u'NOUN', u'tense': u'TENSE_UNKNOWN', u'aspect': u'ASPECT_UNKNOWN', u'proper': u'NOT_PROPER', u'voice': u'VOICE_UNKNOWN'}\n",
      "{u'headTokenIndex': 34, u'label': u'NN'}\n",
      "\n",
      "学习\n",
      "{u'case': u'CASE_UNKNOWN', u'reciprocity': u'RECIPROCITY_UNKNOWN', u'mood': u'MOOD_UNKNOWN', u'form': u'FORM_UNKNOWN', u'gender': u'GENDER_UNKNOWN', u'number': u'NUMBER_UNKNOWN', u'person': u'PERSON_UNKNOWN', u'tag': u'VERB', u'tense': u'TENSE_UNKNOWN', u'aspect': u'ASPECT_UNKNOWN', u'proper': u'NOT_PROPER', u'voice': u'VOICE_UNKNOWN'}\n",
      "{u'headTokenIndex': 31, u'label': u'CONJ'}\n",
      "\n",
      "和\n",
      "{u'case': u'CASE_UNKNOWN', u'reciprocity': u'RECIPROCITY_UNKNOWN', u'mood': u'MOOD_UNKNOWN', u'form': u'FORM_UNKNOWN', u'gender': u'GENDER_UNKNOWN', u'number': u'NUMBER_UNKNOWN', u'person': u'PERSON_UNKNOWN', u'tag': u'CONJ', u'tense': u'TENSE_UNKNOWN', u'aspect': u'ASPECT_UNKNOWN', u'proper': u'NOT_PROPER', u'voice': u'VOICE_UNKNOWN'}\n",
      "{u'headTokenIndex': 31, u'label': u'CC'}\n",
      "\n",
      "云计算\n",
      "{u'case': u'CASE_UNKNOWN', u'reciprocity': u'RECIPROCITY_UNKNOWN', u'mood': u'MOOD_UNKNOWN', u'form': u'FORM_UNKNOWN', u'gender': u'GENDER_UNKNOWN', u'number': u'NUMBER_UNKNOWN', u'person': u'PERSON_UNKNOWN', u'tag': u'UNKNOWN', u'tense': u'TENSE_UNKNOWN', u'aspect': u'ASPECT_UNKNOWN', u'proper': u'NOT_PROPER', u'voice': u'VOICE_UNKNOWN'}\n",
      "{u'headTokenIndex': 38, u'label': u'NN'}\n",
      "\n",
      "技\n",
      "{u'case': u'CASE_UNKNOWN', u'reciprocity': u'RECIPROCITY_UNKNOWN', u'mood': u'MOOD_UNKNOWN', u'form': u'FORM_UNKNOWN', u'gender': u'GENDER_UNKNOWN', u'number': u'NUMBER_UNKNOWN', u'person': u'PERSON_UNKNOWN', u'tag': u'NOUN', u'tense': u'TENSE_UNKNOWN', u'aspect': u'ASPECT_UNKNOWN', u'proper': u'NOT_PROPER', u'voice': u'VOICE_UNKNOWN'}\n",
      "{u'headTokenIndex': 38, u'label': u'SUFF'}\n",
      "\n",
      "术\n",
      "{u'case': u'CASE_UNKNOWN', u'reciprocity': u'RECIPROCITY_UNKNOWN', u'mood': u'MOOD_UNKNOWN', u'form': u'FORM_UNKNOWN', u'gender': u'GENDER_UNKNOWN', u'number': u'NUMBER_UNKNOWN', u'person': u'PERSON_UNKNOWN', u'tag': u'AFFIX', u'tense': u'TENSE_UNKNOWN', u'aspect': u'ASPECT_UNKNOWN', u'proper': u'NOT_PROPER', u'voice': u'VOICE_UNKNOWN'}\n",
      "{u'headTokenIndex': 31, u'label': u'CONJ'}\n",
      "\n",
      "来\n",
      "{u'case': u'CASE_UNKNOWN', u'reciprocity': u'RECIPROCITY_UNKNOWN', u'mood': u'MOOD_UNKNOWN', u'form': u'FORM_UNKNOWN', u'gender': u'GENDER_UNKNOWN', u'number': u'NUMBER_UNKNOWN', u'person': u'PERSON_UNKNOWN', u'tag': u'ADV', u'tense': u'TENSE_UNKNOWN', u'aspect': u'ASPECT_UNKNOWN', u'proper': u'NOT_PROPER', u'voice': u'VOICE_UNKNOWN'}\n",
      "{u'headTokenIndex': 40, u'label': u'PRT'}\n",
      "\n",
      "获\n",
      "{u'case': u'CASE_UNKNOWN', u'reciprocity': u'RECIPROCITY_UNKNOWN', u'mood': u'MOOD_UNKNOWN', u'form': u'FORM_UNKNOWN', u'gender': u'GENDER_UNKNOWN', u'number': u'NUMBER_UNKNOWN', u'person': u'PERSON_UNKNOWN', u'tag': u'VERB', u'tense': u'TENSE_UNKNOWN', u'aspect': u'ASPECT_UNKNOWN', u'proper': u'NOT_PROPER', u'voice': u'VOICE_UNKNOWN'}\n",
      "{u'headTokenIndex': 22, u'label': u'CCOMP'}\n",
      "\n",
      "取数\n",
      "{u'case': u'CASE_UNKNOWN', u'reciprocity': u'RECIPROCITY_UNKNOWN', u'mood': u'MOOD_UNKNOWN', u'form': u'FORM_UNKNOWN', u'gender': u'GENDER_UNKNOWN', u'number': u'NUMBER_UNKNOWN', u'person': u'PERSON_UNKNOWN', u'tag': u'UNKNOWN', u'tense': u'TENSE_UNKNOWN', u'aspect': u'ASPECT_UNKNOWN', u'proper': u'NOT_PROPER', u'voice': u'VOICE_UNKNOWN'}\n",
      "{u'headTokenIndex': 42, u'label': u'NSUBJ'}\n",
      "\n",
      "据\n",
      "{u'case': u'CASE_UNKNOWN', u'reciprocity': u'RECIPROCITY_UNKNOWN', u'mood': u'MOOD_UNKNOWN', u'form': u'FORM_UNKNOWN', u'gender': u'GENDER_UNKNOWN', u'number': u'NUMBER_UNKNOWN', u'person': u'PERSON_UNKNOWN', u'tag': u'ADP', u'tense': u'TENSE_UNKNOWN', u'aspect': u'ASPECT_UNKNOWN', u'proper': u'NOT_PROPER', u'voice': u'VOICE_UNKNOWN'}\n",
      "{u'headTokenIndex': 40, u'label': u'CCOMP'}\n",
      "\n",
      "洞\n",
      "{u'case': u'CASE_UNKNOWN', u'reciprocity': u'RECIPROCITY_UNKNOWN', u'mood': u'MOOD_UNKNOWN', u'form': u'FORM_UNKNOWN', u'gender': u'GENDER_UNKNOWN', u'number': u'NUMBER_UNKNOWN', u'person': u'PERSON_UNKNOWN', u'tag': u'UNKNOWN', u'tense': u'TENSE_UNKNOWN', u'aspect': u'ASPECT_UNKNOWN', u'proper': u'NOT_PROPER', u'voice': u'VOICE_UNKNOWN'}\n",
      "{u'headTokenIndex': 44, u'label': u'NSUBJ'}\n",
      "\n",
      "见\n",
      "{u'case': u'CASE_UNKNOWN', u'reciprocity': u'RECIPROCITY_UNKNOWN', u'mood': u'MOOD_UNKNOWN', u'form': u'FORM_UNKNOWN', u'gender': u'GENDER_UNKNOWN', u'number': u'NUMBER_UNKNOWN', u'person': u'PERSON_UNKNOWN', u'tag': u'VERB', u'tense': u'TENSE_UNKNOWN', u'aspect': u'ASPECT_UNKNOWN', u'proper': u'NOT_PROPER', u'voice': u'VOICE_UNKNOWN'}\n",
      "{u'headTokenIndex': 42, u'label': u'PCOMP'}\n",
      "\n",
      "。\n",
      "{u'case': u'CASE_UNKNOWN', u'reciprocity': u'RECIPROCITY_UNKNOWN', u'mood': u'MOOD_UNKNOWN', u'form': u'FORM_UNKNOWN', u'gender': u'GENDER_UNKNOWN', u'number': u'NUMBER_UNKNOWN', u'person': u'PERSON_UNKNOWN', u'tag': u'PUNCT', u'tense': u'TENSE_UNKNOWN', u'aspect': u'ASPECT_UNKNOWN', u'proper': u'NOT_PROPER', u'voice': u'VOICE_UNKNOWN'}\n",
      "{u'headTokenIndex': 22, u'label': u'P'}\n",
      "\n",
      "激励\n",
      "{u'case': u'CASE_UNKNOWN', u'reciprocity': u'RECIPROCITY_UNKNOWN', u'mood': u'MOOD_UNKNOWN', u'form': u'FORM_UNKNOWN', u'gender': u'GENDER_UNKNOWN', u'number': u'NUMBER_UNKNOWN', u'person': u'PERSON_UNKNOWN', u'tag': u'VERB', u'tense': u'TENSE_UNKNOWN', u'aspect': u'ASPECT_UNKNOWN', u'proper': u'NOT_PROPER', u'voice': u'VOICE_UNKNOWN'}\n",
      "{u'headTokenIndex': 46, u'label': u'ROOT'}\n",
      "\n",
      "下\n",
      "{u'case': u'CASE_UNKNOWN', u'reciprocity': u'RECIPROCITY_UNKNOWN', u'mood': u'MOOD_UNKNOWN', u'form': u'FORM_UNKNOWN', u'gender': u'GENDER_UNKNOWN', u'number': u'NUMBER_UNKNOWN', u'person': u'PERSON_UNKNOWN', u'tag': u'ADP', u'tense': u'TENSE_UNKNOWN', u'aspect': u'ASPECT_UNKNOWN', u'proper': u'NOT_PROPER', u'voice': u'VOICE_UNKNOWN'}\n",
      "{u'headTokenIndex': 46, u'label': u'PRT'}\n",
      "\n",
      "一\n",
      "{u'case': u'CASE_UNKNOWN', u'reciprocity': u'RECIPROCITY_UNKNOWN', u'mood': u'MOOD_UNKNOWN', u'form': u'FORM_UNKNOWN', u'gender': u'GENDER_UNKNOWN', u'number': u'NUMBER_UNKNOWN', u'person': u'PERSON_UNKNOWN', u'tag': u'NUM', u'tense': u'TENSE_UNKNOWN', u'aspect': u'ASPECT_UNKNOWN', u'proper': u'NOT_PROPER', u'voice': u'VOICE_UNKNOWN'}\n",
      "{u'headTokenIndex': 49, u'label': u'NUM'}\n",
      "\n",
      "代\n",
      "{u'case': u'CASE_UNKNOWN', u'reciprocity': u'RECIPROCITY_UNKNOWN', u'mood': u'MOOD_UNKNOWN', u'form': u'FORM_UNKNOWN', u'gender': u'GENDER_UNKNOWN', u'number': u'NUMBER_UNKNOWN', u'person': u'PERSON_UNKNOWN', u'tag': u'NOUN', u'tense': u'TENSE_UNKNOWN', u'aspect': u'ASPECT_UNKNOWN', u'proper': u'NOT_PROPER', u'voice': u'VOICE_UNKNOWN'}\n",
      "{u'headTokenIndex': 53, u'label': u'UNKNOWN'}\n",
      "\n",
      "人工智\n",
      "{u'case': u'CASE_UNKNOWN', u'reciprocity': u'RECIPROCITY_UNKNOWN', u'mood': u'MOOD_UNKNOWN', u'form': u'FORM_UNKNOWN', u'gender': u'GENDER_UNKNOWN', u'number': u'NUMBER_UNKNOWN', u'person': u'PERSON_UNKNOWN', u'tag': u'UNKNOWN', u'tense': u'TENSE_UNKNOWN', u'aspect': u'ASPECT_UNKNOWN', u'proper': u'NOT_PROPER', u'voice': u'VOICE_UNKNOWN'}\n",
      "{u'headTokenIndex': 53, u'label': u'NN'}\n",
      "\n",
      "能\n",
      "{u'case': u'CASE_UNKNOWN', u'reciprocity': u'RECIPROCITY_UNKNOWN', u'mood': u'MOOD_UNKNOWN', u'form': u'FORM_UNKNOWN', u'gender': u'GENDER_UNKNOWN', u'number': u'NUMBER_UNKNOWN', u'person': u'PERSON_UNKNOWN', u'tag': u'VERB', u'tense': u'TENSE_UNKNOWN', u'aspect': u'ASPECT_UNKNOWN', u'proper': u'NOT_PROPER', u'voice': u'VOICE_UNKNOWN'}\n",
      "{u'headTokenIndex': 52, u'label': u'AUX'}\n",
      "\n",
      "爱好\n",
      "{u'case': u'CASE_UNKNOWN', u'reciprocity': u'RECIPROCITY_UNKNOWN', u'mood': u'MOOD_UNKNOWN', u'form': u'FORM_UNKNOWN', u'gender': u'GENDER_UNKNOWN', u'number': u'NUMBER_UNKNOWN', u'person': u'PERSON_UNKNOWN', u'tag': u'VERB', u'tense': u'TENSE_UNKNOWN', u'aspect': u'ASPECT_UNKNOWN', u'proper': u'NOT_PROPER', u'voice': u'VOICE_UNKNOWN'}\n",
      "{u'headTokenIndex': 53, u'label': u'SUFF'}\n",
      "\n",
      "者\n",
      "{u'case': u'CASE_UNKNOWN', u'reciprocity': u'RECIPROCITY_UNKNOWN', u'mood': u'MOOD_UNKNOWN', u'form': u'FORM_UNKNOWN', u'gender': u'GENDER_UNKNOWN', u'number': u'NUMBER_UNKNOWN', u'person': u'PERSON_UNKNOWN', u'tag': u'AFFIX', u'tense': u'TENSE_UNKNOWN', u'aspect': u'ASPECT_UNKNOWN', u'proper': u'NOT_PROPER', u'voice': u'VOICE_UNKNOWN'}\n",
      "{u'headTokenIndex': 46, u'label': u'DOBJ'}\n",
      "\n",
      "和\n",
      "{u'case': u'CASE_UNKNOWN', u'reciprocity': u'RECIPROCITY_UNKNOWN', u'mood': u'MOOD_UNKNOWN', u'form': u'FORM_UNKNOWN', u'gender': u'GENDER_UNKNOWN', u'number': u'NUMBER_UNKNOWN', u'person': u'PERSON_UNKNOWN', u'tag': u'CONJ', u'tense': u'TENSE_UNKNOWN', u'aspect': u'ASPECT_UNKNOWN', u'proper': u'NOT_PROPER', u'voice': u'VOICE_UNKNOWN'}\n",
      "{u'headTokenIndex': 53, u'label': u'CC'}\n",
      "\n",
      "领导\n",
      "{u'case': u'CASE_UNKNOWN', u'reciprocity': u'RECIPROCITY_UNKNOWN', u'mood': u'MOOD_UNKNOWN', u'form': u'FORM_UNKNOWN', u'gender': u'GENDER_UNKNOWN', u'number': u'NUMBER_UNKNOWN', u'person': u'PERSON_UNKNOWN', u'tag': u'VERB', u'tense': u'TENSE_UNKNOWN', u'aspect': u'ASPECT_UNKNOWN', u'proper': u'NOT_PROPER', u'voice': u'VOICE_UNKNOWN'}\n",
      "{u'headTokenIndex': 56, u'label': u'SUFF'}\n",
      "\n",
      "者\n",
      "{u'case': u'CASE_UNKNOWN', u'reciprocity': u'RECIPROCITY_UNKNOWN', u'mood': u'MOOD_UNKNOWN', u'form': u'FORM_UNKNOWN', u'gender': u'GENDER_UNKNOWN', u'number': u'NUMBER_UNKNOWN', u'person': u'PERSON_UNKNOWN', u'tag': u'AFFIX', u'tense': u'TENSE_UNKNOWN', u'aspect': u'ASPECT_UNKNOWN', u'proper': u'NOT_PROPER', u'voice': u'VOICE_UNKNOWN'}\n",
      "{u'headTokenIndex': 53, u'label': u'CONJ'}\n",
      "\n",
      "。\n",
      "{u'case': u'CASE_UNKNOWN', u'reciprocity': u'RECIPROCITY_UNKNOWN', u'mood': u'MOOD_UNKNOWN', u'form': u'FORM_UNKNOWN', u'gender': u'GENDER_UNKNOWN', u'number': u'NUMBER_UNKNOWN', u'person': u'PERSON_UNKNOWN', u'tag': u'PUNCT', u'tense': u'TENSE_UNKNOWN', u'aspect': u'ASPECT_UNKNOWN', u'proper': u'NOT_PROPER', u'voice': u'VOICE_UNKNOWN'}\n",
      "{u'headTokenIndex': 46, u'label': u'P'}\n"
     ]
    }
   ],
   "source": [
    "for i in range(len(responses['tokens'])): \n",
    "    print('')\n",
    "    print(responses['tokens'][i]['text']['content'])\n",
    "    print(responses['tokens'][i]['partOfSpeech'])\n",
    "    print(responses['tokens'][i]['dependencyEdge'])\n",
    "#     print(responses['tokens'][i]['text'])\n",
    "#     print(responses['tokens'][i]['lemma'])\n",
    "    "
   ]
  },
  {
   "cell_type": "markdown",
   "metadata": {
    "collapsed": true
   },
   "source": [
    "< End of interactive demo >"
   ]
  },
  {
   "cell_type": "markdown",
   "metadata": {},
   "source": [
    "### 定义一个输出为NLP分析结果的文本消息的小功能，用于微信回复："
   ]
  },
  {
   "cell_type": "code",
   "execution_count": 20,
   "metadata": {
    "collapsed": true
   },
   "outputs": [],
   "source": [
    "def KudosData_nlp_generate_reply(responses):\n",
    "    nlp_reply = u'[ NLP 自然语言处理结果 ]'\n",
    "    \n",
    "    # 1. 整篇消息文字的情感分析 (Sentiment analysis, Document level)\n",
    "    nlp_reply += '\\n'\n",
    "    nlp_reply += '\\n' + u'[ 整篇消息 语种 : {} ]\\n( 褒贬程度 : {} | 语彩累积 : {} )'.format(\n",
    "            responses['language']\n",
    "            , responses['documentSentiment']['score']\n",
    "            , responses['documentSentiment']['magnitude']\n",
    "        )\n",
    "\n",
    "    # 2. 消息文字中语句的情感分析 (Sentiment analysis, Sentence level)           \n",
    "    nlp_reply += '\\n'\n",
    "    for i in range(len(responses['sentences'])):\n",
    "        nlp_reply += '\\n' + u'[ 语句 {} : {} ]\\n( 褒贬程度 : {} | 语彩累积 : {} )'.format(\n",
    "              i+1\n",
    "            , responses['sentences'][i]['text']['content']\n",
    "            , responses['sentences'][i]['sentiment']['score']\n",
    "            , responses['sentences'][i]['sentiment']['magnitude']\n",
    "        )\n",
    "                \n",
    "    # 3. 消息文字中名称实体的识别 (Name-Entity detection)\n",
    "    nlp_reply += '\\n'\n",
    "    for i in range(len(responses['entities'])): \n",
    "        nlp_reply += '\\n' + u'[ 实体 {} : {} ]\\n  实体类别 : {}\\n  重要程度 : {}'.format(\n",
    "              i+1\n",
    "            , responses['entities'][i]['name']\n",
    "            , responses['entities'][i]['type']\n",
    "            , responses['entities'][i]['salience']\n",
    "        )\n",
    "        if 'sentiment' in responses['entities'][i]:\n",
    "            nlp_reply += '\\n' + u'  褒贬程度 : {}\\n  语彩累积 : {}'.format(\n",
    "                  responses['entities'][i]['sentiment']['score']\n",
    "                , responses['entities'][i]['sentiment']['magnitude']\n",
    "            )\n",
    "        if responses['entities'][i]['metadata'] != {}:\n",
    "            if 'wikipedia_url' in responses['entities'][i]['metadata']:\n",
    "                nlp_reply += '\\n  ' + responses['entities'][i]['metadata']['wikipedia_url']\n",
    "                           \n",
    "    # 4. 语句的语法分析 (Syntax / Grammar analysis)\n",
    "#     nlp_reply += '\\n'\n",
    "#     for i in range(len(responses['tokens'])): \n",
    "#         nlp_reply += '\\n' + str(responses['tokens'][i])\n",
    "    \n",
    "    return nlp_reply"
   ]
  },
  {
   "cell_type": "code",
   "execution_count": 21,
   "metadata": {
    "collapsed": false,
    "scrolled": false
   },
   "outputs": [
    {
     "name": "stdout",
     "output_type": "stream",
     "text": [
      "[ NLP 自然语言处理结果 ]\n",
      "\n",
      "[ 整篇消息 语种 : zh ]\n",
      "( 褒贬程度 : 0.6 | 语彩累积 : 2 )\n",
      "\n",
      "[ 语句 1 : 作为酷豆数据科学的顾问和培训师，Sam Gu （白黑） 善长联络社群和教育资源。 ]\n",
      "( 褒贬程度 : 0.8 | 语彩累积 : 0.8 )\n",
      "[ 语句 2 : 促进各大公司组织使用先进的数据科学、机器学习和云计算技术来获取数据洞见。 ]\n",
      "( 褒贬程度 : 0.9 | 语彩累积 : 0.9 )\n",
      "[ 语句 3 : 激励下一代人工智能爱好者和领导者。 ]\n",
      "( 褒贬程度 : 0.2 | 语彩累积 : 0.2 )\n",
      "\n",
      "[ 实体 1 : 酷豆数据科学 ]\n",
      "  实体类别 : OTHER\n",
      "  重要程度 : 0.21968429\n",
      "  https://en.wikipedia.org/wiki/Data_science\n",
      "[ 实体 2 : 顾问 ]\n",
      "  实体类别 : PERSON\n",
      "  重要程度 : 0.14425991\n",
      "[ 实体 3 : Sam Gu ]\n",
      "  实体类别 : PERSON\n",
      "  重要程度 : 0.13641302\n",
      "[ 实体 4 : 培训师 ]\n",
      "  实体类别 : PERSON\n",
      "  重要程度 : 0.118462436\n",
      "[ 实体 5 : 白黑 ]\n",
      "  实体类别 : OTHER\n",
      "  重要程度 : 0.118462436\n",
      "[ 实体 6 : 数据科学 ]\n",
      "  实体类别 : OTHER\n",
      "  重要程度 : 0.04529309\n",
      "[ 实体 7 : 云计算技术 ]\n",
      "  实体类别 : OTHER\n",
      "  重要程度 : 0.039374225\n",
      "[ 实体 8 : 社群 ]\n",
      "  实体类别 : OTHER\n",
      "  重要程度 : 0.035438944\n",
      "[ 实体 9 : 教育资源 ]\n",
      "  实体类别 : OTHER\n",
      "  重要程度 : 0.035438944\n",
      "[ 实体 10 : 机器学习 ]\n",
      "  实体类别 : OTHER\n",
      "  重要程度 : 0.03370535\n",
      "[ 实体 11 : 公司组织 ]\n",
      "  实体类别 : ORGANIZATION\n",
      "  重要程度 : 0.030995347\n",
      "[ 实体 12 : 人工智能爱好者 ]\n",
      "  实体类别 : PERSON\n",
      "  重要程度 : 0.021235999\n",
      "[ 实体 13 : 领导者 ]\n",
      "  实体类别 : PERSON\n",
      "  重要程度 : 0.021235999\n"
     ]
    }
   ],
   "source": [
    "print(KudosData_nlp_generate_reply(responses))"
   ]
  },
  {
   "cell_type": "markdown",
   "metadata": {},
   "source": [
    "### 用微信App扫QR码图片来自动登录"
   ]
  },
  {
   "cell_type": "code",
   "execution_count": null,
   "metadata": {
    "collapsed": false
   },
   "outputs": [],
   "source": [
    "itchat.auto_login(hotReload=True) # hotReload=True: 退出程序后暂存登陆状态。即使程序关闭，一定时间内重新开启也可以不用重新扫码。"
   ]
  },
  {
   "cell_type": "code",
   "execution_count": null,
   "metadata": {
    "collapsed": true
   },
   "outputs": [],
   "source": [
    "# Obtain my own Nick Name\n",
    "MySelf = itchat.search_friends()\n",
    "NickName4RegEx = '@' + MySelf['NickName'] + '\\s*'"
   ]
  },
  {
   "cell_type": "code",
   "execution_count": null,
   "metadata": {
    "collapsed": true
   },
   "outputs": [],
   "source": [
    "# 单聊模式，自动进行自然语言分析，以文本形式返回处理结果：\n",
    "@itchat.msg_register([TEXT, MAP, CARD, NOTE, SHARING])\n",
    "def text_reply(msg):\n",
    "        text4nlp = msg['Content']\n",
    "        # call NLP API:\n",
    "        nlp_responses = KudosData_nlp(text4nlp\n",
    "                            , parm_nlp_extractDocumentSentiment\n",
    "                            , parm_nlp_extractEntities\n",
    "                            , parm_nlp_extractEntitySentiment\n",
    "                            , parm_nlp_extractSyntax)\n",
    "        # Format NLP results:\n",
    "        nlp_reply = KudosData_nlp_generate_reply(nlp_responses)\n",
    "        print(nlp_reply)\n",
    "        return nlp_reply"
   ]
  },
  {
   "cell_type": "code",
   "execution_count": null,
   "metadata": {
    "collapsed": true
   },
   "outputs": [],
   "source": [
    "# 群聊模式，如果收到 @ 自己的文字信息，会自动进行自然语言分析，以文本形式返回处理结果：\n",
    "@itchat.msg_register(TEXT, isGroupChat=True)\n",
    "def text_reply(msg):\n",
    "    if msg['isAt']:\n",
    "        text4nlp = re.sub(NickName4RegEx, '', msg['Content'])\n",
    "        # call NLP API:\n",
    "        nlp_responses = KudosData_nlp(text4nlp\n",
    "                            , parm_nlp_extractDocumentSentiment\n",
    "                            , parm_nlp_extractEntities\n",
    "                            , parm_nlp_extractEntitySentiment\n",
    "                            , parm_nlp_extractSyntax)\n",
    "        # Format NLP results:\n",
    "        nlp_reply = KudosData_nlp_generate_reply(nlp_responses)\n",
    "        print(nlp_reply)\n",
    "        return nlp_reply"
   ]
  },
  {
   "cell_type": "code",
   "execution_count": null,
   "metadata": {
    "collapsed": false,
    "scrolled": false
   },
   "outputs": [],
   "source": [
    "itchat.run()"
   ]
  },
  {
   "cell_type": "code",
   "execution_count": null,
   "metadata": {
    "collapsed": false
   },
   "outputs": [],
   "source": [
    "# interupt kernel, then logout\n",
    "itchat.logout() # 安全退出"
   ]
  },
  {
   "cell_type": "markdown",
   "metadata": {},
   "source": [
    "### 第四课：自然语言处理：语义和情感分析\n",
    "### Lesson 4: Natural Language Processing 2\n",
    "* 消息文字中名称实体的识别 (Name-Entity detection)\n",
    "* 消息文字中语句的情感分析 (Sentiment analysis, Sentence level)\n",
    "* 整篇消息文字的情感分析 (Sentiment analysis, Document level)\n",
    "* 语句的语法分析 (Syntax / Grammar analysis)"
   ]
  },
  {
   "cell_type": "markdown",
   "metadata": {},
   "source": [
    "### 下一课是:\n",
    "### 第五课：视频识别和处理\n",
    "### Lesson 5: Video Recognition & Processing\n",
    "* 识别视频消息中的物体名字 (Recognize objects in video)\n",
    "* 识别视频的场景 (Detect scenery in video)\n",
    "* 直接搜索视频内容 (Search content in video)"
   ]
  },
  {
   "cell_type": "markdown",
   "metadata": {},
   "source": [
    "<img src='http://www.kudosdata.com/wp-content/uploads/2016/11/cropped-KudosLogo1.png' width=30% style=\"float: right;\">\n",
    "<img src='reference/WeChat_SamGu_QR.png' width=10% style=\"float: left;\">\n",
    "\n"
   ]
  }
 ],
 "metadata": {
  "kernelspec": {
   "display_name": "Python 3",
   "language": "python",
   "name": "python3"
  },
  "language_info": {
   "codemirror_mode": {
    "name": "ipython",
    "version": 3
   },
   "file_extension": ".py",
   "mimetype": "text/x-python",
   "name": "python",
   "nbconvert_exporter": "python",
   "pygments_lexer": "ipython3",
   "version": "3.5.1"
  }
 },
 "nbformat": 4,
 "nbformat_minor": 2
}
