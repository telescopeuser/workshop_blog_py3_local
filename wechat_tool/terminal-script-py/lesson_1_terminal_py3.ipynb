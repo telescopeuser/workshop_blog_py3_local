{
 "cells": [
  {
   "cell_type": "code",
   "execution_count": null,
   "metadata": {},
   "outputs": [],
   "source": [
    "# from IPython.display import YouTubeVideo\n",
    "# YouTubeVideo('W-ZsWqcl1_c')"
   ]
  },
  {
   "cell_type": "markdown",
   "metadata": {},
   "source": [
    "# 如何使用和开发微信聊天机器人的系列教程\n",
    "# A workshop to develop & use an intelligent and interactive chat-bot in WeChat"
   ]
  },
  {
   "cell_type": "markdown",
   "metadata": {},
   "source": [
    "### WeChat is a popular social media app, which has more than 800 million monthly active users.\n",
    "\n",
    "<img src='../reference/logo.png' width=12% style=\"float: right;\">\n",
    "<img src='../reference/WeChat_SamGu_QR.png' width=10% style=\"float: right;\">\n",
    "\n",
    "### http://www.KudosData.com\n",
    "\n",
    "by: Sam.Gu@KudosData.com\n",
    "\n",
    "\n",
    "April 2017 ========== Scan the QR code to become trainer's friend in WeChat ========>>"
   ]
  },
  {
   "cell_type": "markdown",
   "metadata": {},
   "source": [
    "### 第一课：使用微信问答机制\n",
    "### Lesson 1: Basic usage of WeChat Python API\n",
    "* 使用和开发微信个人号聊天机器人：一种Python编程接口 (Use WeChat Python API)\n",
    "* 用微信App扫QR码图片来自动登录 (Log-in, contact scan, and processing of text, image, file, video, etc)\n",
    "* 查找指定联系人或群组 (Scan ccontact list)\n",
    "* 发送信息（文字、图片、文件、音频、视频等） (Send message: text, image, file, voice, video, etc)\n",
    "* 接收信息 (Receive message, and keep 'listening')\n",
    "* 自动回复 (Receive message and then automaticaly reply)\n",
    "* 自定义复杂消息处理，例如：信息存档、回复群组中被@的消息 (Advanced message processing and reply)"
   ]
  },
  {
   "cell_type": "markdown",
   "metadata": {},
   "source": [
    "### 导入需要用到的一些功能程序库："
   ]
  },
  {
   "cell_type": "code",
   "execution_count": null,
   "metadata": {},
   "outputs": [],
   "source": [
    "# from __future__ import unicode_literals, division\n",
    "# import time, datetime, requests\n",
    "import itchat\n",
    "from itchat.content import *"
   ]
  },
  {
   "cell_type": "markdown",
   "metadata": {},
   "source": [
    "### * 用微信App扫QR码图片来自动登录"
   ]
  },
  {
   "cell_type": "markdown",
   "metadata": {},
   "source": [
    "https://itchat.readthedocs.io/zh/latest/\n",
    "\n",
    "### 命令行二维码\n",
    "\n",
    "通过以下命令可以在登陆的时候使用命令行显示二维码：\n",
    "\n",
    "itchat.auto_login(enableCmdQR=True)\n",
    "\n",
    "部分系统可能字幅宽度有出入，可以通过将enableCmdQR赋值为特定的倍数进行调整：\n",
    "\n",
    "itchat.auto_login(enableCmdQR=2) # 如部分的linux系统，块字符的宽度为一个字符（正常应为两字符），故赋值为2\n",
    "\n",
    "默认控制台背景色为暗色（黑色），若背景色为浅色（白色），可以将enableCmdQR赋值为负值：\n",
    "\n",
    "itchat.auto_login(enableCmdQR=-1)\n",
    "\n",
    "### 退出程序后暂存登陆状态\n",
    "\n",
    "通过如下命令登陆，即使程序关闭，一定时间内重新开启也可以不用重新扫码。\n",
    "\n",
    "itchat.auto_login(hotReload=True)\n"
   ]
  },
  {
   "cell_type": "code",
   "execution_count": null,
   "metadata": {},
   "outputs": [],
   "source": [
    "# Running in Jupyther Notebook:\n",
    "# itchat.auto_login(hotReload=True) # hotReload=True: 退出程序后暂存登陆状态。即使程序关闭，一定时间内重新开启也可以不用重新扫码。\n",
    "# or\n",
    "# itchat.auto_login(enableCmdQR=-2) # enableCmdQR=-2: Jupyter Notebook 命令行显示QR图片\n",
    "\n",
    "# Running in Terminal:\n",
    "itchat.auto_login(enableCmdQR=2) # enableCmdQR=2: 命令行显示QR图片 "
   ]
  },
  {
   "cell_type": "markdown",
   "metadata": {},
   "source": [
    "### * 查找指定联系人或群组\n",
    "\n",
    "使用search_friends方法可以搜索用户，有几种搜索方式： \n",
    "\n",
    "\n",
    "1.仅获取自己的用户信息 \n",
    "\n",
    "\n",
    "2.获取昵称'NickName'、微信号'Alias'、备注名'RemarkName'中的任何一项等于name键值的用户 \n",
    "\n",
    "\n",
    "3.获取分别对应相应键值的用户"
   ]
  },
  {
   "cell_type": "code",
   "execution_count": null,
   "metadata": {},
   "outputs": [],
   "source": [
    "friend = itchat.search_friends()\n",
    "# print(friend)"
   ]
  },
  {
   "cell_type": "code",
   "execution_count": null,
   "metadata": {},
   "outputs": [],
   "source": [
    "print('NickName  : %s' % friend['NickName'])\n",
    "print('Alias A-ID: %s' % friend['Alias'])\n",
    "print('RemarkName: %s' % friend['RemarkName'])\n",
    "print('UserName  : %s' % friend['UserName'])"
   ]
  },
  {
   "cell_type": "code",
   "execution_count": null,
   "metadata": {},
   "outputs": [],
   "source": [
    "print()\n",
    "print(u'[ WeChat Software Robot 微信人工智能助手 ]   Copyright © 2018 GU Zhan (Sam)   SOME RIGHTS RESERVED')\n",
    "print()\n",
    "print(u'[ Functions 演示功能介绍 ]')\n",
    "print(u'[ 1 ] 如果收到[TEXT, MAP, CARD, NOTE, SHARING]类的信息，会自动回复')\n",
    "print(u'      @itchat.msg_register([TEXT, MAP, CARD, NOTE, SHARING]) # 文字、位置、名片、通知、分享')\n",
    "print(u'[ 2 ] 如果收到[PICTURE, RECORDING, ATTACHMENT, VIDEO]类的信息，会自动保存')\n",
    "print(u'      @itchat.msg_register([PICTURE, RECORDING, ATTACHMENT, VIDEO]) # 图片、语音、文件、视频')\n",
    "print(u'[ 3 ] 如果收到新朋友的请求，会自动通过验证添加加好友，并主动打个招呼：幸会幸会！Nice to meet you!')\n",
    "print(u'      @itchat.msg_register(FRIENDS)')\n",
    "print(u'[ 4 ] 在群里，如果收到@自己的文字信息，会自动回复')\n",
    "print(u'      @itchat.msg_register(TEXT, isGroupChat=True)')\n",
    "print()\n",
    "print(u'[ Source Code 源代码 ] https://github.com/telescopeuser/workshop_blog')\n",
    "print()\n"
   ]
  },
  {
   "cell_type": "markdown",
   "metadata": {},
   "source": [
    "### * 自定义复杂消息处理，例如：信息存档、回复群组中被@的消息"
   ]
  },
  {
   "cell_type": "code",
   "execution_count": null,
   "metadata": {},
   "outputs": [],
   "source": [
    "# 如果收到[TEXT, MAP, CARD, NOTE, SHARING]类的信息，会自动回复：\n",
    "@itchat.msg_register([TEXT, MAP, CARD, NOTE, SHARING]) # 文字、位置、名片、通知、分享\n",
    "def text_reply(msg):\n",
    "    print(u'[ Terminal Info ] 谢谢亲[嘴唇]我已收到 I received: [ %s ] %s From: %s' \n",
    "          % (msg['Type'], msg['Text'], msg['FromUserName']))\n",
    "    itchat.send(u'谢谢亲[嘴唇]我已收到\\nI received:\\n[ %s ]\\n%s' % (msg['Type'], msg['Text']), msg['FromUserName'])\n",
    "\n",
    "# 如果收到[PICTURE, RECORDING, ATTACHMENT, VIDEO]类的信息，会自动保存：\n",
    "@itchat.msg_register([PICTURE, RECORDING, ATTACHMENT, VIDEO]) # 图片、语音、文件、视频\n",
    "def download_files(msg):\n",
    "    msg['Text'](msg['FileName'])\n",
    "    print(u'[ Terminal Info ] 谢谢亲[嘴唇]我已收到 I received: [ %s ] %s From: %s' \n",
    "          % ({'Picture': 'img', 'Video': 'vid'}.get(msg['Type'], 'fil'), msg['FileName'], msg['FromUserName']))\n",
    "    itchat.send(u'谢谢亲[嘴唇]我已收到\\nI received:', msg['FromUserName'])\n",
    "    return '@%s@%s' % ({'Picture': 'img', 'Video': 'vid'}.get(msg['Type'], 'fil'), msg['FileName'])\n",
    "\n",
    "# 如果收到新朋友的请求，会自动通过验证添加加好友，并主动打个招呼：幸会幸会！Nice to meet you!\n",
    "@itchat.msg_register(FRIENDS)\n",
    "def add_friend(msg):\n",
    "    print(u'[ Terminal Info ] 新朋友的请求，自动通过验证添加加好友 From: %s' % msg['RecommendInfo']['UserName']) \n",
    "    itchat.add_friend(**msg['Text']) # 该操作会自动将新好友的消息录入，不需要重载通讯录\n",
    "    itchat.send_msg(u'幸会幸会！Nice to meet you!', msg['RecommendInfo']['UserName'])\n",
    "\n",
    "# 在群里，如果收到@自己的文字信息，会自动回复：\n",
    "@itchat.msg_register(TEXT, isGroupChat=True)\n",
    "def text_reply(msg):\n",
    "    if msg['isAt']:\n",
    "        print(u'[ Terminal Info ] 在群里收到@自己的文字信息: %s From: %s %s' \n",
    "              % (msg['Content'], msg['ActualNickName'], msg['FromUserName']))\n",
    "        itchat.send(u'@%s\\u2005I received: %s' % (msg['ActualNickName'], msg['Content']), msg['FromUserName'])\n"
   ]
  },
  {
   "cell_type": "code",
   "execution_count": null,
   "metadata": {
    "scrolled": true
   },
   "outputs": [],
   "source": [
    "itchat.run()"
   ]
  },
  {
   "cell_type": "code",
   "execution_count": null,
   "metadata": {},
   "outputs": [],
   "source": [
    "# interupt, then logout\n",
    "# itchat.logout() # 安全退出"
   ]
  },
  {
   "cell_type": "markdown",
   "metadata": {},
   "source": [
    "### 恭喜您！已经能够使用微信问答机制了。\n",
    "* 使用和开发微信个人号聊天机器人：一种Python编程接口 (Use WeChat Python API)\n",
    "* 用微信App扫QR码图片来自动登录 (Log-in, contact scan, and processing of text, image, file, video, etc)\n",
    "* 查找指定联系人或群组 (Scan ccontact list)\n",
    "* 发送信息（文字、图片、文件、音频、视频等） (Send message: text, image, file, voice, video, etc)\n",
    "* 接收信息 (Receive message, and keep 'listening')\n",
    "* 自动回复 (Receive message and then automaticaly reply)\n",
    "* 自定义复杂消息处理，例如：信息存档、回复群组中被@的消息 (Advanced message processing and reply)"
   ]
  },
  {
   "cell_type": "markdown",
   "metadata": {},
   "source": [
    "### 下一课是第二课：图像识别和处理\n",
    "### Lesson 2: Image Recognition & Processing\n",
    "* 识别图片消息中的物体名字 (Recognize objects in image)\n",
    "* 识别图片消息中的文字 (OCR: Extract text from image)\n",
    "* 识别人脸 (Recognize human face)\n",
    "* 基于人脸的表情来识别喜怒哀乐等情绪 (Identify semtiment and emotion from human face)"
   ]
  },
  {
   "cell_type": "markdown",
   "metadata": {},
   "source": [
    "<img src='../reference/logo.png' width=12% style=\"float: right;\">\n",
    "\n",
    "<img src='../reference/WeChat_SamGu_QR.png' width=10% style=\"float: left;\">\n",
    "\n"
   ]
  },
  {
   "cell_type": "markdown",
   "metadata": {},
   "source": [
    "---"
   ]
  }
 ],
 "metadata": {
  "kernelspec": {
   "display_name": "Python 3",
   "language": "python",
   "name": "python3"
  },
  "language_info": {
   "codemirror_mode": {
    "name": "ipython",
    "version": 3
   },
   "file_extension": ".py",
   "mimetype": "text/x-python",
   "name": "python",
   "nbconvert_exporter": "python",
   "pygments_lexer": "ipython3",
   "version": "3.6.4"
  }
 },
 "nbformat": 4,
 "nbformat_minor": 2
}
