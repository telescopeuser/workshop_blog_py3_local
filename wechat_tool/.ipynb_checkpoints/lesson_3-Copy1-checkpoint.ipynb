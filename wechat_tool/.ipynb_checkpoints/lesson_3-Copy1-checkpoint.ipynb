{
 "cells": [
  {
   "cell_type": "code",
   "execution_count": 1,
   "metadata": {
    "collapsed": false
   },
   "outputs": [
    {
     "data": {
      "text/html": [
       "\n",
       "        <iframe\n",
       "            width=\"400\"\n",
       "            height=\"300\"\n",
       "            src=\"https://www.youtube.com/embed/yZV-XCSmWQY\"\n",
       "            frameborder=\"0\"\n",
       "            allowfullscreen\n",
       "        ></iframe>\n",
       "        "
      ],
      "text/plain": [
       "<IPython.lib.display.YouTubeVideo at 0x191740b1f60>"
      ]
     },
     "execution_count": 1,
     "metadata": {},
     "output_type": "execute_result"
    }
   ],
   "source": [
    "from IPython.display import YouTubeVideo\n",
    "YouTubeVideo('yZV-XCSmWQY')"
   ]
  },
  {
   "cell_type": "markdown",
   "metadata": {},
   "source": [
    "# 如何使用和开发微信聊天机器人的系列教程\n",
    "# A workshop to develop & use an intelligent and interactive chat-bot in WeChat"
   ]
  },
  {
   "cell_type": "markdown",
   "metadata": {},
   "source": [
    "### WeChat is a popular social media app, which has more than 800 million monthly active users.\n",
    "\n",
    "<img src='http://www.kudosdata.com/wp-content/uploads/2016/11/cropped-KudosLogo1.png' width=30% style=\"float: right;\">\n",
    "<img src='reference/WeChat_SamGu_QR.png' width=10% style=\"float: right;\">\n",
    "\n",
    "### http://www.KudosData.com\n",
    "\n",
    "by: Sam.Gu@KudosData.com\n",
    "\n",
    "\n",
    "May 2017 ========== Scan the QR code to become trainer's friend in WeChat ========>>"
   ]
  },
  {
   "cell_type": "markdown",
   "metadata": {},
   "source": [
    "### 第三课：自然语言处理：语音合成和识别\n",
    "### Lesson 3: Natural Language Processing 1\n",
    "* 消息文字转成语音 (Speech synthesis: text to voice)\n",
    "* 语音转换成消息文字 (Speech recognition: voice to text)\n",
    "* 消息文字的多语言互译 (Text based language translation)"
   ]
  },
  {
   "cell_type": "markdown",
   "metadata": {},
   "source": [
    "### Flag to indicate the environment to run this program:"
   ]
  },
  {
   "cell_type": "code",
   "execution_count": 1,
   "metadata": {
    "collapsed": true
   },
   "outputs": [],
   "source": [
    "parm_runtime_env_GCP = True\n",
    "# parm_runtime_env_GCP = False"
   ]
  },
  {
   "cell_type": "markdown",
   "metadata": {
    "collapsed": true
   },
   "source": [
    "### Using Google Cloud Platform's Machine Learning APIs"
   ]
  },
  {
   "cell_type": "markdown",
   "metadata": {},
   "source": [
    "From the same API console, choose \"Dashboard\" on the left-hand menu and \"Enable API\".\n",
    "\n",
    "Enable the following APIs for your project (search for them) if they are not already enabled:\n",
    "<ol>\n",
    "<li> Google Translate API </li>\n",
    "<li> Google Cloud Vision API </li>\n",
    "<li> Google Natural Language API </li>\n",
    "<li> Google Cloud Speech API </li>\n",
    "</ol>\n",
    "\n",
    "Finally, because we are calling the APIs from Python (clients in many other languages are available), let's install the Python package (it's not installed by default on Datalab)"
   ]
  },
  {
   "cell_type": "code",
   "execution_count": 2,
   "metadata": {
    "collapsed": true,
    "scrolled": false
   },
   "outputs": [],
   "source": [
    "# Copyright 2016 Google Inc.\n",
    "# Licensed under the Apache License, Version 2.0 (the \"License\"); \n",
    "# import subprocess\n",
    "# retcode = subprocess.call(['pip', 'install', '-U', 'google-api-python-client'])\n",
    "# retcode = subprocess.call(['pip', 'install', '-U', 'gTTS'])\n",
    "\n",
    "# Below is for GCP only: install audio conversion tool\n",
    "# retcode = subprocess.call(['apt-get', 'update', '-y'])\n",
    "# retcode = subprocess.call(['apt-get', 'install', 'libav-tools', '-y'])"
   ]
  },
  {
   "cell_type": "markdown",
   "metadata": {},
   "source": [
    "### 导入需要用到的一些功能程序库："
   ]
  },
  {
   "cell_type": "code",
   "execution_count": 3,
   "metadata": {
    "collapsed": false
   },
   "outputs": [
    {
     "name": "stdout",
     "output_type": "stream",
     "text": [
      "█\r"
     ]
    }
   ],
   "source": [
    "import io, os, subprocess, sys, re, codecs, time, datetime, requests, itchat\n",
    "from itchat.content import *\n",
    "from googleapiclient.discovery import build"
   ]
  },
  {
   "cell_type": "markdown",
   "metadata": {
    "collapsed": true
   },
   "source": [
    "### GCP Machine Learning API Key\n",
    "\n",
    "First, visit <a href=\"http://console.cloud.google.com/apis\">API console</a>, choose \"Credentials\" on the left-hand menu.  Choose \"Create Credentials\" and generate an API key for your application. You should probably restrict it by IP address to prevent abuse, but for now, just  leave that field blank and delete the API key after trying out this demo.\n",
    "\n",
    "Copy-paste your API Key here:"
   ]
  },
  {
   "cell_type": "code",
   "execution_count": 4,
   "metadata": {
    "collapsed": true
   },
   "outputs": [],
   "source": [
    "# Here I read in my own API_KEY from a file, which is not shared in Github repository:\n",
    "# with io.open('../../API_KEY.txt') as fp: \n",
    "#     for line in fp: APIKEY = line\n",
    "\n",
    "# You need to un-comment below line and replace 'APIKEY' variable with your own GCP API key:\n",
    "APIKEY='AIzaSyCvxxxxxxxxxxxxxxxxxxxxxxxxxxxxxxxx'"
   ]
  },
  {
   "cell_type": "code",
   "execution_count": 5,
   "metadata": {
    "collapsed": true
   },
   "outputs": [],
   "source": [
    "# Below is for Google Speech synthesis: text to voice API\n",
    "from gtts import gTTS\n",
    "\n",
    "# Below is for  Google Speech recognition: voice to text API\n",
    "speech_service = build('speech', 'v1', developerKey=APIKEY)\n",
    "\n",
    "# Below is for Google Language Tranlation API\n",
    "service = build('translate', 'v2', developerKey=APIKEY)"
   ]
  },
  {
   "cell_type": "markdown",
   "metadata": {},
   "source": [
    "### 多媒体二进制base64码转换 (Define image pre-processing functions)"
   ]
  },
  {
   "cell_type": "code",
   "execution_count": 6,
   "metadata": {
    "collapsed": true
   },
   "outputs": [],
   "source": [
    "# Import the base64 encoding library.\n",
    "import base64\n",
    "# Pass the image data to an encoding function.\n",
    "def encode_image(image_file):\n",
    "    with io.open(image_file, \"rb\") as image_file:\n",
    "        image_content = image_file.read()\n",
    "# Python 2\n",
    "    if sys.version_info[0] < 3:\n",
    "        return base64.b64encode(image_content)\n",
    "# Python 3\n",
    "    else:\n",
    "        return base64.b64encode(image_content).decode('utf-8')\n",
    "\n",
    "# Pass the audio data to an encoding function.\n",
    "def encode_audio(audio_file):\n",
    "    with io.open(audio_file, 'rb') as audio_file:\n",
    "        audio_content = audio_file.read()\n",
    "# Python 2\n",
    "    if sys.version_info[0] < 3:\n",
    "        return base64.b64encode(audio_content)\n",
    "# Python 3\n",
    "    else:\n",
    "        return base64.b64encode(audio_content).decode('utf-8')\n"
   ]
  },
  {
   "cell_type": "markdown",
   "metadata": {},
   "source": [
    "### 机器智能API接口控制参数 (Define control parameters for API)"
   ]
  },
  {
   "cell_type": "code",
   "execution_count": 7,
   "metadata": {
    "collapsed": true
   },
   "outputs": [],
   "source": [
    "# API control parameter for Image API:\n",
    "parm_image_maxResults = 10 # max objects or faces to be extracted from image analysis\n",
    "\n",
    "# API control parameter for Language Translation API:\n",
    "parm_translation_origin_language = 'zh' # original language in text: to be overwriten by TEXT_DETECTION\n",
    "parm_translation_target_language = 'zh' # target language for translation: Chinese\n",
    "\n",
    "\n",
    "# API control parameter for 消息文字转成语音 (Speech synthesis: text to voice)\n",
    "parm_speech_synthesis_language = 'zh' # speech synthesis API 'text to voice' language\n",
    "# parm_speech_synthesis_language = 'zh-tw' # speech synthesis API 'text to voice' language\n",
    "# parm_speech_synthesis_language = 'zh-yue' # speech synthesis API 'text to voice' language\n",
    "\n",
    "# API control parameter for 语音转换成消息文字 (Speech recognition: voice to text)\n",
    "# parm_speech_recognition_language = 'en' # speech API 'voice to text' language\n",
    "parm_speech_recognition_language = 'cmn-Hans-CN' # speech API 'voice to text' language"
   ]
  },
  {
   "cell_type": "markdown",
   "metadata": {
    "collapsed": true
   },
   "source": [
    "### * 消息文字转成语音 (Speech synthesis: text to voice)"
   ]
  },
  {
   "cell_type": "markdown",
   "metadata": {},
   "source": [
    "### Supported Languages  \n",
    "\n",
    "https://pypi.python.org/pypi/gTTS\n",
    "\n",
    "\n",
    "'**af**' : 'Afrikaans'  '**sq**' : 'Albanian'  '**ar**' : 'Arabic'  '**hy**' : 'Armenian'  '**bn**' : 'Bengali'  '**ca**' : 'Catalan'  '**zh**' : 'Chinese'  '**zh-cn**' : 'Chinese (Mandarin/China)'  '**zh-tw**' : 'Chinese (Mandarin/Taiwan)'  '**zh-yue**' : 'Chinese (Cantonese)'  '**hr**' : 'Croatian'  '**cs**' : 'Czech'  '**da**' : 'Danish'  '**nl**' : 'Dutch'  '**en**' : 'English'  '**en-au**' : 'English (Australia)'  '**en-uk**' : 'English (United Kingdom)'  '**en-us**' : 'English (United States)'  '**eo**' : 'Esperanto'  '**fi**' : 'Finnish'  '**fr**' : 'French'  '**de**' : 'German'  '**el**' : 'Greek'  '**hi**' : 'Hindi'  '**hu**' : 'Hungarian'  '**is**' : 'Icelandic'  '**id**' : 'Indonesian'  '**it**' : 'Italian'  '**ja**' : 'Japanese'  '**km**' : 'Khmer (Cambodian)'  '**ko**' : 'Korean'  '**la**' : 'Latin'  '**lv**' : 'Latvian'  '**mk**' : 'Macedonian'  '**no**' : 'Norwegian'  '**pl**' : 'Polish'  '**pt**' : 'Portuguese'  '**ro**' : 'Romanian'  '**ru**' : 'Russian'  '**sr**' : 'Serbian'  '**si**' : 'Sinhala'  '**sk**' : 'Slovak'  '**es**' : 'Spanish'  '**es-es**' : 'Spanish (Spain)'  '**es-us**' : 'Spanish (United States)'  '**sw**' : 'Swahili'  '**sv**' : 'Swedish'  '**ta**' : 'Tamil'  '**th**' : 'Thai'  '**tr**' : 'Turkish'  '**uk**' : 'Ukrainian'  '**vi**' : 'Vietnamese'  '**cy**' : 'Welsh'\n"
   ]
  },
  {
   "cell_type": "code",
   "execution_count": 8,
   "metadata": {
    "collapsed": true
   },
   "outputs": [],
   "source": [
    "# Running Speech API\n",
    "def KudosData_text_to_voice(text2voice): \n",
    "    # Python 2\n",
    "    if sys.version_info[0] < 3: \n",
    "        tts = gTTS(text=text2voice.encode('utf-8'), lang=parm_speech_synthesis_language, slow=False)\n",
    "    # Python 3\n",
    "    else:\n",
    "        tts = gTTS(text=text2voice, lang=parm_speech_synthesis_language, slow=False)\n",
    "\n",
    "    text2voiceMP3name = 'Voice_For_You.mp3'\n",
    "    tts.save(text2voiceMP3name)\n",
    "    print('\\nCompeleted: Speech synthesis API ( Text -> Voice)')\n",
    "    print(text2voice)\n",
    "    return text2voiceMP3name"
   ]
  },
  {
   "cell_type": "markdown",
   "metadata": {
    "collapsed": true
   },
   "source": [
    "### * 语音转换成消息文字 (Speech recognition: voice to text)\n",
    "\n",
    "The Speech API can work on streaming data, audio content encoded and embedded directly into the POST message, or on a file on Cloud Storage."
   ]
  },
  {
   "cell_type": "markdown",
   "metadata": {},
   "source": [
    "### Supported Languages  \n",
    "\n",
    "https://cloud.google.com/speech/docs/languages\n",
    "\n",
    "\n",
    "'**af-ZA**' 'Afrikaans (South Africa)' '**id-ID**' 'Indonesian (Indonesia)' '**ms-MY**' 'Malay (Malaysia)' '**ca-ES**' 'Catalan (Spain)' '**cs-CZ**' 'Czech (Czech Republic)' '**da-DK**' 'Danish (Denmark)' '**de-DE**' 'German (Germany)' '**en-AU**' 'English (Australia)' '**en-CA**' 'English (Canada)' '**en-GB**' 'English (United Kingdom)' '**en-IN**' 'English (India)' '**en-IE**' 'English (Ireland)' '**en-NZ**' 'English (New Zealand)' '**en-PH**' 'English (Philippines)' '**en-ZA**' 'English (South Africa)' '**en-US**' 'English (United States)' '**es-AR**' 'Spanish (Argentina)' '**es-BO**' 'Spanish (Bolivia)' '**es-CL**' 'Spanish (Chile)' '**es-CO**' 'Spanish (Colombia)' '**es-CR**' 'Spanish (Costa Rica)' '**es-EC**' 'Spanish (Ecuador)' '**es-SV**' 'Spanish (El Salvador)' '**es-ES**' 'Spanish (Spain)' '**es-US**' 'Spanish (United States)' '**es-GT**' 'Spanish (Guatemala)' '**es-HN**' 'Spanish (Honduras)' '**es-MX**' 'Spanish (Mexico)' '**es-NI**' 'Spanish (Nicaragua)' '**es-PA**' 'Spanish (Panama)' '**es-PY**' 'Spanish (Paraguay)' '**es-PE**' 'Spanish (Peru)' '**es-PR**' 'Spanish (Puerto Rico)' '**es-DO**' 'Spanish (Dominican Republic)' '**es-UY**' 'Spanish (Uruguay)' '**es-VE**' 'Spanish (Venezuela)' '**eu-ES**' 'Basque (Spain)' '**fil-PH**' 'Filipino (Philippines)' '**fr-CA**' 'French (Canada)' '**fr-FR**' 'French (France)' '**gl-ES**' 'Galician (Spain)' '**hr-HR**' 'Croatian (Croatia)' '**zu-ZA**' 'Zulu (South Africa)' '**is-IS**' 'Icelandic (Iceland)' '**it-IT**' 'Italian (Italy)' '**lt-LT**' 'Lithuanian (Lithuania)' '**hu-HU**' 'Hungarian (Hungary)' '**nl-NL**' 'Dutch (Netherlands)' '**nb-NO**' 'Norwegian Bokmål (Norway)' '**pl-PL**' 'Polish (Poland)' '**pt-BR**' 'Portuguese (Brazil)' '**pt-PT**' 'Portuguese (Portugal)' '**ro-RO**' 'Romanian (Romania)' '**sk-SK**' 'Slovak (Slovakia)' '**sl-SI**' 'Slovenian (Slovenia)' '**fi-FI**' 'Finnish (Finland)' '**sv-SE**' 'Swedish (Sweden)' '**vi-VN**' 'Vietnamese (Vietnam)' '**tr-TR**' 'Turkish (Turkey)' '**el-GR**' 'Greek (Greece)' '**bg-BG**' 'Bulgarian (Bulgaria)' '**ru-RU**' 'Russian (Russia)' '**sr-RS**' 'Serbian (Serbia)' '**uk-UA**' 'Ukrainian (Ukraine)' '**he-IL**' 'Hebrew (Israel)' '**ar-IL**' 'Arabic (Israel)' '**ar-JO**' 'Arabic (Jordan)' '**ar-AE**' 'Arabic (United Arab Emirates)' '**ar-BH**' 'Arabic (Bahrain)' '**ar-DZ**' 'Arabic (Algeria)' '**ar-SA**' 'Arabic (Saudi Arabia)' '**ar-IQ**' 'Arabic (Iraq)' '**ar-KW**' 'Arabic (Kuwait)' '**ar-MA**' 'Arabic (Morocco)' '**ar-TN**' 'Arabic (Tunisia)' '**ar-OM**' 'Arabic (Oman)' '**ar-PS**' 'Arabic (State of Palestine)' '**ar-QA**' 'Arabic (Qatar)' '**ar-LB**' 'Arabic (Lebanon)' '**ar-EG**' 'Arabic (Egypt)' '**fa-IR**' 'Persian (Iran)' '**hi-IN**' 'Hindi (India)' '**th-TH**' 'Thai (Thailand)' '**ko-KR**' 'Korean (South Korea)' '**cmn-Hant-TW**' 'Chinese, Mandarin (Traditional, Taiwan)' '**yue-Hant-HK**' 'Chinese, Cantonese (Traditional, Hong Kong)' '**ja-JP**' 'Japanese (Japan)' '**cmn-Hans-HK**' 'Chinese, Mandarin (Simplified, Hong Kong)' '**cmn-Hans-CN**' 'Chinese, Mandarin (Simplified, China)' "
   ]
  },
  {
   "cell_type": "code",
   "execution_count": 9,
   "metadata": {
    "collapsed": true
   },
   "outputs": [],
   "source": [
    "#    msg.download(msg.fileName)\n",
    "#    print('\\nDownloaded image file name is: %s' % msg['FileName'])\n",
    "\n",
    "#    audio_file_input = msg['FileName']\n",
    "#    audio_type = ['flac', 'wav']\n",
    "\n",
    "# Running Speech API\n",
    "def KudosData_voice_to_text(audio_file_input, audio_type):\n",
    "    audio_file_output = str(audio_file_input) + '.' + str(audio_type)\n",
    "#     print('audio_file_input             : %s' % audio_file_input)\n",
    "    print('Converted  audio file for API: %s' % audio_file_output)\n",
    "    \n",
    "    # convert mp3 file to target GCP audio file:\n",
    "\n",
    "# remove audio_file_output, is exist\n",
    "    retcode = subprocess.call(['rm', audio_file_output])\n",
    "    # print(retcode)\n",
    "    \n",
    "    if parm_runtime_env_GCP: # using Datalab in Google Cloud Platform\n",
    "        # GCP: use avconv to convert audio\n",
    "        retcode = subprocess.call(['avconv', '-i', audio_file_input, '-ac', '1', audio_file_output])\n",
    "    else: # using a Kudos Data Virtual Machine, or local machine\n",
    "        # VM : use ffmpeg to convert audio\n",
    "        retcode = subprocess.call(['ffmpeg', '-i', audio_file_input, '-ac', '1', audio_file_output])\n",
    "    # print(retcode)\n",
    "\n",
    "    # Call GCP Speech API:\n",
    "    # response = speech_service.speech().syncrecognize(\n",
    "    response = speech_service.speech().recognize(\n",
    "        body={\n",
    "            'config': {\n",
    "#                 'encoding': 'LINEAR16',\n",
    "#                 'sampleRateHertz': 16000,\n",
    "                'languageCode': parm_speech_recognition_language\n",
    "            },\n",
    "            'audio': {\n",
    "                'content': encode_audio(audio_file_output) # base64 of converted audio file, for speech recognition\n",
    "                }\n",
    "            }).execute()    \n",
    "    print('Compeleted: Speech recognition API ( Voice -> Text )')\n",
    "    return response"
   ]
  },
  {
   "cell_type": "markdown",
   "metadata": {
    "collapsed": true
   },
   "source": [
    "### * 消息文字的多语言互译 (Text based language translation)"
   ]
  },
  {
   "cell_type": "markdown",
   "metadata": {},
   "source": [
    "### Supported Languages  \n",
    "\n",
    "https://cloud.google.com/translate/docs/languages\n",
    "\n",
    "\n",
    "'**af**' 'Afrikaans' '**sq**' 'Albanian' '**am**' 'Amharic' '**ar**' 'Arabic' '**hy**' 'Armenian' '**az**' 'Azeerbaijani' '**eu**' 'Basque' '**be**' 'Belarusian' '**bn**' 'Bengali' '**bs**' 'Bosnian' '**bg**' 'Bulgarian' '**ca**' 'Catalan' '**ceb** (ISO-639-2)' 'Cebuano' '**ny**' 'Chichewa' '**zh-CN** (BCP-47)' 'Chinese (Simplified)' '**zh-TW** (BCP-47)' 'Chinese (Traditional)' '**co**' 'Corsican' '**hr**' 'Croatian' '**cs**' 'Czech' '**da**' 'Danish' '**nl**' 'Dutch' '**en**' 'English' '**eo**' 'Esperanto' '**et**' 'Estonian' '**tl**' 'Filipino' '**fi**' 'Finnish' '**fr**' 'French' '**fy**' 'Frisian' '**gl**' 'Galician' '**ka**' 'Georgian' '**de**' 'German' '**el**' 'Greek' '**gu**' 'Gujarati' '**ht**' 'Haitian Creole' '**ha**' 'Hausa' '**haw** (ISO-639-2)' 'Hawaiian' '**iw**' 'Hebrew' '**hi**' 'Hindi' '**hmn** (ISO-639-2)' 'Hmong' '**hu**' 'Hungarian' '**is**' 'Icelandic' '**ig**' 'Igbo' '**id**' 'Indonesian' '**ga**' 'Irish' '**it**' 'Italian' '**ja**' 'Japanese' '**jw**' 'Javanese' '**kn**' 'Kannada' '**kk**' 'Kazakh' '**km**' 'Khmer' '**ko**' 'Korean' '**ku**' 'Kurdish' '**ky**' 'Kyrgyz' '**lo**' 'Lao' '**la**' 'Latin' '**lv**' 'Latvian' '**lt**' 'Lithuanian' '**lb**' 'Luxembourgish' '**mk**' 'Macedonian' '**mg**' 'Malagasy' '**ms**' 'Malay' '**ml**' 'Malayalam' '**mt**' 'Maltese' '**mi**' 'Maori' '**mr**' 'Marathi' '**mn**' 'Mongolian' '**my**' 'Burmese' '**ne**' 'Nepali' '**no**' 'Norwegian' '**ps**' 'Pashto' '**fa**' 'Persian' '**pl**' 'Polish' '**pt**' 'Portuguese' '**ma**' 'Punjabi' '**ro**' 'Romanian' '**ru**' 'Russian' '**sm**' 'Samoan' '**gd**' 'Scots Gaelic' '**sr**' 'Serbian' '**st**' 'Sesotho' '**sn**' 'Shona' '**sd**' 'Sindhi' '**si**' 'Sinhala' '**sk**' 'Slovak' '**sl**' 'Slovenian' '**so**' 'Somali' '**es**' 'Spanish' '**su**' 'Sundanese' '**sw**' 'Swahili' '**sv**' 'Swedish' '**tg**' 'Tajik' '**ta**' 'Tamil' '**te**' 'Telugu' '**th**' 'Thai' '**tr**' 'Turkish' '**uk**' 'Ukrainian' '**ur**' 'Urdu' '**uz**' 'Uzbek' '**vi**' 'Vietnamese' '**cy**' 'Welsh' '**xh**' 'Xhosa' '**yi**' 'Yiddish' '**yo**' 'Yoruba' '**zu**' 'Zulu' "
   ]
  },
  {
   "cell_type": "code",
   "execution_count": 10,
   "metadata": {
    "collapsed": true
   },
   "outputs": [],
   "source": [
    "def KudosData_TEXT_TRANSLATION(text, origin_language_code, target_language_code):\n",
    "    # Call translation if parm_translation_origin_language is not parm_translation_target_language\n",
    "    if origin_language_code != target_language_code:\n",
    "        outputs = service.translations().list(source=origin_language_code, \n",
    "                                              target=target_language_code, q=text).execute()\n",
    "        translated_text = ''\n",
    "        translated_text += u'---- Start Translation ----\\n'\n",
    "        translated_text += u'( Origin Lang 原文: ' + origin_language_code + ' )\\n'\n",
    "        translated_text += u'( Target Lang 译文: ' + target_language_code + ' )\\n'\n",
    "        translated_text += outputs['translations'][0]['translatedText'] + '\\n' + '----- End Translation -----\\n'\n",
    "        print('Compeleted: Translation    API : From Language \\'%s\\' to \\'%s\\'' \n",
    "              % (origin_language_code, target_language_code))\n",
    "    else:\n",
    "        translated_text = text\n",
    "        \n",
    "    return translated_text"
   ]
  },
  {
   "cell_type": "markdown",
   "metadata": {},
   "source": [
    "### 用微信App扫QR码图片来自动登录"
   ]
  },
  {
   "cell_type": "code",
   "execution_count": 11,
   "metadata": {
    "collapsed": true
   },
   "outputs": [],
   "source": [
    "itchat.auto_login(hotReload=True) # hotReload=True: 退出程序后暂存登陆状态。即使程序关闭，一定时间内重新开启也可以不用重新扫码。"
   ]
  },
  {
   "cell_type": "code",
   "execution_count": 12,
   "metadata": {
    "collapsed": true
   },
   "outputs": [],
   "source": [
    "# Obtain my own Nick Name\n",
    "MySelf = itchat.search_friends()\n",
    "NickName4RegEx = '@' + MySelf['NickName'] + '\\s*'"
   ]
  },
  {
   "cell_type": "code",
   "execution_count": null,
   "metadata": {
    "collapsed": true
   },
   "outputs": [],
   "source": [
    "# 1. 消息文字转成语音 (Speech synthesis: text to voice)\n",
    "\n",
    "# 在群里，如果收到 @ 自己的文字信息，会自动将文字转换成语音，再以 mp3 文件方式发送回复：\n",
    "@itchat.msg_register(TEXT, isGroupChat=True)\n",
    "def text_to_voice_reply(msg):\n",
    "    if msg['isAt']:\n",
    "        # Remove my own Nick Name from message:\n",
    "        text2voice = re.sub(NickName4RegEx, '', msg['Content'])\n",
    "        text2voiceMP3name = KudosData_text_to_voice(text2voice)\n",
    "        itchat.send('@%s@%s' % ('fil', text2voiceMP3name), msg['FromUserName'])"
   ]
  },
  {
   "cell_type": "code",
   "execution_count": 13,
   "metadata": {
    "collapsed": true
   },
   "outputs": [],
   "source": [
    "# 2. 语音转换成消息文字 (Speech recognition: voice to text)\n",
    "\n",
    "@itchat.msg_register([RECORDING], isGroupChat=True)\n",
    "@itchat.msg_register([RECORDING])\n",
    "def download_files(msg):\n",
    "    parm_translation_origin_language = 'zh' # will be overwriten by TEXT_DETECTION\n",
    "    msg.download(msg.fileName)\n",
    "    print('\\nDownloaded audio file name is: %s' % msg['FileName'])\n",
    "    \n",
    "    ##############################################################################################################\n",
    "    #                                          call audio analysis APIs                                          #\n",
    "    ##############################################################################################################\n",
    "    \n",
    "    audio_analysis_reply = u'[ Audio Analysis 音频处理结果 ]\\n'\n",
    "\n",
    "    # Voice to Text:\n",
    "    audio_analysis_reply += u'\\n[ Voice -> Text 语音识别 ]\\n'\n",
    "    response = KudosData_voice_to_text(msg['FileName'], 'flac')\n",
    "#     response = KudosData_voice_to_text(msg['FileName'], 'wav')\n",
    "    if response != {}:\n",
    "        print (response['results'][0]['alternatives'][0]['transcript'])\n",
    "        print ('( confidence %f )' % response['results'][0]['alternatives'][0]['confidence'])\n",
    "        audio_analysis_reply += response['results'][0]['alternatives'][0]['transcript'] + '\\n'\n",
    "        audio_analysis_reply += '( confidence ' + str(response['results'][0]['alternatives'][0]['confidence']) + ' )\\n'\n",
    "        # Translate recognised text to another language:\n",
    "        parm_translation_origin_language = 'zh'\n",
    "        parm_translation_target_language = 'en'\n",
    "        translated_text_reply = KudosData_TEXT_TRANSLATION(response['results'][0]['alternatives'][0]['transcript'], \n",
    "                                                           parm_translation_origin_language, parm_translation_target_language)\n",
    "        print(translated_text_reply)\n",
    "        audio_analysis_reply += translated_text_reply\n",
    "    \n",
    "    return audio_analysis_reply"
   ]
  },
  {
   "cell_type": "code",
   "execution_count": null,
   "metadata": {
    "collapsed": true
   },
   "outputs": [],
   "source": [
    "# 3. 消息文字的多语言互译 (Text based language translation)\n",
    "\n",
    "# 在群里，如果收到 @ 自己的文字信息，会自动进行文字翻译，再发送回复：\n",
    "@itchat.msg_register(TEXT, isGroupChat=True)\n",
    "def text_to_translation_reply(msg):\n",
    "    if msg['isAt']:\n",
    "        text4translation = re.sub(NickName4RegEx, '', msg['Content'])\n",
    "        parm_translation_origin_language = 'zh'\n",
    "        parm_translation_target_language = 'en'\n",
    "        translated_text_reply = KudosData_TEXT_TRANSLATION(text4translation, \n",
    "                                                           parm_translation_origin_language, parm_translation_target_language)\n",
    "        print(translated_text_reply)\n",
    "        return translated_text_reply"
   ]
  },
  {
   "cell_type": "markdown",
   "metadata": {},
   "source": [
    "Combined: \n",
    "* 消息文字转成语音 (Speech synthesis: text to voice)\n",
    "* 消息文字的多语言互译 (Text based language translation)"
   ]
  },
  {
   "cell_type": "code",
   "execution_count": 14,
   "metadata": {
    "collapsed": true
   },
   "outputs": [],
   "source": [
    "@itchat.msg_register(TEXT, isGroupChat=True)\n",
    "def text_reply(msg):\n",
    "    if msg['isAt']:\n",
    "        # 1. 消息文字转成语音 (Speech synthesis: text to voice)\n",
    "        text2voice = re.sub(NickName4RegEx, '', msg['Content']) # Remove my own Nick Name from message\n",
    "        text2voiceMP3name = KudosData_text_to_voice(text2voice)\n",
    "        itchat.send('@%s@%s' % ('fil', text2voiceMP3name), msg['FromUserName'])\n",
    "        # 3. 消息文字的多语言互译 (Text based language translation)\n",
    "        text4translation = re.sub(NickName4RegEx, '', msg['Content'])\n",
    "        parm_translation_origin_language = 'zh'\n",
    "        parm_translation_target_language = 'en'\n",
    "        translated_text_reply = KudosData_TEXT_TRANSLATION(text4translation, \n",
    "                                                           parm_translation_origin_language, parm_translation_target_language)\n",
    "        print(translated_text_reply)\n",
    "        return translated_text_reply"
   ]
  },
  {
   "cell_type": "code",
   "execution_count": 15,
   "metadata": {
    "collapsed": false,
    "scrolled": false
   },
   "outputs": [
    {
     "name": "stderr",
     "output_type": "stream",
     "text": [
      "Start auto replying.\n"
     ]
    },
    {
     "name": "stdout",
     "output_type": "stream",
     "text": [
      "\n",
      "Compeleted: Speech synthesis API ( Text -> Voice)\n",
      " 张学友的夕阳醉了。夕阳醉了，落霞醉了，任谁都掩饰不了。因我的心，因我的心，早醉掉。是谁带笑，是谁带俏。默然将心偷取了。酒醉的心，酒醉的心，被燃烧。唯愿心底一个梦，变真。\n",
      "Compeleted: Translation    API : From Language 'zh' to 'en'\n",
      "---- Start Translation ----\n",
      "( Origin Lang 原文: zh )\n",
      "( Target Lang 译文: en )\n",
      "Jacky Cheung&#39;s sunset drunk. Sunset drunk, drop drunk, any who can not cover up. Because of my heart, because of my heart, early drunk. Who is laughing, who is with Qiao. Silently steal the heart. Drunk heart, drunk heart, burned. Is willing to mind a dream, real.\n",
      "----- End Translation -----\n",
      "\n"
     ]
    },
    {
     "name": "stderr",
     "output_type": "stream",
     "text": [
      "Bye~\n"
     ]
    }
   ],
   "source": [
    "itchat.run()"
   ]
  },
  {
   "cell_type": "code",
   "execution_count": 42,
   "metadata": {
    "collapsed": false
   },
   "outputs": [
    {
     "data": {
      "text/plain": [
       "<ItchatReturnValue: {'BaseResponse': {'Ret': 0, 'ErrMsg': u'\\u8bf7\\u6c42\\u6210\\u529f', 'RawMsg': 'logout successfully.'}}>"
      ]
     },
     "execution_count": 42,
     "metadata": {},
     "output_type": "execute_result"
    }
   ],
   "source": [
    "# interupt kernel, then logout\n",
    "itchat.logout() # 安全退出"
   ]
  },
  {
   "cell_type": "markdown",
   "metadata": {},
   "source": [
    "### 恭喜您！已经完成了：\n",
    "### 第三课：自然语言处理：语音合成和识别\n",
    "### Lesson 3: Natural Language Processing 1\n",
    "* 消息文字转成语音 (Speech synthesis: text to voice)\n",
    "* 语音转换成消息文字 (Speech recognition: voice to text)\n",
    "* 消息文字的多语言互译 (Text based language translation)"
   ]
  },
  {
   "cell_type": "markdown",
   "metadata": {},
   "source": [
    "### 下一课是:\n",
    "### 第四课：自然语言处理：语义和情感分析\n",
    "### Lesson 4: Natural Language Processing 2\n",
    "* 消息文字中名称实体的识别 (Name-Entity detection)\n",
    "* 消息文字中语句的情感分析 (Sentiment analysis, Sentence level)\n",
    "* 整篇消息文字的情感分析 (Sentiment analysis, Document level)\n",
    "* 语句的语法分析 (Syntax / Grammar analysis)"
   ]
  },
  {
   "cell_type": "markdown",
   "metadata": {},
   "source": [
    "<img src='http://www.kudosdata.com/wp-content/uploads/2016/11/cropped-KudosLogo1.png' width=30% style=\"float: right;\">\n",
    "<img src='reference/WeChat_SamGu_QR.png' width=10% style=\"float: left;\">\n",
    "\n"
   ]
  }
 ],
 "metadata": {
  "kernelspec": {
   "display_name": "Python 3",
   "language": "python",
   "name": "python3"
  },
  "language_info": {
   "codemirror_mode": {
    "name": "ipython",
    "version": 3
   },
   "file_extension": ".py",
   "mimetype": "text/x-python",
   "name": "python",
   "nbconvert_exporter": "python",
   "pygments_lexer": "ipython3",
   "version": "3.5.1"
  }
 },
 "nbformat": 4,
 "nbformat_minor": 2
}
